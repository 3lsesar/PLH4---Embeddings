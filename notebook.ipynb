{
 "cells": [
  {
   "cell_type": "markdown",
   "metadata": {},
   "source": [
    "# PLH - 4th delivery\n",
    "---\n",
    "Made by **[César Mejía Rota]()**."
   ]
  },
  {
   "cell_type": "markdown",
   "metadata": {},
   "source": [
    "## Imports and installs\n",
    "---"
   ]
  },
  {
   "cell_type": "code",
   "execution_count": null,
   "metadata": {},
   "outputs": [],
   "source": [
    "%pip install datasets\n",
    "%pip install tensorflow\n",
    "%pip install numpy\n",
    "%pip install spacy\n",
    "%pip install scipy==1.10.1\n",
    "%pip install gensim\n",
    "%pip install sckit-learn\n",
    "%pip install torch\n",
    "%pip install matplotlib\n",
    "%pip install plotly\n",
    "%pip install pandas\n",
    "%pip install nbformat>=4.2.0\n",
    "%pip install transformers"
   ]
  },
  {
   "cell_type": "code",
   "execution_count": null,
   "metadata": {},
   "outputs": [],
   "source": [
    "from catalan_general_crawling.catalan_general_crawling import CatalanGeneralCrawling\n",
    "import sys\n",
    "\n",
    "from gensim.utils import simple_preprocess\n",
    "from gensim.models import Word2Vec, TfidfModel\n",
    "from gensim.corpora import Dictionary\n",
    "\n",
    "import numpy as np\n",
    "import pandas as pd\n",
    "from scipy import spatial\n",
    "from typing import Tuple, List\n",
    "\n",
    "from gensim.models import fasttext\n",
    "import tensorflow as tf\n",
    "\n",
    "from scipy.stats import pearsonr"
   ]
  },
  {
   "cell_type": "markdown",
   "metadata": {},
   "source": [
    "## Word2Vec models (Skip-gram)\n",
    "---"
   ]
  },
  {
   "cell_type": "markdown",
   "metadata": {},
   "source": [
    "### Split the data in different size datasets (100MB, 500MB, 1GB and complete dataset)"
   ]
  },
  {
   "cell_type": "code",
   "execution_count": null,
   "metadata": {},
   "outputs": [],
   "source": [
    "# 1. Load the dataset\n",
    "crawler = CatalanGeneralCrawling()\n",
    "crawler.download_and_prepare()\n",
    "dataset = crawler.as_dataset(split = 'train')\n"
   ]
  },
  {
   "cell_type": "code",
   "execution_count": null,
   "metadata": {},
   "outputs": [],
   "source": [
    "size100MB = 100 * 1024 * 1024\n",
    "size500MB = 500 * 1024 * 1024\n",
    "size1GB = 1024 * 1024 * 1024"
   ]
  },
  {
   "cell_type": "code",
   "execution_count": null,
   "metadata": {},
   "outputs": [],
   "source": [
    "size = 0\n",
    "current_lines = []\n",
    "\n",
    "cat_crawler_100mb = []\n",
    "cat_crawler_500mb = []\n",
    "cat_crawler_1gb = []\n",
    "cat_crawler_full = []\n",
    "\n",
    "# Split the dataset\n",
    "for elem in dataset:\n",
    "    text = elem['text']\n",
    "    line_size = sys.getsizeof(text + '\\n')\n",
    "    size += line_size\n",
    "    text = text.replace('\\n', ' ')\n",
    "    current_lines.append(text)\n",
    "\n",
    "    if size >= size100MB and cat_crawler_100mb == []:\n",
    "        cat_crawler_100mb = current_lines\n",
    "        print(\"100MB reached\")\n",
    "        print(\"Size: \", size/1024/1024, \"MB\")\n",
    "    if size >= size500MB and cat_crawler_500mb == []:\n",
    "        cat_crawler_500mb = current_lines\n",
    "        print(\"500MB reached\")\n",
    "        print(\"Size: \", size/1024/1024, \"MB\")\n",
    "    if size >= size1GB and cat_crawler_1gb == []:\n",
    "        cat_crawler_1gb = current_lines\n",
    "        print(\"1GB reached\")\n",
    "        print(\"Size: \", size/1024/1024, \"MB\")\n",
    "\n",
    "\n",
    "cat_crawler_full = current_lines\n",
    "print(\"Full dataset reached\")\n",
    "print(\"Full dataset size: \", size/1024/1024, \"MB\")\n",
    "\n"
   ]
  },
  {
   "cell_type": "markdown",
   "metadata": {},
   "source": [
    "Now we preprocess the text"
   ]
  },
  {
   "cell_type": "code",
   "execution_count": null,
   "metadata": {},
   "outputs": [],
   "source": [
    "#stopwords from https://github.com/Alir3z4/stop-words/blob/master/catalan.txt\n",
    "stopwords_cat = set()\n",
    "with open('catalan_stopwords.txt', encoding = 'utf-8') as f:\n",
    "    for line in f:\n",
    "        stopwords_cat.add(line.strip())"
   ]
  },
  {
   "cell_type": "code",
   "execution_count": null,
   "metadata": {},
   "outputs": [],
   "source": [
    "# Define preprocessing\n",
    "def preprocess(sentence: str) -> List[str]:\n",
    "    '''\n",
    "    Preprocesses a sentence by tokenizing it and removing stopwords\n",
    "    :param sentence: the sentence to preprocess\n",
    "    :return: the preprocessed sentence\n",
    "    '''\n",
    "    preprocessed = simple_preprocess(sentence)\n",
    "    preprocessed = [token for token in preprocessed if token not in stopwords_cat]\n",
    "    return preprocessed"
   ]
  },
  {
   "cell_type": "markdown",
   "metadata": {},
   "source": [
    "Now we train the model"
   ]
  },
  {
   "cell_type": "code",
   "execution_count": null,
   "metadata": {},
   "outputs": [],
   "source": [
    "def train_word2vec_skipgram(dataset, vector_size=300, workers=4, sg=1):\n",
    "    '''\n",
    "    Trains a Word2Vec model with the Skipgram architecture\n",
    "    :param dataset: the dataset to train the model on\n",
    "    :param vector_size: the size of the word vectors\n",
    "    :param workers: the number of workers (theads) to use\n",
    "    :param sg: the architecture to use (0 for CBOW, 1 for Skipgram)\n",
    "    :return: the trained Word2Vec model\n",
    "    '''\n",
    "    print(\"Training Word2Vec model with Skipgram\")\n",
    "    print('Reading and preprocessing dataset...')\n",
    "    dataset = [preprocess(sentence) for sentence in dataset]\n",
    "    print('Dataset preprocessed')\n",
    "    print('Training Word2Vec model...')\n",
    "    model = Word2Vec(sentences=dataset, vector_size=vector_size, workers=workers, sg=sg)\n",
    "    return model\n",
    "\n",
    "def train_word2vec_CBOW(dataset, vector_size=300, workers=4, sg=0):\n",
    "    '''\n",
    "    Trains a Word2Vec model with the Skipgram architecture\n",
    "    :param dataset: the dataset to train the model on\n",
    "    :param vector_size: the size of the word vectors\n",
    "    :param workers: the number of workers (theads) to use\n",
    "    :param sg: the architecture to use (0 for CBOW, 1 for Skipgram)\n",
    "    :return: the trained Word2Vec model\n",
    "    '''\n",
    "    print(\"Training Word2Vec model with CBOW\")\n",
    "    print('Reading and preprocessing dataset...')\n",
    "    dataset = [preprocess(sentence) for sentence in dataset]\n",
    "    print('Dataset preprocessed')\n",
    "    print('Training Word2Vec model...')\n",
    "    model = Word2Vec(sentences=dataset, vector_size=vector_size, workers=workers, sg=sg)\n",
    "    return model"
   ]
  },
  {
   "cell_type": "code",
   "execution_count": null,
   "metadata": {},
   "outputs": [],
   "source": [
    "preprocessed_cat_crawler_100mb = [preprocess(sentence) for sentence in cat_crawler_100mb]"
   ]
  },
  {
   "cell_type": "code",
   "execution_count": null,
   "metadata": {},
   "outputs": [],
   "source": [
    "model = Word2Vec(sentences=preprocessed_cat_crawler_100mb, vector_size=100, workers=4, sg=1)"
   ]
  },
  {
   "cell_type": "code",
   "execution_count": null,
   "metadata": {},
   "outputs": [],
   "source": [
    "model_skipgram_100mb = Word2Vec(sentences=preprocessed_cat_crawler_100mb, vector_size=300, workers=4, sg=1)"
   ]
  },
  {
   "cell_type": "code",
   "execution_count": null,
   "metadata": {},
   "outputs": [],
   "source": [
    "model_skipgram_100MB = train_word2vec_skipgram(cat_crawler_100mb)"
   ]
  },
  {
   "cell_type": "code",
   "execution_count": null,
   "metadata": {},
   "outputs": [],
   "source": [
    "model_skipgram_500MB = train_word2vec_skipgram(cat_crawler_500mb)"
   ]
  },
  {
   "cell_type": "code",
   "execution_count": null,
   "metadata": {},
   "outputs": [],
   "source": [
    "model_skipgram_1GB = train_word2vec_skipgram(cat_crawler_1gb)"
   ]
  },
  {
   "cell_type": "code",
   "execution_count": null,
   "metadata": {},
   "outputs": [],
   "source": [
    "model_skipgram_full = train_word2vec_skipgram(cat_crawler_full)"
   ]
  },
  {
   "cell_type": "code",
   "execution_count": null,
   "metadata": {},
   "outputs": [],
   "source": [
    "def save_model(model, path):\n",
    "    '''\n",
    "    Saves a Word2Vec model to a file\n",
    "    :param model: the model to save\n",
    "    :param path: the path to save the model to\n",
    "    '''\n",
    "    model.save(path)"
   ]
  },
  {
   "cell_type": "code",
   "execution_count": null,
   "metadata": {},
   "outputs": [],
   "source": [
    "#save model in the folder models_word2vec_cat\n",
    "save_model(model_skipgram_100MB, 'models_word2vec_cat/model_skipgram_100MB')"
   ]
  },
  {
   "cell_type": "markdown",
   "metadata": {},
   "source": [
    "## Text Similarity\n",
    "---"
   ]
  },
  {
   "cell_type": "code",
   "execution_count": null,
   "metadata": {},
   "outputs": [],
   "source": [
    "WORD_EMBEDDING_FILE = 'D:/GitHub/PLH4---Embeddings/cc.ca.300.bin.gz'"
   ]
  },
  {
   "cell_type": "code",
   "execution_count": null,
   "metadata": {},
   "outputs": [],
   "source": [
    "\n",
    "wv_model = fasttext.load_facebook_vectors(WORD_EMBEDDING_FILE)"
   ]
  },
  {
   "cell_type": "code",
   "execution_count": null,
   "metadata": {},
   "outputs": [],
   "source": [
    "dataset = {}\n",
    "\n",
    "dataset['train'] = pd.read_csv('train.tsv', sep='\\t', header=None, names=['elim','frase1', 'frase2', 'label'])\n",
    "dataset['test'] = pd.read_csv('test.tsv', sep='\\t', header=None, names=['elim','frase1', 'frase2', 'label'])\n",
    "dataset['validation'] = pd.read_csv('dev.tsv', sep='\\t', header=None, names=['elim','frase1', 'frase2', 'label'])"
   ]
  },
  {
   "cell_type": "code",
   "execution_count": null,
   "metadata": {},
   "outputs": [],
   "source": [
    "dataset['train']"
   ]
  },
  {
   "cell_type": "code",
   "execution_count": null,
   "metadata": {},
   "outputs": [],
   "source": [
    "#eliminem la primera columna\n",
    "for split in ['train', 'test', 'validation']:\n",
    "    dataset[split] = dataset[split].drop(columns=['elim'])"
   ]
  },
  {
   "cell_type": "code",
   "execution_count": null,
   "metadata": {},
   "outputs": [],
   "source": [
    "dataset['train']"
   ]
  },
  {
   "cell_type": "code",
   "execution_count": null,
   "metadata": {},
   "outputs": [],
   "source": [
    "input_pairs = []\n",
    "for index, row in dataset['train'].iterrows():\n",
    "    input_pairs.append((row['frase1'], row['frase2'], row['label']))\n",
    "\n",
    "input_pairs_val = []\n",
    "for index, row in dataset['validation'].iterrows():\n",
    "    input_pairs_val.append((row['frase1'], row['frase2'], row['label']))\n",
    "\n",
    "input_pairs_test = []\n",
    "for index, row in dataset['test'].iterrows():\n",
    "    input_pairs_test.append((row['frase1'], row['frase2'], row['label']))"
   ]
  },
  {
   "cell_type": "code",
   "execution_count": null,
   "metadata": {},
   "outputs": [],
   "source": [
    "all_input_pairs = input_pairs + input_pairs_val + input_pairs_test\n",
    "# Preprocesamiento de las oraciones y creación del diccionario\n",
    "sentences_1_preproc = [simple_preprocess(sentence_1) for sentence_1, _, _ in all_input_pairs]\n",
    "sentences_2_preproc = [simple_preprocess(sentence_2) for _, sentence_2, _ in all_input_pairs]\n",
    "sentence_pairs = list(zip(sentences_1_preproc, sentences_2_preproc))\n",
    "# Versión aplanada para poder entrenar el modelo\n",
    "sentences_pairs_flattened = sentences_1_preproc + sentences_2_preproc\n",
    "diccionario = Dictionary(sentences_pairs_flattened)\n",
    "\n"
   ]
  },
  {
   "cell_type": "code",
   "execution_count": null,
   "metadata": {},
   "outputs": [],
   "source": [
    "sentences_pairs_flattened"
   ]
  },
  {
   "cell_type": "code",
   "execution_count": null,
   "metadata": {},
   "outputs": [],
   "source": [
    "corpus = [diccionario.doc2bow(sent) for sent in sentences_pairs_flattened]\n",
    "modelo_tfidf = TfidfModel(corpus)"
   ]
  },
  {
   "cell_type": "code",
   "execution_count": null,
   "metadata": {},
   "outputs": [],
   "source": [
    "#convertim els datasets en llistes per poder fer el map\n",
    "train = dataset['train'].values.tolist()\n",
    "test = dataset['test'].values.tolist()\n",
    "validation = dataset['validation'].values.tolist()"
   ]
  },
  {
   "cell_type": "code",
   "execution_count": null,
   "metadata": {},
   "outputs": [],
   "source": [
    "train"
   ]
  },
  {
   "cell_type": "markdown",
   "metadata": {},
   "source": [
    "## Word Embedding models\n",
    "---"
   ]
  },
  {
   "cell_type": "code",
   "execution_count": null,
   "metadata": {},
   "outputs": [],
   "source": [
    "#Create a flag in the provided function to choose between the different models of embeddings\n",
    "def map_pairs(\n",
    "        sentence_pairs: List[Tuple[str, str, float]],\n",
    "        dictionary: Dictionary = None,\n",
    "        model: TfidfModel = None,\n",
    ") -> List[Tuple[Tuple[np.ndarray, np.ndarray], float]]:\n",
    "    # Mapeo de los pares de oraciones a pares de vectores\n",
    "    pares_vectores = []\n",
    "    for i, (sentence_1, sentence_2, similitud) in enumerate(sentence_pairs):\n",
    "        sentence_1_preproc = preprocess(sentence_1)\n",
    "        sentence_2_preproc = preprocess(sentence_2)\n",
    "        # Si usamos TF-IDF\n",
    "        if model == 'W2V + TFIDF':\n",
    "            # Cálculo del promedio ponderado por TF-IDF de los word embeddings\n",
    "            vectors1, weights1 = map_tf_idf(sentence_1_preproc, dictionary=dictionary, )\n",
    "            vectors2, weights2 = map_tf_idf(sentence_2_preproc, dictionary=dictionary,)\n",
    "            vector1 = np.average(vectors1, weights=weights1, axis=0, )\n",
    "            vector2 = np.average(vectors2, weights=weights2, axis=0, )\n",
    "        elif model == 'W2V + MEAN':\n",
    "            # Cálculo del promedio de los word embeddings\n",
    "            vectors1 = [wv_model[word] for word in sentence_1_preproc if word in wv_model]\n",
    "            vectors2 = [wv_model[word] for word in sentence_2_preproc if word in wv_model]\n",
    "            vector1 = np.mean(vectors1, axis=0)\n",
    "            vector2 = np.mean(vectors2, axis=0)\n",
    "        elif model == 'OH':\n",
    "            vector1 = map_one_hot(sentence_1, dictionary)\n",
    "            vector2 = map_one_hot(sentence_2, dictionary)\n",
    "        elif model == 'SPACY':\n",
    "            vector1 = map_spacy(sentence_1)\n",
    "            vector2 = map_spacy(sentence_2)\n",
    "        elif model == 'ROBERTA':\n",
    "            vector1 = map_roberta(sentence_1)\n",
    "            vector2 = map_roberta(sentence_2)\n",
    "        elif model == 'ROBERTA_MEAN':\n",
    "            vector1 = map_roberta_mean(sentence_1)\n",
    "            vector2 = map_roberta_mean(sentence_2)\n",
    "        else:\n",
    "            raise ValueError('Modelo no soportado')\n",
    "        # Añadir a la lista\n",
    "        pares_vectores.append(((vector1, vector2), similitud))\n",
    "    return pares_vectores"
   ]
  },
  {
   "cell_type": "code",
   "execution_count": null,
   "metadata": {},
   "outputs": [],
   "source": [
    "def build_and_compile_model(embedding_size: int = 300, learning_rate: float = 1e-3) -> tf.keras.Model:\n",
    "    '''\n",
    "    Construye y compila un modelo de Keras para la tarea de similitud de oraciones.\n",
    "    :param embedding_size: Tamaño de los vectores de embeddings\n",
    "    :param learning_rate: Tasa de aprendizaje\n",
    "    :return: Modelo de Keras compilado\n",
    "    '''\n",
    "    # Capa de entrada para los pares de vectores\n",
    "    input_1 = tf.keras.Input(shape=(embedding_size,))\n",
    "    input_2 = tf.keras.Input(shape=(embedding_size,))\n",
    "\n",
    "    # Hidden layer\n",
    "    first_projection = tf.keras.layers.Dense(\n",
    "        embedding_size,\n",
    "        kernel_initializer=tf.keras.initializers.Identity(),\n",
    "        bias_initializer=tf.keras.initializers.Zeros(),\n",
    "    )\n",
    "    projected_1 = first_projection(input_1)\n",
    "    projected_2 = first_projection(input_2)\n",
    "    \n",
    "    # Compute the cosine distance using a Lambda layer\n",
    "    def cosine_distance(x):\n",
    "        x1, x2 = x\n",
    "        x1_normalized = tf.keras.backend.l2_normalize(x1, axis=1)\n",
    "        x2_normalized = tf.keras.backend.l2_normalize(x2, axis=1)\n",
    "        return 2.5 * (1.0 + tf.reduce_sum(x1_normalized * x2_normalized, axis=1))\n",
    "\n",
    "    output = tf.keras.layers.Lambda(cosine_distance)([projected_1, projected_2])\n",
    "    # Define output\n",
    "    model = tf.keras.Model(inputs=[input_1, input_2], outputs=output)\n",
    "\n",
    "    # Compile the model\n",
    "    model.compile(loss='mean_squared_error',\n",
    "                  optimizer=tf.keras.optimizers.Adamax(learning_rate))\n",
    "    return model"
   ]
  },
  {
   "cell_type": "code",
   "execution_count": null,
   "metadata": {},
   "outputs": [],
   "source": [
    "# Define training constants\n",
    "batch_size: int = 64\n",
    "num_epochs: int = 64"
   ]
  },
  {
   "cell_type": "code",
   "execution_count": null,
   "metadata": {},
   "outputs": [],
   "source": [
    "def pair_list_to_x_y(pair_list: List[Tuple[Tuple[np.ndarray, np.ndarray], int]]) -> Tuple[Tuple[np.ndarray, np.ndarray], np.ndarray]:\n",
    "    _x, _y = zip(*pair_list)\n",
    "    _x_1, _x_2 = zip(*_x)\n",
    "    return (np.array(_x_1), np.array(_x_2)), np.array(_y, dtype=np.float32, )"
   ]
  },
  {
   "cell_type": "code",
   "execution_count": null,
   "metadata": {},
   "outputs": [],
   "source": [
    "# Baseline\n",
    "def compute_pearson_baseline(x_, y_):\n",
    "    y_pred_baseline = []\n",
    "    for v1, v2 in zip(*x_):\n",
    "        d = 1.0 - spatial.distance.cosine(v1, v2)\n",
    "        y_pred_baseline.append(d)\n",
    "    # Calcular la correlación de Pearson entre las predicciones y los datos de prueba\n",
    "    correlation, _ = pearsonr(y_pred_baseline, y_.flatten())\n",
    "    return correlation"
   ]
  },
  {
   "cell_type": "code",
   "execution_count": null,
   "metadata": {},
   "outputs": [],
   "source": [
    "def compute_pearson(x_, y_,model):\n",
    "    # Obtener las predicciones del modelo para los datos de prueba. En este ejemplo vamos a utilizar el corpus de training.\n",
    "    y_pred = model.predict(x_)\n",
    "    # Calcular la correlación de Pearson entre las predicciones y los datos de prueba\n",
    "    correlation, _ = pearsonr(y_pred.flatten(), y_.flatten())\n",
    "    return correlation"
   ]
  },
  {
   "cell_type": "markdown",
   "metadata": {},
   "source": [
    "### 1. One-Hot\n",
    "---"
   ]
  },
  {
   "cell_type": "code",
   "execution_count": null,
   "metadata": {},
   "outputs": [],
   "source": [
    "def map_one_hot(sentence: str, dictionary: Dictionary) -> np.ndarray:\n",
    "    '''\n",
    "    Mapea una oración a un vector one-hot utilizando un diccionario dado.\n",
    "    :param sentence: Oración a mapear\n",
    "    :param dictionary: Diccionario de Gensim\n",
    "    :return: Vector one-hot\n",
    "    '''\n",
    "    one_hot = np.zeros(len(dictionary))\n",
    "    frase = preprocess(sentence)\n",
    "    for elem in frase:\n",
    "        if elem in dictionary.token2id:\n",
    "            word_index = dictionary.token2id[elem]\n",
    "            one_hot[word_index] = 1\n",
    "    return one_hot"
   ]
  },
  {
   "cell_type": "code",
   "execution_count": null,
   "metadata": {},
   "outputs": [],
   "source": [
    "mapped_OH = map_pairs(input_pairs, model='OH', dictionary=diccionario, )\n",
    "\n",
    "mapped_train_OH = map_pairs(train,  model='OH', dictionary=diccionario, )\n",
    "mapped_val_OH = map_pairs(validation, model='OH', dictionary=diccionario, )\n",
    "mapped_test_OH = map_pairs(test, model='OH', dictionary=diccionario, )"
   ]
  },
  {
   "cell_type": "code",
   "execution_count": null,
   "metadata": {},
   "outputs": [],
   "source": [
    "for vectors, similitud in mapped_OH[:5]:\n",
    "    print(f\"Pares de vectores: {vectors[0].shape}, {vectors[1].shape}\")\n",
    "    print(f\"Puntuación de similitud: {similitud}\")"
   ]
  },
  {
   "cell_type": "code",
   "execution_count": null,
   "metadata": {},
   "outputs": [],
   "source": [
    "# Obtener las listas de train y test\n",
    "x_train_OH, y_train_OH = pair_list_to_x_y(mapped_train_OH)\n",
    "x_val_OH, y_val_OH = pair_list_to_x_y(mapped_val_OH)"
   ]
  },
  {
   "cell_type": "code",
   "execution_count": null,
   "metadata": {},
   "outputs": [],
   "source": [
    "# Preparar los conjuntos de datos de entrenamiento y validación\n",
    "train_dataset_OH = tf.data.Dataset.from_tensor_slices((x_train_OH, y_train_OH))\n",
    "train_dataset_OH = train_dataset_OH.shuffle(buffer_size=len(x_train_OH)).batch(batch_size)\n",
    "\n",
    "val_dataset_OH = tf.data.Dataset.from_tensor_slices((x_val_OH, y_val_OH))\n",
    "val_dataset_OH = val_dataset_OH.batch(batch_size)"
   ]
  },
  {
   "cell_type": "code",
   "execution_count": null,
   "metadata": {},
   "outputs": [],
   "source": [
    "# Show shapes\n",
    "x_train_OH[0].shape, x_train_OH[1].shape, y_train_OH.shape"
   ]
  },
  {
   "cell_type": "code",
   "execution_count": null,
   "metadata": {},
   "outputs": [],
   "source": [
    "# Construir y compilar el modelo\n",
    "model_OH = build_and_compile_model(embedding_size=len(diccionario))\n",
    "\n",
    "print(model_OH.summary())"
   ]
  },
  {
   "cell_type": "code",
   "execution_count": null,
   "metadata": {},
   "outputs": [],
   "source": [
    "# Train the model\n",
    "model_OH.fit(train_dataset_OH, epochs=num_epochs, validation_data=val_dataset_OH)"
   ]
  },
  {
   "cell_type": "code",
   "execution_count": null,
   "metadata": {},
   "outputs": [],
   "source": [
    "#El model al test\n",
    "x_test_OH, y_test_OH = pair_list_to_x_y(mapped_test_OH)"
   ]
  },
  {
   "cell_type": "code",
   "execution_count": 104,
   "metadata": {},
   "outputs": [
    {
     "name": "stdout",
     "output_type": "stream",
     "text": [
      "Correlación de Pearson (baseline-train): 0.5481180236438351\n",
      "Correlación de Pearson (baseline-validation): 0.5449709382790233\n",
      "Correlación de Pearson (baseline-test): 0.6372650860995633\n",
      "\n",
      "\n",
      "\u001b[1m65/65\u001b[0m \u001b[32m━━━━━━━━━━━━━━━━━━━━\u001b[0m\u001b[37m\u001b[0m \u001b[1m7s\u001b[0m 96ms/step\n",
      "Correlación de Pearson (train): 0.9572504652023259\n",
      "\u001b[1m16/16\u001b[0m \u001b[32m━━━━━━━━━━━━━━━━━━━━\u001b[0m\u001b[37m\u001b[0m \u001b[1m2s\u001b[0m 100ms/step\n",
      "Correlación de Pearson (validation): 0.40475411179396625\n",
      "\u001b[1m16/16\u001b[0m \u001b[32m━━━━━━━━━━━━━━━━━━━━\u001b[0m\u001b[37m\u001b[0m \u001b[1m2s\u001b[0m 93ms/step\n",
      "Correlación de Pearson (test): 0.52958566231992\n"
     ]
    }
   ],
   "source": [
    "# Imprimir el coeficiente de correlación de Pearson\n",
    "print(f\"Correlación de Pearson (baseline-train): {compute_pearson_baseline(x_train_OH, y_train_OH)}\")\n",
    "print(f\"Correlación de Pearson (baseline-validation): {compute_pearson_baseline(x_val_OH, y_val_OH)}\")\n",
    "print(f\"Correlación de Pearson (baseline-test): {compute_pearson_baseline(x_test_OH, y_test_OH)}\")\n",
    "print('\\n')\n",
    "# Imprimir el coeficiente de correlación de Pearson\n",
    "print(f\"Correlación de Pearson (train): {compute_pearson(x_train_OH, y_train_OH, model_OH)}\")\n",
    "print(f\"Correlación de Pearson (validation): {compute_pearson(x_val_OH, y_val_OH, model_OH)}\")\n",
    "print(f\"Correlación de Pearson (test): {compute_pearson(x_test_OH, y_test_OH, model_OH)}\")"
   ]
  },
  {
   "cell_type": "markdown",
   "metadata": {},
   "source": [
    "### 2. Word2Vec/GloVe (Pre-trained)\n",
    "---"
   ]
  },
  {
   "cell_type": "markdown",
   "metadata": {},
   "source": [
    "#### 2.1. Word2Vec + Mean"
   ]
  },
  {
   "cell_type": "code",
   "execution_count": 105,
   "metadata": {},
   "outputs": [],
   "source": [
    "mapped_w2v_mean = map_pairs(input_pairs, model='W2V + MEAN', dictionary=diccionario, )\n",
    "\n",
    "mapped_train_w2v_mean = map_pairs(train,  model='W2V + MEAN', dictionary=diccionario, )\n",
    "mapped_val_w2v_mean = map_pairs(validation, model='W2V + MEAN', dictionary=diccionario, )\n",
    "mapped_test_w2v_mean = map_pairs(test, model='W2V + MEAN', dictionary=diccionario, )"
   ]
  },
  {
   "cell_type": "code",
   "execution_count": 106,
   "metadata": {},
   "outputs": [
    {
     "name": "stdout",
     "output_type": "stream",
     "text": [
      "Pares de vectores: (300,), (300,)\n",
      "Puntuación de similitud: 3.5\n",
      "Pares de vectores: (300,), (300,)\n",
      "Puntuación de similitud: 1.25\n",
      "Pares de vectores: (300,), (300,)\n",
      "Puntuación de similitud: 3.67\n",
      "Pares de vectores: (300,), (300,)\n",
      "Puntuación de similitud: 2.25\n",
      "Pares de vectores: (300,), (300,)\n",
      "Puntuación de similitud: 2.0\n"
     ]
    }
   ],
   "source": [
    "for vectors, similitud in mapped_w2v_mean[:5]:\n",
    "    print(f\"Pares de vectores: {vectors[0].shape}, {vectors[1].shape}\")\n",
    "    print(f\"Puntuación de similitud: {similitud}\")"
   ]
  },
  {
   "cell_type": "code",
   "execution_count": 107,
   "metadata": {},
   "outputs": [],
   "source": [
    "# Obtener las listas de train y test\n",
    "x_train_w2v_mean, y_train_w2v_mean = pair_list_to_x_y(mapped_train_w2v_mean)\n",
    "x_val_w2v_mean, y_val_w2v_mean = pair_list_to_x_y(mapped_val_w2v_mean)"
   ]
  },
  {
   "cell_type": "code",
   "execution_count": 108,
   "metadata": {},
   "outputs": [],
   "source": [
    "# Preparar los conjuntos de datos de entrenamiento y validación\n",
    "train_dataset_w2v_mean = tf.data.Dataset.from_tensor_slices((x_train_w2v_mean, y_train_w2v_mean))\n",
    "train_dataset_w2v_mean = train_dataset_w2v_mean.shuffle(buffer_size=len(x_train_w2v_mean)).batch(batch_size)\n",
    "\n",
    "val_dataset_w2v_mean = tf.data.Dataset.from_tensor_slices((x_val_w2v_mean, y_val_w2v_mean))\n",
    "val_dataset_w2v_mean = val_dataset_w2v_mean.batch(batch_size)"
   ]
  },
  {
   "cell_type": "code",
   "execution_count": 109,
   "metadata": {},
   "outputs": [
    {
     "data": {
      "text/plain": [
       "((2073, 300), (2073, 300), (2073,))"
      ]
     },
     "execution_count": 109,
     "metadata": {},
     "output_type": "execute_result"
    }
   ],
   "source": [
    "# Show shapes\n",
    "x_train_w2v_mean[0].shape, x_train_w2v_mean[1].shape, y_train_w2v_mean.shape"
   ]
  },
  {
   "cell_type": "code",
   "execution_count": 110,
   "metadata": {},
   "outputs": [
    {
     "data": {
      "text/html": [
       "<pre style=\"white-space:pre;overflow-x:auto;line-height:normal;font-family:Menlo,'DejaVu Sans Mono',consolas,'Courier New',monospace\"><span style=\"font-weight: bold\">Model: \"functional_13\"</span>\n",
       "</pre>\n"
      ],
      "text/plain": [
       "\u001b[1mModel: \"functional_13\"\u001b[0m\n"
      ]
     },
     "metadata": {},
     "output_type": "display_data"
    },
    {
     "data": {
      "text/html": [
       "<pre style=\"white-space:pre;overflow-x:auto;line-height:normal;font-family:Menlo,'DejaVu Sans Mono',consolas,'Courier New',monospace\">┏━━━━━━━━━━━━━━━━━━━━━┳━━━━━━━━━━━━━━━━━━━┳━━━━━━━━━━━━┳━━━━━━━━━━━━━━━━━━━┓\n",
       "┃<span style=\"font-weight: bold\"> Layer (type)        </span>┃<span style=\"font-weight: bold\"> Output Shape      </span>┃<span style=\"font-weight: bold\">    Param # </span>┃<span style=\"font-weight: bold\"> Connected to      </span>┃\n",
       "┡━━━━━━━━━━━━━━━━━━━━━╇━━━━━━━━━━━━━━━━━━━╇━━━━━━━━━━━━╇━━━━━━━━━━━━━━━━━━━┩\n",
       "│ input_layer_12      │ (<span style=\"color: #00d7ff; text-decoration-color: #00d7ff\">None</span>, <span style=\"color: #00af00; text-decoration-color: #00af00\">300</span>)       │          <span style=\"color: #00af00; text-decoration-color: #00af00\">0</span> │ -                 │\n",
       "│ (<span style=\"color: #0087ff; text-decoration-color: #0087ff\">InputLayer</span>)        │                   │            │                   │\n",
       "├─────────────────────┼───────────────────┼────────────┼───────────────────┤\n",
       "│ input_layer_13      │ (<span style=\"color: #00d7ff; text-decoration-color: #00d7ff\">None</span>, <span style=\"color: #00af00; text-decoration-color: #00af00\">300</span>)       │          <span style=\"color: #00af00; text-decoration-color: #00af00\">0</span> │ -                 │\n",
       "│ (<span style=\"color: #0087ff; text-decoration-color: #0087ff\">InputLayer</span>)        │                   │            │                   │\n",
       "├─────────────────────┼───────────────────┼────────────┼───────────────────┤\n",
       "│ dense_6 (<span style=\"color: #0087ff; text-decoration-color: #0087ff\">Dense</span>)     │ (<span style=\"color: #00d7ff; text-decoration-color: #00d7ff\">None</span>, <span style=\"color: #00af00; text-decoration-color: #00af00\">300</span>)       │     <span style=\"color: #00af00; text-decoration-color: #00af00\">90,300</span> │ input_layer_12[<span style=\"color: #00af00; text-decoration-color: #00af00\">0</span>… │\n",
       "│                     │                   │            │ input_layer_13[<span style=\"color: #00af00; text-decoration-color: #00af00\">0</span>… │\n",
       "├─────────────────────┼───────────────────┼────────────┼───────────────────┤\n",
       "│ lambda_6 (<span style=\"color: #0087ff; text-decoration-color: #0087ff\">Lambda</span>)   │ (<span style=\"color: #00d7ff; text-decoration-color: #00d7ff\">None</span>)            │          <span style=\"color: #00af00; text-decoration-color: #00af00\">0</span> │ dense_6[<span style=\"color: #00af00; text-decoration-color: #00af00\">0</span>][<span style=\"color: #00af00; text-decoration-color: #00af00\">0</span>],    │\n",
       "│                     │                   │            │ dense_6[<span style=\"color: #00af00; text-decoration-color: #00af00\">1</span>][<span style=\"color: #00af00; text-decoration-color: #00af00\">0</span>]     │\n",
       "└─────────────────────┴───────────────────┴────────────┴───────────────────┘\n",
       "</pre>\n"
      ],
      "text/plain": [
       "┏━━━━━━━━━━━━━━━━━━━━━┳━━━━━━━━━━━━━━━━━━━┳━━━━━━━━━━━━┳━━━━━━━━━━━━━━━━━━━┓\n",
       "┃\u001b[1m \u001b[0m\u001b[1mLayer (type)       \u001b[0m\u001b[1m \u001b[0m┃\u001b[1m \u001b[0m\u001b[1mOutput Shape     \u001b[0m\u001b[1m \u001b[0m┃\u001b[1m \u001b[0m\u001b[1m   Param #\u001b[0m\u001b[1m \u001b[0m┃\u001b[1m \u001b[0m\u001b[1mConnected to     \u001b[0m\u001b[1m \u001b[0m┃\n",
       "┡━━━━━━━━━━━━━━━━━━━━━╇━━━━━━━━━━━━━━━━━━━╇━━━━━━━━━━━━╇━━━━━━━━━━━━━━━━━━━┩\n",
       "│ input_layer_12      │ (\u001b[38;5;45mNone\u001b[0m, \u001b[38;5;34m300\u001b[0m)       │          \u001b[38;5;34m0\u001b[0m │ -                 │\n",
       "│ (\u001b[38;5;33mInputLayer\u001b[0m)        │                   │            │                   │\n",
       "├─────────────────────┼───────────────────┼────────────┼───────────────────┤\n",
       "│ input_layer_13      │ (\u001b[38;5;45mNone\u001b[0m, \u001b[38;5;34m300\u001b[0m)       │          \u001b[38;5;34m0\u001b[0m │ -                 │\n",
       "│ (\u001b[38;5;33mInputLayer\u001b[0m)        │                   │            │                   │\n",
       "├─────────────────────┼───────────────────┼────────────┼───────────────────┤\n",
       "│ dense_6 (\u001b[38;5;33mDense\u001b[0m)     │ (\u001b[38;5;45mNone\u001b[0m, \u001b[38;5;34m300\u001b[0m)       │     \u001b[38;5;34m90,300\u001b[0m │ input_layer_12[\u001b[38;5;34m0\u001b[0m… │\n",
       "│                     │                   │            │ input_layer_13[\u001b[38;5;34m0\u001b[0m… │\n",
       "├─────────────────────┼───────────────────┼────────────┼───────────────────┤\n",
       "│ lambda_6 (\u001b[38;5;33mLambda\u001b[0m)   │ (\u001b[38;5;45mNone\u001b[0m)            │          \u001b[38;5;34m0\u001b[0m │ dense_6[\u001b[38;5;34m0\u001b[0m][\u001b[38;5;34m0\u001b[0m],    │\n",
       "│                     │                   │            │ dense_6[\u001b[38;5;34m1\u001b[0m][\u001b[38;5;34m0\u001b[0m]     │\n",
       "└─────────────────────┴───────────────────┴────────────┴───────────────────┘\n"
      ]
     },
     "metadata": {},
     "output_type": "display_data"
    },
    {
     "data": {
      "text/html": [
       "<pre style=\"white-space:pre;overflow-x:auto;line-height:normal;font-family:Menlo,'DejaVu Sans Mono',consolas,'Courier New',monospace\"><span style=\"font-weight: bold\"> Total params: </span><span style=\"color: #00af00; text-decoration-color: #00af00\">90,300</span> (352.73 KB)\n",
       "</pre>\n"
      ],
      "text/plain": [
       "\u001b[1m Total params: \u001b[0m\u001b[38;5;34m90,300\u001b[0m (352.73 KB)\n"
      ]
     },
     "metadata": {},
     "output_type": "display_data"
    },
    {
     "data": {
      "text/html": [
       "<pre style=\"white-space:pre;overflow-x:auto;line-height:normal;font-family:Menlo,'DejaVu Sans Mono',consolas,'Courier New',monospace\"><span style=\"font-weight: bold\"> Trainable params: </span><span style=\"color: #00af00; text-decoration-color: #00af00\">90,300</span> (352.73 KB)\n",
       "</pre>\n"
      ],
      "text/plain": [
       "\u001b[1m Trainable params: \u001b[0m\u001b[38;5;34m90,300\u001b[0m (352.73 KB)\n"
      ]
     },
     "metadata": {},
     "output_type": "display_data"
    },
    {
     "data": {
      "text/html": [
       "<pre style=\"white-space:pre;overflow-x:auto;line-height:normal;font-family:Menlo,'DejaVu Sans Mono',consolas,'Courier New',monospace\"><span style=\"font-weight: bold\"> Non-trainable params: </span><span style=\"color: #00af00; text-decoration-color: #00af00\">0</span> (0.00 B)\n",
       "</pre>\n"
      ],
      "text/plain": [
       "\u001b[1m Non-trainable params: \u001b[0m\u001b[38;5;34m0\u001b[0m (0.00 B)\n"
      ]
     },
     "metadata": {},
     "output_type": "display_data"
    },
    {
     "name": "stdout",
     "output_type": "stream",
     "text": [
      "None\n"
     ]
    }
   ],
   "source": [
    "# Construir y compilar el modelo\n",
    "model_w2v_mean = build_and_compile_model()\n",
    "\n",
    "print(model_w2v_mean.summary())"
   ]
  },
  {
   "cell_type": "code",
   "execution_count": 111,
   "metadata": {},
   "outputs": [
    {
     "name": "stdout",
     "output_type": "stream",
     "text": [
      "Epoch 1/64\n",
      "\u001b[1m33/33\u001b[0m \u001b[32m━━━━━━━━━━━━━━━━━━━━\u001b[0m\u001b[37m\u001b[0m \u001b[1m1s\u001b[0m 4ms/step - loss: 4.3061 - val_loss: 3.4682\n",
      "Epoch 2/64\n",
      "\u001b[1m33/33\u001b[0m \u001b[32m━━━━━━━━━━━━━━━━━━━━\u001b[0m\u001b[37m\u001b[0m \u001b[1m0s\u001b[0m 2ms/step - loss: 3.4875 - val_loss: 3.3030\n",
      "Epoch 3/64\n",
      "\u001b[1m33/33\u001b[0m \u001b[32m━━━━━━━━━━━━━━━━━━━━\u001b[0m\u001b[37m\u001b[0m \u001b[1m0s\u001b[0m 2ms/step - loss: 3.2870 - val_loss: 3.1936\n",
      "Epoch 4/64\n",
      "\u001b[1m33/33\u001b[0m \u001b[32m━━━━━━━━━━━━━━━━━━━━\u001b[0m\u001b[37m\u001b[0m \u001b[1m0s\u001b[0m 2ms/step - loss: 3.1391 - val_loss: 3.1051\n",
      "Epoch 5/64\n",
      "\u001b[1m33/33\u001b[0m \u001b[32m━━━━━━━━━━━━━━━━━━━━\u001b[0m\u001b[37m\u001b[0m \u001b[1m0s\u001b[0m 2ms/step - loss: 3.0081 - val_loss: 3.0345\n",
      "Epoch 6/64\n",
      "\u001b[1m33/33\u001b[0m \u001b[32m━━━━━━━━━━━━━━━━━━━━\u001b[0m\u001b[37m\u001b[0m \u001b[1m0s\u001b[0m 2ms/step - loss: 2.8986 - val_loss: 2.9774\n",
      "Epoch 7/64\n",
      "\u001b[1m33/33\u001b[0m \u001b[32m━━━━━━━━━━━━━━━━━━━━\u001b[0m\u001b[37m\u001b[0m \u001b[1m0s\u001b[0m 2ms/step - loss: 2.7965 - val_loss: 2.9309\n",
      "Epoch 8/64\n",
      "\u001b[1m33/33\u001b[0m \u001b[32m━━━━━━━━━━━━━━━━━━━━\u001b[0m\u001b[37m\u001b[0m \u001b[1m0s\u001b[0m 2ms/step - loss: 2.7065 - val_loss: 2.8926\n",
      "Epoch 9/64\n",
      "\u001b[1m33/33\u001b[0m \u001b[32m━━━━━━━━━━━━━━━━━━━━\u001b[0m\u001b[37m\u001b[0m \u001b[1m0s\u001b[0m 2ms/step - loss: 2.6205 - val_loss: 2.8606\n",
      "Epoch 10/64\n",
      "\u001b[1m33/33\u001b[0m \u001b[32m━━━━━━━━━━━━━━━━━━━━\u001b[0m\u001b[37m\u001b[0m \u001b[1m0s\u001b[0m 2ms/step - loss: 2.5445 - val_loss: 2.8333\n",
      "Epoch 11/64\n",
      "\u001b[1m33/33\u001b[0m \u001b[32m━━━━━━━━━━━━━━━━━━━━\u001b[0m\u001b[37m\u001b[0m \u001b[1m0s\u001b[0m 2ms/step - loss: 2.4742 - val_loss: 2.8100\n",
      "Epoch 12/64\n",
      "\u001b[1m33/33\u001b[0m \u001b[32m━━━━━━━━━━━━━━━━━━━━\u001b[0m\u001b[37m\u001b[0m \u001b[1m0s\u001b[0m 2ms/step - loss: 2.4132 - val_loss: 2.7895\n",
      "Epoch 13/64\n",
      "\u001b[1m33/33\u001b[0m \u001b[32m━━━━━━━━━━━━━━━━━━━━\u001b[0m\u001b[37m\u001b[0m \u001b[1m0s\u001b[0m 2ms/step - loss: 2.3517 - val_loss: 2.7717\n",
      "Epoch 14/64\n",
      "\u001b[1m33/33\u001b[0m \u001b[32m━━━━━━━━━━━━━━━━━━━━\u001b[0m\u001b[37m\u001b[0m \u001b[1m0s\u001b[0m 2ms/step - loss: 2.2963 - val_loss: 2.7558\n",
      "Epoch 15/64\n",
      "\u001b[1m33/33\u001b[0m \u001b[32m━━━━━━━━━━━━━━━━━━━━\u001b[0m\u001b[37m\u001b[0m \u001b[1m0s\u001b[0m 2ms/step - loss: 2.2423 - val_loss: 2.7413\n",
      "Epoch 16/64\n",
      "\u001b[1m33/33\u001b[0m \u001b[32m━━━━━━━━━━━━━━━━━━━━\u001b[0m\u001b[37m\u001b[0m \u001b[1m0s\u001b[0m 2ms/step - loss: 2.1908 - val_loss: 2.7288\n",
      "Epoch 17/64\n",
      "\u001b[1m33/33\u001b[0m \u001b[32m━━━━━━━━━━━━━━━━━━━━\u001b[0m\u001b[37m\u001b[0m \u001b[1m0s\u001b[0m 2ms/step - loss: 2.1427 - val_loss: 2.7173\n",
      "Epoch 18/64\n",
      "\u001b[1m33/33\u001b[0m \u001b[32m━━━━━━━━━━━━━━━━━━━━\u001b[0m\u001b[37m\u001b[0m \u001b[1m0s\u001b[0m 2ms/step - loss: 2.1002 - val_loss: 2.7068\n",
      "Epoch 19/64\n",
      "\u001b[1m33/33\u001b[0m \u001b[32m━━━━━━━━━━━━━━━━━━━━\u001b[0m\u001b[37m\u001b[0m \u001b[1m0s\u001b[0m 2ms/step - loss: 2.0537 - val_loss: 2.6972\n",
      "Epoch 20/64\n",
      "\u001b[1m33/33\u001b[0m \u001b[32m━━━━━━━━━━━━━━━━━━━━\u001b[0m\u001b[37m\u001b[0m \u001b[1m0s\u001b[0m 2ms/step - loss: 2.0173 - val_loss: 2.6884\n",
      "Epoch 21/64\n",
      "\u001b[1m33/33\u001b[0m \u001b[32m━━━━━━━━━━━━━━━━━━━━\u001b[0m\u001b[37m\u001b[0m \u001b[1m0s\u001b[0m 2ms/step - loss: 1.9796 - val_loss: 2.6804\n",
      "Epoch 22/64\n",
      "\u001b[1m33/33\u001b[0m \u001b[32m━━━━━━━━━━━━━━━━━━━━\u001b[0m\u001b[37m\u001b[0m \u001b[1m0s\u001b[0m 2ms/step - loss: 1.9409 - val_loss: 2.6728\n",
      "Epoch 23/64\n",
      "\u001b[1m33/33\u001b[0m \u001b[32m━━━━━━━━━━━━━━━━━━━━\u001b[0m\u001b[37m\u001b[0m \u001b[1m0s\u001b[0m 2ms/step - loss: 1.9083 - val_loss: 2.6663\n",
      "Epoch 24/64\n",
      "\u001b[1m33/33\u001b[0m \u001b[32m━━━━━━━━━━━━━━━━━━━━\u001b[0m\u001b[37m\u001b[0m \u001b[1m0s\u001b[0m 2ms/step - loss: 1.8726 - val_loss: 2.6600\n",
      "Epoch 25/64\n",
      "\u001b[1m33/33\u001b[0m \u001b[32m━━━━━━━━━━━━━━━━━━━━\u001b[0m\u001b[37m\u001b[0m \u001b[1m0s\u001b[0m 2ms/step - loss: 1.8426 - val_loss: 2.6546\n",
      "Epoch 26/64\n",
      "\u001b[1m33/33\u001b[0m \u001b[32m━━━━━━━━━━━━━━━━━━━━\u001b[0m\u001b[37m\u001b[0m \u001b[1m0s\u001b[0m 2ms/step - loss: 1.8110 - val_loss: 2.6489\n",
      "Epoch 27/64\n",
      "\u001b[1m33/33\u001b[0m \u001b[32m━━━━━━━━━━━━━━━━━━━━\u001b[0m\u001b[37m\u001b[0m \u001b[1m0s\u001b[0m 2ms/step - loss: 1.7845 - val_loss: 2.6440\n",
      "Epoch 28/64\n",
      "\u001b[1m33/33\u001b[0m \u001b[32m━━━━━━━━━━━━━━━━━━━━\u001b[0m\u001b[37m\u001b[0m \u001b[1m0s\u001b[0m 2ms/step - loss: 1.7557 - val_loss: 2.6395\n",
      "Epoch 29/64\n",
      "\u001b[1m33/33\u001b[0m \u001b[32m━━━━━━━━━━━━━━━━━━━━\u001b[0m\u001b[37m\u001b[0m \u001b[1m0s\u001b[0m 2ms/step - loss: 1.7279 - val_loss: 2.6353\n",
      "Epoch 30/64\n",
      "\u001b[1m33/33\u001b[0m \u001b[32m━━━━━━━━━━━━━━━━━━━━\u001b[0m\u001b[37m\u001b[0m \u001b[1m0s\u001b[0m 2ms/step - loss: 1.7016 - val_loss: 2.6313\n",
      "Epoch 31/64\n",
      "\u001b[1m33/33\u001b[0m \u001b[32m━━━━━━━━━━━━━━━━━━━━\u001b[0m\u001b[37m\u001b[0m \u001b[1m0s\u001b[0m 2ms/step - loss: 1.6794 - val_loss: 2.6276\n",
      "Epoch 32/64\n",
      "\u001b[1m33/33\u001b[0m \u001b[32m━━━━━━━━━━━━━━━━━━━━\u001b[0m\u001b[37m\u001b[0m \u001b[1m0s\u001b[0m 2ms/step - loss: 1.6519 - val_loss: 2.6240\n",
      "Epoch 33/64\n",
      "\u001b[1m33/33\u001b[0m \u001b[32m━━━━━━━━━━━━━━━━━━━━\u001b[0m\u001b[37m\u001b[0m \u001b[1m0s\u001b[0m 2ms/step - loss: 1.6335 - val_loss: 2.6211\n",
      "Epoch 34/64\n",
      "\u001b[1m33/33\u001b[0m \u001b[32m━━━━━━━━━━━━━━━━━━━━\u001b[0m\u001b[37m\u001b[0m \u001b[1m0s\u001b[0m 2ms/step - loss: 1.6116 - val_loss: 2.6176\n",
      "Epoch 35/64\n",
      "\u001b[1m33/33\u001b[0m \u001b[32m━━━━━━━━━━━━━━━━━━━━\u001b[0m\u001b[37m\u001b[0m \u001b[1m0s\u001b[0m 2ms/step - loss: 1.5891 - val_loss: 2.6145\n",
      "Epoch 36/64\n",
      "\u001b[1m33/33\u001b[0m \u001b[32m━━━━━━━━━━━━━━━━━━━━\u001b[0m\u001b[37m\u001b[0m \u001b[1m0s\u001b[0m 2ms/step - loss: 1.5707 - val_loss: 2.6121\n",
      "Epoch 37/64\n",
      "\u001b[1m33/33\u001b[0m \u001b[32m━━━━━━━━━━━━━━━━━━━━\u001b[0m\u001b[37m\u001b[0m \u001b[1m0s\u001b[0m 2ms/step - loss: 1.5513 - val_loss: 2.6091\n",
      "Epoch 38/64\n",
      "\u001b[1m33/33\u001b[0m \u001b[32m━━━━━━━━━━━━━━━━━━━━\u001b[0m\u001b[37m\u001b[0m \u001b[1m0s\u001b[0m 2ms/step - loss: 1.5302 - val_loss: 2.6065\n",
      "Epoch 39/64\n",
      "\u001b[1m33/33\u001b[0m \u001b[32m━━━━━━━━━━━━━━━━━━━━\u001b[0m\u001b[37m\u001b[0m \u001b[1m0s\u001b[0m 2ms/step - loss: 1.5148 - val_loss: 2.6043\n",
      "Epoch 40/64\n",
      "\u001b[1m33/33\u001b[0m \u001b[32m━━━━━━━━━━━━━━━━━━━━\u001b[0m\u001b[37m\u001b[0m \u001b[1m0s\u001b[0m 2ms/step - loss: 1.4966 - val_loss: 2.6019\n",
      "Epoch 41/64\n",
      "\u001b[1m33/33\u001b[0m \u001b[32m━━━━━━━━━━━━━━━━━━━━\u001b[0m\u001b[37m\u001b[0m \u001b[1m0s\u001b[0m 2ms/step - loss: 1.4800 - val_loss: 2.6000\n",
      "Epoch 42/64\n",
      "\u001b[1m33/33\u001b[0m \u001b[32m━━━━━━━━━━━━━━━━━━━━\u001b[0m\u001b[37m\u001b[0m \u001b[1m0s\u001b[0m 2ms/step - loss: 1.4631 - val_loss: 2.5981\n",
      "Epoch 43/64\n",
      "\u001b[1m33/33\u001b[0m \u001b[32m━━━━━━━━━━━━━━━━━━━━\u001b[0m\u001b[37m\u001b[0m \u001b[1m0s\u001b[0m 2ms/step - loss: 1.4476 - val_loss: 2.5962\n",
      "Epoch 44/64\n",
      "\u001b[1m33/33\u001b[0m \u001b[32m━━━━━━━━━━━━━━━━━━━━\u001b[0m\u001b[37m\u001b[0m \u001b[1m0s\u001b[0m 2ms/step - loss: 1.4321 - val_loss: 2.5947\n",
      "Epoch 45/64\n",
      "\u001b[1m33/33\u001b[0m \u001b[32m━━━━━━━━━━━━━━━━━━━━\u001b[0m\u001b[37m\u001b[0m \u001b[1m0s\u001b[0m 2ms/step - loss: 1.4176 - val_loss: 2.5929\n",
      "Epoch 46/64\n",
      "\u001b[1m33/33\u001b[0m \u001b[32m━━━━━━━━━━━━━━━━━━━━\u001b[0m\u001b[37m\u001b[0m \u001b[1m0s\u001b[0m 2ms/step - loss: 1.4025 - val_loss: 2.5917\n",
      "Epoch 47/64\n",
      "\u001b[1m33/33\u001b[0m \u001b[32m━━━━━━━━━━━━━━━━━━━━\u001b[0m\u001b[37m\u001b[0m \u001b[1m0s\u001b[0m 2ms/step - loss: 1.3859 - val_loss: 2.5905\n",
      "Epoch 48/64\n",
      "\u001b[1m33/33\u001b[0m \u001b[32m━━━━━━━━━━━━━━━━━━━━\u001b[0m\u001b[37m\u001b[0m \u001b[1m0s\u001b[0m 2ms/step - loss: 1.3755 - val_loss: 2.5894\n",
      "Epoch 49/64\n",
      "\u001b[1m33/33\u001b[0m \u001b[32m━━━━━━━━━━━━━━━━━━━━\u001b[0m\u001b[37m\u001b[0m \u001b[1m0s\u001b[0m 2ms/step - loss: 1.3621 - val_loss: 2.5885\n",
      "Epoch 50/64\n",
      "\u001b[1m33/33\u001b[0m \u001b[32m━━━━━━━━━━━━━━━━━━━━\u001b[0m\u001b[37m\u001b[0m \u001b[1m0s\u001b[0m 2ms/step - loss: 1.3505 - val_loss: 2.5878\n",
      "Epoch 51/64\n",
      "\u001b[1m33/33\u001b[0m \u001b[32m━━━━━━━━━━━━━━━━━━━━\u001b[0m\u001b[37m\u001b[0m \u001b[1m0s\u001b[0m 2ms/step - loss: 1.3376 - val_loss: 2.5867\n",
      "Epoch 52/64\n",
      "\u001b[1m33/33\u001b[0m \u001b[32m━━━━━━━━━━━━━━━━━━━━\u001b[0m\u001b[37m\u001b[0m \u001b[1m0s\u001b[0m 2ms/step - loss: 1.3260 - val_loss: 2.5861\n",
      "Epoch 53/64\n",
      "\u001b[1m33/33\u001b[0m \u001b[32m━━━━━━━━━━━━━━━━━━━━\u001b[0m\u001b[37m\u001b[0m \u001b[1m0s\u001b[0m 2ms/step - loss: 1.3152 - val_loss: 2.5854\n",
      "Epoch 54/64\n",
      "\u001b[1m33/33\u001b[0m \u001b[32m━━━━━━━━━━━━━━━━━━━━\u001b[0m\u001b[37m\u001b[0m \u001b[1m0s\u001b[0m 2ms/step - loss: 1.3037 - val_loss: 2.5850\n",
      "Epoch 55/64\n",
      "\u001b[1m33/33\u001b[0m \u001b[32m━━━━━━━━━━━━━━━━━━━━\u001b[0m\u001b[37m\u001b[0m \u001b[1m0s\u001b[0m 2ms/step - loss: 1.2907 - val_loss: 2.5846\n",
      "Epoch 56/64\n",
      "\u001b[1m33/33\u001b[0m \u001b[32m━━━━━━━━━━━━━━━━━━━━\u001b[0m\u001b[37m\u001b[0m \u001b[1m0s\u001b[0m 2ms/step - loss: 1.2825 - val_loss: 2.5839\n",
      "Epoch 57/64\n",
      "\u001b[1m33/33\u001b[0m \u001b[32m━━━━━━━━━━━━━━━━━━━━\u001b[0m\u001b[37m\u001b[0m \u001b[1m0s\u001b[0m 2ms/step - loss: 1.2702 - val_loss: 2.5835\n",
      "Epoch 58/64\n",
      "\u001b[1m33/33\u001b[0m \u001b[32m━━━━━━━━━━━━━━━━━━━━\u001b[0m\u001b[37m\u001b[0m \u001b[1m0s\u001b[0m 2ms/step - loss: 1.2623 - val_loss: 2.5830\n",
      "Epoch 59/64\n",
      "\u001b[1m33/33\u001b[0m \u001b[32m━━━━━━━━━━━━━━━━━━━━\u001b[0m\u001b[37m\u001b[0m \u001b[1m0s\u001b[0m 2ms/step - loss: 1.2526 - val_loss: 2.5828\n",
      "Epoch 60/64\n",
      "\u001b[1m33/33\u001b[0m \u001b[32m━━━━━━━━━━━━━━━━━━━━\u001b[0m\u001b[37m\u001b[0m \u001b[1m0s\u001b[0m 2ms/step - loss: 1.2442 - val_loss: 2.5821\n",
      "Epoch 61/64\n",
      "\u001b[1m33/33\u001b[0m \u001b[32m━━━━━━━━━━━━━━━━━━━━\u001b[0m\u001b[37m\u001b[0m \u001b[1m0s\u001b[0m 2ms/step - loss: 1.2356 - val_loss: 2.5819\n",
      "Epoch 62/64\n",
      "\u001b[1m33/33\u001b[0m \u001b[32m━━━━━━━━━━━━━━━━━━━━\u001b[0m\u001b[37m\u001b[0m \u001b[1m0s\u001b[0m 2ms/step - loss: 1.2267 - val_loss: 2.5814\n",
      "Epoch 63/64\n",
      "\u001b[1m33/33\u001b[0m \u001b[32m━━━━━━━━━━━━━━━━━━━━\u001b[0m\u001b[37m\u001b[0m \u001b[1m0s\u001b[0m 2ms/step - loss: 1.2171 - val_loss: 2.5814\n",
      "Epoch 64/64\n",
      "\u001b[1m33/33\u001b[0m \u001b[32m━━━━━━━━━━━━━━━━━━━━\u001b[0m\u001b[37m\u001b[0m \u001b[1m0s\u001b[0m 2ms/step - loss: 1.2089 - val_loss: 2.5810\n"
     ]
    },
    {
     "data": {
      "text/plain": [
       "<keras.src.callbacks.history.History at 0x17a5e7865d0>"
      ]
     },
     "execution_count": 111,
     "metadata": {},
     "output_type": "execute_result"
    }
   ],
   "source": [
    "# Train the model\n",
    "model_w2v_mean.fit(train_dataset_w2v_mean, epochs=num_epochs, validation_data=val_dataset_w2v_mean)"
   ]
  },
  {
   "cell_type": "code",
   "execution_count": 112,
   "metadata": {},
   "outputs": [],
   "source": [
    "#El model al test\n",
    "x_test_w2v_mean, y_test_w2v_mean = pair_list_to_x_y(mapped_test_w2v_mean)"
   ]
  },
  {
   "cell_type": "code",
   "execution_count": 113,
   "metadata": {},
   "outputs": [
    {
     "name": "stdout",
     "output_type": "stream",
     "text": [
      "Correlación de Pearson (baseline-train): 0.33803124102011484\n",
      "Correlación de Pearson (baseline-validation): 0.30109730185645944\n",
      "Correlación de Pearson (baseline-test): 0.40918746240001136\n",
      "\n",
      "\n",
      "\u001b[1m65/65\u001b[0m \u001b[32m━━━━━━━━━━━━━━━━━━━━\u001b[0m\u001b[37m\u001b[0m \u001b[1m0s\u001b[0m 2ms/step\n",
      "Correlación de Pearson (train): 0.7455740855450073\n",
      "\u001b[1m16/16\u001b[0m \u001b[32m━━━━━━━━━━━━━━━━━━━━\u001b[0m\u001b[37m\u001b[0m \u001b[1m0s\u001b[0m 1ms/step \n",
      "Correlación de Pearson (validation): 0.4462061812303049\n",
      "\u001b[1m16/16\u001b[0m \u001b[32m━━━━━━━━━━━━━━━━━━━━\u001b[0m\u001b[37m\u001b[0m \u001b[1m0s\u001b[0m 1ms/step \n",
      "Correlación de Pearson (test): 0.5003590748540991\n"
     ]
    }
   ],
   "source": [
    "# Imprimir el coeficiente de correlación de Pearson\n",
    "print(f\"Correlación de Pearson (baseline-train): {compute_pearson_baseline(x_train_w2v_mean, y_train_w2v_mean)}\")\n",
    "print(f\"Correlación de Pearson (baseline-validation): {compute_pearson_baseline(x_val_w2v_mean, y_val_w2v_mean)}\")\n",
    "print(f\"Correlación de Pearson (baseline-test): {compute_pearson_baseline(x_test_w2v_mean, y_test_w2v_mean)}\")\n",
    "print('\\n')\n",
    "# Imprimir el coeficiente de correlación de Pearson\n",
    "print(f\"Correlación de Pearson (train): {compute_pearson(x_train_w2v_mean, y_train_w2v_mean, model_w2v_mean)}\")\n",
    "print(f\"Correlación de Pearson (validation): {compute_pearson(x_val_w2v_mean, y_val_w2v_mean, model_w2v_mean)}\")\n",
    "print(f\"Correlación de Pearson (test): {compute_pearson(x_test_w2v_mean, y_test_w2v_mean, model_w2v_mean)}\")"
   ]
  },
  {
   "cell_type": "markdown",
   "metadata": {},
   "source": [
    "#### 2.2. Word2Vec + TF-IDF (Mean ponderada)"
   ]
  },
  {
   "cell_type": "code",
   "execution_count": 114,
   "metadata": {},
   "outputs": [],
   "source": [
    "#models de Word2Vec preentrenats (mean ponderada)\n",
    "def map_tf_idf(sentence_preproc: List[str], dictionary: Dictionary) -> Tuple[List[np.ndarray], List[float]]:\n",
    "    '''\n",
    "    Mapea una oración preprocesada a una lista de vectores y pesos TF-IDF\n",
    "    :param sentence_preproc: la oración preprocesada\n",
    "    :param dictionary: el diccionario de Gensim\n",
    "    :return: una tupla con una lista de vectores y una lista de pesos TF-IDF\n",
    "    '''\n",
    "    bow = dictionary.doc2bow(sentence_preproc)\n",
    "    tf_idf = modelo_tfidf[bow]\n",
    "    vectors, weights = [], []\n",
    "    for word_index, weight in tf_idf:\n",
    "        word = dictionary.get(word_index)\n",
    "        if word in wv_model:\n",
    "            vectors.append(wv_model[word])\n",
    "            weights.append(weight)\n",
    "    return vectors, weights"
   ]
  },
  {
   "cell_type": "code",
   "execution_count": 115,
   "metadata": {},
   "outputs": [],
   "source": [
    "mapped_w2v_tfidf = map_pairs(input_pairs, model='W2V + MEAN', dictionary=diccionario, )\n",
    "\n",
    "mapped_train_w2v_tfidf = map_pairs(train,  model='W2V + TFIDF', dictionary=diccionario, )\n",
    "mapped_val_w2v_tfidf = map_pairs(validation, model='W2V + TFIDF', dictionary=diccionario, )\n",
    "mapped_test_w2v_tfidf = map_pairs(test, model='W2V + TFIDF', dictionary=diccionario, )"
   ]
  },
  {
   "cell_type": "code",
   "execution_count": 116,
   "metadata": {},
   "outputs": [
    {
     "name": "stdout",
     "output_type": "stream",
     "text": [
      "Pares de vectores: (300,), (300,)\n",
      "Puntuación de similitud: 3.5\n",
      "Pares de vectores: (300,), (300,)\n",
      "Puntuación de similitud: 1.25\n",
      "Pares de vectores: (300,), (300,)\n",
      "Puntuación de similitud: 3.67\n",
      "Pares de vectores: (300,), (300,)\n",
      "Puntuación de similitud: 2.25\n",
      "Pares de vectores: (300,), (300,)\n",
      "Puntuación de similitud: 2.0\n"
     ]
    }
   ],
   "source": [
    "for vectors, similitud in mapped_w2v_tfidf[:5]:\n",
    "    print(f\"Pares de vectores: {vectors[0].shape}, {vectors[1].shape}\")\n",
    "    print(f\"Puntuación de similitud: {similitud}\")"
   ]
  },
  {
   "cell_type": "code",
   "execution_count": 117,
   "metadata": {},
   "outputs": [],
   "source": [
    "# Obtener las listas de train y test\n",
    "x_train_w2v_tfidf, y_train_w2v_tfidf = pair_list_to_x_y(mapped_train_w2v_tfidf)\n",
    "x_val_w2v_tfidf, y_val_w2v_tfidf = pair_list_to_x_y(mapped_val_w2v_tfidf)"
   ]
  },
  {
   "cell_type": "code",
   "execution_count": 118,
   "metadata": {},
   "outputs": [],
   "source": [
    "# Preparar los conjuntos de datos de entrenamiento y validación\n",
    "train_dataset_w2v_tfidf = tf.data.Dataset.from_tensor_slices((x_train_w2v_tfidf, y_train_w2v_tfidf))\n",
    "train_dataset_w2v_tfidf = train_dataset_w2v_tfidf.shuffle(buffer_size=len(x_train_w2v_tfidf)).batch(batch_size)\n",
    "\n",
    "val_dataset_w2v_tfidf = tf.data.Dataset.from_tensor_slices((x_val_w2v_tfidf, y_val_w2v_tfidf))\n",
    "val_dataset_w2v_tfidf = val_dataset_w2v_tfidf.batch(batch_size)"
   ]
  },
  {
   "cell_type": "code",
   "execution_count": 119,
   "metadata": {},
   "outputs": [
    {
     "data": {
      "text/plain": [
       "((2073, 300), (2073, 300), (2073,))"
      ]
     },
     "execution_count": 119,
     "metadata": {},
     "output_type": "execute_result"
    }
   ],
   "source": [
    "# Show shapes\n",
    "x_train_w2v_tfidf[0].shape, x_train_w2v_tfidf[1].shape, y_train_w2v_tfidf.shape"
   ]
  },
  {
   "cell_type": "code",
   "execution_count": 120,
   "metadata": {},
   "outputs": [
    {
     "data": {
      "text/html": [
       "<pre style=\"white-space:pre;overflow-x:auto;line-height:normal;font-family:Menlo,'DejaVu Sans Mono',consolas,'Courier New',monospace\"><span style=\"font-weight: bold\">Model: \"functional_15\"</span>\n",
       "</pre>\n"
      ],
      "text/plain": [
       "\u001b[1mModel: \"functional_15\"\u001b[0m\n"
      ]
     },
     "metadata": {},
     "output_type": "display_data"
    },
    {
     "data": {
      "text/html": [
       "<pre style=\"white-space:pre;overflow-x:auto;line-height:normal;font-family:Menlo,'DejaVu Sans Mono',consolas,'Courier New',monospace\">┏━━━━━━━━━━━━━━━━━━━━━┳━━━━━━━━━━━━━━━━━━━┳━━━━━━━━━━━━┳━━━━━━━━━━━━━━━━━━━┓\n",
       "┃<span style=\"font-weight: bold\"> Layer (type)        </span>┃<span style=\"font-weight: bold\"> Output Shape      </span>┃<span style=\"font-weight: bold\">    Param # </span>┃<span style=\"font-weight: bold\"> Connected to      </span>┃\n",
       "┡━━━━━━━━━━━━━━━━━━━━━╇━━━━━━━━━━━━━━━━━━━╇━━━━━━━━━━━━╇━━━━━━━━━━━━━━━━━━━┩\n",
       "│ input_layer_14      │ (<span style=\"color: #00d7ff; text-decoration-color: #00d7ff\">None</span>, <span style=\"color: #00af00; text-decoration-color: #00af00\">300</span>)       │          <span style=\"color: #00af00; text-decoration-color: #00af00\">0</span> │ -                 │\n",
       "│ (<span style=\"color: #0087ff; text-decoration-color: #0087ff\">InputLayer</span>)        │                   │            │                   │\n",
       "├─────────────────────┼───────────────────┼────────────┼───────────────────┤\n",
       "│ input_layer_15      │ (<span style=\"color: #00d7ff; text-decoration-color: #00d7ff\">None</span>, <span style=\"color: #00af00; text-decoration-color: #00af00\">300</span>)       │          <span style=\"color: #00af00; text-decoration-color: #00af00\">0</span> │ -                 │\n",
       "│ (<span style=\"color: #0087ff; text-decoration-color: #0087ff\">InputLayer</span>)        │                   │            │                   │\n",
       "├─────────────────────┼───────────────────┼────────────┼───────────────────┤\n",
       "│ dense_7 (<span style=\"color: #0087ff; text-decoration-color: #0087ff\">Dense</span>)     │ (<span style=\"color: #00d7ff; text-decoration-color: #00d7ff\">None</span>, <span style=\"color: #00af00; text-decoration-color: #00af00\">300</span>)       │     <span style=\"color: #00af00; text-decoration-color: #00af00\">90,300</span> │ input_layer_14[<span style=\"color: #00af00; text-decoration-color: #00af00\">0</span>… │\n",
       "│                     │                   │            │ input_layer_15[<span style=\"color: #00af00; text-decoration-color: #00af00\">0</span>… │\n",
       "├─────────────────────┼───────────────────┼────────────┼───────────────────┤\n",
       "│ lambda_7 (<span style=\"color: #0087ff; text-decoration-color: #0087ff\">Lambda</span>)   │ (<span style=\"color: #00d7ff; text-decoration-color: #00d7ff\">None</span>)            │          <span style=\"color: #00af00; text-decoration-color: #00af00\">0</span> │ dense_7[<span style=\"color: #00af00; text-decoration-color: #00af00\">0</span>][<span style=\"color: #00af00; text-decoration-color: #00af00\">0</span>],    │\n",
       "│                     │                   │            │ dense_7[<span style=\"color: #00af00; text-decoration-color: #00af00\">1</span>][<span style=\"color: #00af00; text-decoration-color: #00af00\">0</span>]     │\n",
       "└─────────────────────┴───────────────────┴────────────┴───────────────────┘\n",
       "</pre>\n"
      ],
      "text/plain": [
       "┏━━━━━━━━━━━━━━━━━━━━━┳━━━━━━━━━━━━━━━━━━━┳━━━━━━━━━━━━┳━━━━━━━━━━━━━━━━━━━┓\n",
       "┃\u001b[1m \u001b[0m\u001b[1mLayer (type)       \u001b[0m\u001b[1m \u001b[0m┃\u001b[1m \u001b[0m\u001b[1mOutput Shape     \u001b[0m\u001b[1m \u001b[0m┃\u001b[1m \u001b[0m\u001b[1m   Param #\u001b[0m\u001b[1m \u001b[0m┃\u001b[1m \u001b[0m\u001b[1mConnected to     \u001b[0m\u001b[1m \u001b[0m┃\n",
       "┡━━━━━━━━━━━━━━━━━━━━━╇━━━━━━━━━━━━━━━━━━━╇━━━━━━━━━━━━╇━━━━━━━━━━━━━━━━━━━┩\n",
       "│ input_layer_14      │ (\u001b[38;5;45mNone\u001b[0m, \u001b[38;5;34m300\u001b[0m)       │          \u001b[38;5;34m0\u001b[0m │ -                 │\n",
       "│ (\u001b[38;5;33mInputLayer\u001b[0m)        │                   │            │                   │\n",
       "├─────────────────────┼───────────────────┼────────────┼───────────────────┤\n",
       "│ input_layer_15      │ (\u001b[38;5;45mNone\u001b[0m, \u001b[38;5;34m300\u001b[0m)       │          \u001b[38;5;34m0\u001b[0m │ -                 │\n",
       "│ (\u001b[38;5;33mInputLayer\u001b[0m)        │                   │            │                   │\n",
       "├─────────────────────┼───────────────────┼────────────┼───────────────────┤\n",
       "│ dense_7 (\u001b[38;5;33mDense\u001b[0m)     │ (\u001b[38;5;45mNone\u001b[0m, \u001b[38;5;34m300\u001b[0m)       │     \u001b[38;5;34m90,300\u001b[0m │ input_layer_14[\u001b[38;5;34m0\u001b[0m… │\n",
       "│                     │                   │            │ input_layer_15[\u001b[38;5;34m0\u001b[0m… │\n",
       "├─────────────────────┼───────────────────┼────────────┼───────────────────┤\n",
       "│ lambda_7 (\u001b[38;5;33mLambda\u001b[0m)   │ (\u001b[38;5;45mNone\u001b[0m)            │          \u001b[38;5;34m0\u001b[0m │ dense_7[\u001b[38;5;34m0\u001b[0m][\u001b[38;5;34m0\u001b[0m],    │\n",
       "│                     │                   │            │ dense_7[\u001b[38;5;34m1\u001b[0m][\u001b[38;5;34m0\u001b[0m]     │\n",
       "└─────────────────────┴───────────────────┴────────────┴───────────────────┘\n"
      ]
     },
     "metadata": {},
     "output_type": "display_data"
    },
    {
     "data": {
      "text/html": [
       "<pre style=\"white-space:pre;overflow-x:auto;line-height:normal;font-family:Menlo,'DejaVu Sans Mono',consolas,'Courier New',monospace\"><span style=\"font-weight: bold\"> Total params: </span><span style=\"color: #00af00; text-decoration-color: #00af00\">90,300</span> (352.73 KB)\n",
       "</pre>\n"
      ],
      "text/plain": [
       "\u001b[1m Total params: \u001b[0m\u001b[38;5;34m90,300\u001b[0m (352.73 KB)\n"
      ]
     },
     "metadata": {},
     "output_type": "display_data"
    },
    {
     "data": {
      "text/html": [
       "<pre style=\"white-space:pre;overflow-x:auto;line-height:normal;font-family:Menlo,'DejaVu Sans Mono',consolas,'Courier New',monospace\"><span style=\"font-weight: bold\"> Trainable params: </span><span style=\"color: #00af00; text-decoration-color: #00af00\">90,300</span> (352.73 KB)\n",
       "</pre>\n"
      ],
      "text/plain": [
       "\u001b[1m Trainable params: \u001b[0m\u001b[38;5;34m90,300\u001b[0m (352.73 KB)\n"
      ]
     },
     "metadata": {},
     "output_type": "display_data"
    },
    {
     "data": {
      "text/html": [
       "<pre style=\"white-space:pre;overflow-x:auto;line-height:normal;font-family:Menlo,'DejaVu Sans Mono',consolas,'Courier New',monospace\"><span style=\"font-weight: bold\"> Non-trainable params: </span><span style=\"color: #00af00; text-decoration-color: #00af00\">0</span> (0.00 B)\n",
       "</pre>\n"
      ],
      "text/plain": [
       "\u001b[1m Non-trainable params: \u001b[0m\u001b[38;5;34m0\u001b[0m (0.00 B)\n"
      ]
     },
     "metadata": {},
     "output_type": "display_data"
    },
    {
     "name": "stdout",
     "output_type": "stream",
     "text": [
      "None\n"
     ]
    }
   ],
   "source": [
    "# Construir y compilar el modelo\n",
    "model_w2v_tfidf = build_and_compile_model()\n",
    "\n",
    "print(model_w2v_tfidf.summary())"
   ]
  },
  {
   "cell_type": "code",
   "execution_count": 121,
   "metadata": {},
   "outputs": [
    {
     "name": "stdout",
     "output_type": "stream",
     "text": [
      "Epoch 1/64\n",
      "\u001b[1m33/33\u001b[0m \u001b[32m━━━━━━━━━━━━━━━━━━━━\u001b[0m\u001b[37m\u001b[0m \u001b[1m1s\u001b[0m 4ms/step - loss: 4.2174 - val_loss: 3.3023\n",
      "Epoch 2/64\n",
      "\u001b[1m33/33\u001b[0m \u001b[32m━━━━━━━━━━━━━━━━━━━━\u001b[0m\u001b[37m\u001b[0m \u001b[1m0s\u001b[0m 2ms/step - loss: 3.3628 - val_loss: 3.1292\n",
      "Epoch 3/64\n",
      "\u001b[1m33/33\u001b[0m \u001b[32m━━━━━━━━━━━━━━━━━━━━\u001b[0m\u001b[37m\u001b[0m \u001b[1m0s\u001b[0m 2ms/step - loss: 3.1407 - val_loss: 3.0165\n",
      "Epoch 4/64\n",
      "\u001b[1m33/33\u001b[0m \u001b[32m━━━━━━━━━━━━━━━━━━━━\u001b[0m\u001b[37m\u001b[0m \u001b[1m0s\u001b[0m 2ms/step - loss: 2.9691 - val_loss: 2.9341\n",
      "Epoch 5/64\n",
      "\u001b[1m33/33\u001b[0m \u001b[32m━━━━━━━━━━━━━━━━━━━━\u001b[0m\u001b[37m\u001b[0m \u001b[1m0s\u001b[0m 2ms/step - loss: 2.8278 - val_loss: 2.8712\n",
      "Epoch 6/64\n",
      "\u001b[1m33/33\u001b[0m \u001b[32m━━━━━━━━━━━━━━━━━━━━\u001b[0m\u001b[37m\u001b[0m \u001b[1m0s\u001b[0m 2ms/step - loss: 2.7112 - val_loss: 2.8214\n",
      "Epoch 7/64\n",
      "\u001b[1m33/33\u001b[0m \u001b[32m━━━━━━━━━━━━━━━━━━━━\u001b[0m\u001b[37m\u001b[0m \u001b[1m0s\u001b[0m 2ms/step - loss: 2.6058 - val_loss: 2.7809\n",
      "Epoch 8/64\n",
      "\u001b[1m33/33\u001b[0m \u001b[32m━━━━━━━━━━━━━━━━━━━━\u001b[0m\u001b[37m\u001b[0m \u001b[1m0s\u001b[0m 2ms/step - loss: 2.5115 - val_loss: 2.7471\n",
      "Epoch 9/64\n",
      "\u001b[1m33/33\u001b[0m \u001b[32m━━━━━━━━━━━━━━━━━━━━\u001b[0m\u001b[37m\u001b[0m \u001b[1m0s\u001b[0m 2ms/step - loss: 2.4251 - val_loss: 2.7182\n",
      "Epoch 10/64\n",
      "\u001b[1m33/33\u001b[0m \u001b[32m━━━━━━━━━━━━━━━━━━━━\u001b[0m\u001b[37m\u001b[0m \u001b[1m0s\u001b[0m 2ms/step - loss: 2.3450 - val_loss: 2.6934\n",
      "Epoch 11/64\n",
      "\u001b[1m33/33\u001b[0m \u001b[32m━━━━━━━━━━━━━━━━━━━━\u001b[0m\u001b[37m\u001b[0m \u001b[1m0s\u001b[0m 2ms/step - loss: 2.2704 - val_loss: 2.6715\n",
      "Epoch 12/64\n",
      "\u001b[1m33/33\u001b[0m \u001b[32m━━━━━━━━━━━━━━━━━━━━\u001b[0m\u001b[37m\u001b[0m \u001b[1m0s\u001b[0m 2ms/step - loss: 2.2049 - val_loss: 2.6522\n",
      "Epoch 13/64\n",
      "\u001b[1m33/33\u001b[0m \u001b[32m━━━━━━━━━━━━━━━━━━━━\u001b[0m\u001b[37m\u001b[0m \u001b[1m0s\u001b[0m 2ms/step - loss: 2.1385 - val_loss: 2.6349\n",
      "Epoch 14/64\n",
      "\u001b[1m33/33\u001b[0m \u001b[32m━━━━━━━━━━━━━━━━━━━━\u001b[0m\u001b[37m\u001b[0m \u001b[1m0s\u001b[0m 2ms/step - loss: 2.0839 - val_loss: 2.6197\n",
      "Epoch 15/64\n",
      "\u001b[1m33/33\u001b[0m \u001b[32m━━━━━━━━━━━━━━━━━━━━\u001b[0m\u001b[37m\u001b[0m \u001b[1m0s\u001b[0m 2ms/step - loss: 2.0277 - val_loss: 2.6056\n",
      "Epoch 16/64\n",
      "\u001b[1m33/33\u001b[0m \u001b[32m━━━━━━━━━━━━━━━━━━━━\u001b[0m\u001b[37m\u001b[0m \u001b[1m0s\u001b[0m 2ms/step - loss: 1.9767 - val_loss: 2.5928\n",
      "Epoch 17/64\n",
      "\u001b[1m33/33\u001b[0m \u001b[32m━━━━━━━━━━━━━━━━━━━━\u001b[0m\u001b[37m\u001b[0m \u001b[1m0s\u001b[0m 2ms/step - loss: 1.9294 - val_loss: 2.5813\n",
      "Epoch 18/64\n",
      "\u001b[1m33/33\u001b[0m \u001b[32m━━━━━━━━━━━━━━━━━━━━\u001b[0m\u001b[37m\u001b[0m \u001b[1m0s\u001b[0m 2ms/step - loss: 1.8835 - val_loss: 2.5708\n",
      "Epoch 19/64\n",
      "\u001b[1m33/33\u001b[0m \u001b[32m━━━━━━━━━━━━━━━━━━━━\u001b[0m\u001b[37m\u001b[0m \u001b[1m0s\u001b[0m 2ms/step - loss: 1.8418 - val_loss: 2.5610\n",
      "Epoch 20/64\n",
      "\u001b[1m33/33\u001b[0m \u001b[32m━━━━━━━━━━━━━━━━━━━━\u001b[0m\u001b[37m\u001b[0m \u001b[1m0s\u001b[0m 2ms/step - loss: 1.8009 - val_loss: 2.5522\n",
      "Epoch 21/64\n",
      "\u001b[1m33/33\u001b[0m \u001b[32m━━━━━━━━━━━━━━━━━━━━\u001b[0m\u001b[37m\u001b[0m \u001b[1m0s\u001b[0m 2ms/step - loss: 1.7620 - val_loss: 2.5438\n",
      "Epoch 22/64\n",
      "\u001b[1m33/33\u001b[0m \u001b[32m━━━━━━━━━━━━━━━━━━━━\u001b[0m\u001b[37m\u001b[0m \u001b[1m0s\u001b[0m 2ms/step - loss: 1.7266 - val_loss: 2.5364\n",
      "Epoch 23/64\n",
      "\u001b[1m33/33\u001b[0m \u001b[32m━━━━━━━━━━━━━━━━━━━━\u001b[0m\u001b[37m\u001b[0m \u001b[1m0s\u001b[0m 2ms/step - loss: 1.6921 - val_loss: 2.5291\n",
      "Epoch 24/64\n",
      "\u001b[1m33/33\u001b[0m \u001b[32m━━━━━━━━━━━━━━━━━━━━\u001b[0m\u001b[37m\u001b[0m \u001b[1m0s\u001b[0m 2ms/step - loss: 1.6562 - val_loss: 2.5224\n",
      "Epoch 25/64\n",
      "\u001b[1m33/33\u001b[0m \u001b[32m━━━━━━━━━━━━━━━━━━━━\u001b[0m\u001b[37m\u001b[0m \u001b[1m0s\u001b[0m 2ms/step - loss: 1.6288 - val_loss: 2.5166\n",
      "Epoch 26/64\n",
      "\u001b[1m33/33\u001b[0m \u001b[32m━━━━━━━━━━━━━━━━━━━━\u001b[0m\u001b[37m\u001b[0m \u001b[1m0s\u001b[0m 2ms/step - loss: 1.5991 - val_loss: 2.5108\n",
      "Epoch 27/64\n",
      "\u001b[1m33/33\u001b[0m \u001b[32m━━━━━━━━━━━━━━━━━━━━\u001b[0m\u001b[37m\u001b[0m \u001b[1m0s\u001b[0m 2ms/step - loss: 1.5680 - val_loss: 2.5059\n",
      "Epoch 28/64\n",
      "\u001b[1m33/33\u001b[0m \u001b[32m━━━━━━━━━━━━━━━━━━━━\u001b[0m\u001b[37m\u001b[0m \u001b[1m0s\u001b[0m 2ms/step - loss: 1.5406 - val_loss: 2.5014\n",
      "Epoch 29/64\n",
      "\u001b[1m33/33\u001b[0m \u001b[32m━━━━━━━━━━━━━━━━━━━━\u001b[0m\u001b[37m\u001b[0m \u001b[1m0s\u001b[0m 2ms/step - loss: 1.5165 - val_loss: 2.4966\n",
      "Epoch 30/64\n",
      "\u001b[1m33/33\u001b[0m \u001b[32m━━━━━━━━━━━━━━━━━━━━\u001b[0m\u001b[37m\u001b[0m \u001b[1m0s\u001b[0m 2ms/step - loss: 1.4941 - val_loss: 2.4931\n",
      "Epoch 31/64\n",
      "\u001b[1m33/33\u001b[0m \u001b[32m━━━━━━━━━━━━━━━━━━━━\u001b[0m\u001b[37m\u001b[0m \u001b[1m0s\u001b[0m 2ms/step - loss: 1.4676 - val_loss: 2.4895\n",
      "Epoch 32/64\n",
      "\u001b[1m33/33\u001b[0m \u001b[32m━━━━━━━━━━━━━━━━━━━━\u001b[0m\u001b[37m\u001b[0m \u001b[1m0s\u001b[0m 2ms/step - loss: 1.4482 - val_loss: 2.4863\n",
      "Epoch 33/64\n",
      "\u001b[1m33/33\u001b[0m \u001b[32m━━━━━━━━━━━━━━━━━━━━\u001b[0m\u001b[37m\u001b[0m \u001b[1m0s\u001b[0m 2ms/step - loss: 1.4278 - val_loss: 2.4831\n",
      "Epoch 34/64\n",
      "\u001b[1m33/33\u001b[0m \u001b[32m━━━━━━━━━━━━━━━━━━━━\u001b[0m\u001b[37m\u001b[0m \u001b[1m0s\u001b[0m 2ms/step - loss: 1.4051 - val_loss: 2.4804\n",
      "Epoch 35/64\n",
      "\u001b[1m33/33\u001b[0m \u001b[32m━━━━━━━━━━━━━━━━━━━━\u001b[0m\u001b[37m\u001b[0m \u001b[1m0s\u001b[0m 2ms/step - loss: 1.3875 - val_loss: 2.4780\n",
      "Epoch 36/64\n",
      "\u001b[1m33/33\u001b[0m \u001b[32m━━━━━━━━━━━━━━━━━━━━\u001b[0m\u001b[37m\u001b[0m \u001b[1m0s\u001b[0m 2ms/step - loss: 1.3672 - val_loss: 2.4755\n",
      "Epoch 37/64\n",
      "\u001b[1m33/33\u001b[0m \u001b[32m━━━━━━━━━━━━━━━━━━━━\u001b[0m\u001b[37m\u001b[0m \u001b[1m0s\u001b[0m 2ms/step - loss: 1.3484 - val_loss: 2.4735\n",
      "Epoch 38/64\n",
      "\u001b[1m33/33\u001b[0m \u001b[32m━━━━━━━━━━━━━━━━━━━━\u001b[0m\u001b[37m\u001b[0m \u001b[1m0s\u001b[0m 2ms/step - loss: 1.3328 - val_loss: 2.4714\n",
      "Epoch 39/64\n",
      "\u001b[1m33/33\u001b[0m \u001b[32m━━━━━━━━━━━━━━━━━━━━\u001b[0m\u001b[37m\u001b[0m \u001b[1m0s\u001b[0m 2ms/step - loss: 1.3183 - val_loss: 2.4695\n",
      "Epoch 40/64\n",
      "\u001b[1m33/33\u001b[0m \u001b[32m━━━━━━━━━━━━━━━━━━━━\u001b[0m\u001b[37m\u001b[0m \u001b[1m0s\u001b[0m 2ms/step - loss: 1.3003 - val_loss: 2.4677\n",
      "Epoch 41/64\n",
      "\u001b[1m33/33\u001b[0m \u001b[32m━━━━━━━━━━━━━━━━━━━━\u001b[0m\u001b[37m\u001b[0m \u001b[1m0s\u001b[0m 2ms/step - loss: 1.2867 - val_loss: 2.4661\n",
      "Epoch 42/64\n",
      "\u001b[1m33/33\u001b[0m \u001b[32m━━━━━━━━━━━━━━━━━━━━\u001b[0m\u001b[37m\u001b[0m \u001b[1m0s\u001b[0m 2ms/step - loss: 1.2725 - val_loss: 2.4645\n",
      "Epoch 43/64\n",
      "\u001b[1m33/33\u001b[0m \u001b[32m━━━━━━━━━━━━━━━━━━━━\u001b[0m\u001b[37m\u001b[0m \u001b[1m0s\u001b[0m 2ms/step - loss: 1.2583 - val_loss: 2.4632\n",
      "Epoch 44/64\n",
      "\u001b[1m33/33\u001b[0m \u001b[32m━━━━━━━━━━━━━━━━━━━━\u001b[0m\u001b[37m\u001b[0m \u001b[1m0s\u001b[0m 2ms/step - loss: 1.2455 - val_loss: 2.4617\n",
      "Epoch 45/64\n",
      "\u001b[1m33/33\u001b[0m \u001b[32m━━━━━━━━━━━━━━━━━━━━\u001b[0m\u001b[37m\u001b[0m \u001b[1m0s\u001b[0m 2ms/step - loss: 1.2311 - val_loss: 2.4604\n",
      "Epoch 46/64\n",
      "\u001b[1m33/33\u001b[0m \u001b[32m━━━━━━━━━━━━━━━━━━━━\u001b[0m\u001b[37m\u001b[0m \u001b[1m0s\u001b[0m 2ms/step - loss: 1.2195 - val_loss: 2.4595\n",
      "Epoch 47/64\n",
      "\u001b[1m33/33\u001b[0m \u001b[32m━━━━━━━━━━━━━━━━━━━━\u001b[0m\u001b[37m\u001b[0m \u001b[1m0s\u001b[0m 2ms/step - loss: 1.2071 - val_loss: 2.4583\n",
      "Epoch 48/64\n",
      "\u001b[1m33/33\u001b[0m \u001b[32m━━━━━━━━━━━━━━━━━━━━\u001b[0m\u001b[37m\u001b[0m \u001b[1m0s\u001b[0m 2ms/step - loss: 1.1967 - val_loss: 2.4569\n",
      "Epoch 49/64\n",
      "\u001b[1m33/33\u001b[0m \u001b[32m━━━━━━━━━━━━━━━━━━━━\u001b[0m\u001b[37m\u001b[0m \u001b[1m0s\u001b[0m 2ms/step - loss: 1.1835 - val_loss: 2.4561\n",
      "Epoch 50/64\n",
      "\u001b[1m33/33\u001b[0m \u001b[32m━━━━━━━━━━━━━━━━━━━━\u001b[0m\u001b[37m\u001b[0m \u001b[1m0s\u001b[0m 2ms/step - loss: 1.1749 - val_loss: 2.4549\n",
      "Epoch 51/64\n",
      "\u001b[1m33/33\u001b[0m \u001b[32m━━━━━━━━━━━━━━━━━━━━\u001b[0m\u001b[37m\u001b[0m \u001b[1m0s\u001b[0m 2ms/step - loss: 1.1636 - val_loss: 2.4540\n",
      "Epoch 52/64\n",
      "\u001b[1m33/33\u001b[0m \u001b[32m━━━━━━━━━━━━━━━━━━━━\u001b[0m\u001b[37m\u001b[0m \u001b[1m0s\u001b[0m 2ms/step - loss: 1.1532 - val_loss: 2.4530\n",
      "Epoch 53/64\n",
      "\u001b[1m33/33\u001b[0m \u001b[32m━━━━━━━━━━━━━━━━━━━━\u001b[0m\u001b[37m\u001b[0m \u001b[1m0s\u001b[0m 2ms/step - loss: 1.1428 - val_loss: 2.4519\n",
      "Epoch 54/64\n",
      "\u001b[1m33/33\u001b[0m \u001b[32m━━━━━━━━━━━━━━━━━━━━\u001b[0m\u001b[37m\u001b[0m \u001b[1m0s\u001b[0m 2ms/step - loss: 1.1350 - val_loss: 2.4516\n",
      "Epoch 55/64\n",
      "\u001b[1m33/33\u001b[0m \u001b[32m━━━━━━━━━━━━━━━━━━━━\u001b[0m\u001b[37m\u001b[0m \u001b[1m0s\u001b[0m 2ms/step - loss: 1.1264 - val_loss: 2.4503\n",
      "Epoch 56/64\n",
      "\u001b[1m33/33\u001b[0m \u001b[32m━━━━━━━━━━━━━━━━━━━━\u001b[0m\u001b[37m\u001b[0m \u001b[1m0s\u001b[0m 2ms/step - loss: 1.1154 - val_loss: 2.4498\n",
      "Epoch 57/64\n",
      "\u001b[1m33/33\u001b[0m \u001b[32m━━━━━━━━━━━━━━━━━━━━\u001b[0m\u001b[37m\u001b[0m \u001b[1m0s\u001b[0m 2ms/step - loss: 1.1062 - val_loss: 2.4491\n",
      "Epoch 58/64\n",
      "\u001b[1m33/33\u001b[0m \u001b[32m━━━━━━━━━━━━━━━━━━━━\u001b[0m\u001b[37m\u001b[0m \u001b[1m0s\u001b[0m 2ms/step - loss: 1.0973 - val_loss: 2.4483\n",
      "Epoch 59/64\n",
      "\u001b[1m33/33\u001b[0m \u001b[32m━━━━━━━━━━━━━━━━━━━━\u001b[0m\u001b[37m\u001b[0m \u001b[1m0s\u001b[0m 2ms/step - loss: 1.0897 - val_loss: 2.4481\n",
      "Epoch 60/64\n",
      "\u001b[1m33/33\u001b[0m \u001b[32m━━━━━━━━━━━━━━━━━━━━\u001b[0m\u001b[37m\u001b[0m \u001b[1m0s\u001b[0m 2ms/step - loss: 1.0822 - val_loss: 2.4474\n",
      "Epoch 61/64\n",
      "\u001b[1m33/33\u001b[0m \u001b[32m━━━━━━━━━━━━━━━━━━━━\u001b[0m\u001b[37m\u001b[0m \u001b[1m0s\u001b[0m 2ms/step - loss: 1.0743 - val_loss: 2.4472\n",
      "Epoch 62/64\n",
      "\u001b[1m33/33\u001b[0m \u001b[32m━━━━━━━━━━━━━━━━━━━━\u001b[0m\u001b[37m\u001b[0m \u001b[1m0s\u001b[0m 2ms/step - loss: 1.0671 - val_loss: 2.4465\n",
      "Epoch 63/64\n",
      "\u001b[1m33/33\u001b[0m \u001b[32m━━━━━━━━━━━━━━━━━━━━\u001b[0m\u001b[37m\u001b[0m \u001b[1m0s\u001b[0m 2ms/step - loss: 1.0584 - val_loss: 2.4461\n",
      "Epoch 64/64\n",
      "\u001b[1m33/33\u001b[0m \u001b[32m━━━━━━━━━━━━━━━━━━━━\u001b[0m\u001b[37m\u001b[0m \u001b[1m0s\u001b[0m 2ms/step - loss: 1.0523 - val_loss: 2.4457\n"
     ]
    },
    {
     "data": {
      "text/plain": [
       "<keras.src.callbacks.history.History at 0x17aa0c365d0>"
      ]
     },
     "execution_count": 121,
     "metadata": {},
     "output_type": "execute_result"
    }
   ],
   "source": [
    "# Train the model\n",
    "model_w2v_tfidf.fit(train_dataset_w2v_tfidf, epochs=num_epochs, validation_data=val_dataset_w2v_tfidf)"
   ]
  },
  {
   "cell_type": "code",
   "execution_count": 122,
   "metadata": {},
   "outputs": [],
   "source": [
    "#El model al test\n",
    "x_test_w2v_tfidf, y_test_w2v_tfidf = pair_list_to_x_y(mapped_test_w2v_tfidf)"
   ]
  },
  {
   "cell_type": "code",
   "execution_count": 123,
   "metadata": {},
   "outputs": [
    {
     "name": "stdout",
     "output_type": "stream",
     "text": [
      "Correlación de Pearson (baseline-train): 0.3805684081019019\n",
      "Correlación de Pearson (baseline-validation): 0.4066765092543781\n",
      "Correlación de Pearson (baseline-test): 0.46283983418366403\n",
      "\n",
      "\n",
      "\u001b[1m65/65\u001b[0m \u001b[32m━━━━━━━━━━━━━━━━━━━━\u001b[0m\u001b[37m\u001b[0m \u001b[1m0s\u001b[0m 2ms/step\n",
      "Correlación de Pearson (train): 0.7659336171473994\n",
      "\u001b[1m16/16\u001b[0m \u001b[32m━━━━━━━━━━━━━━━━━━━━\u001b[0m\u001b[37m\u001b[0m \u001b[1m0s\u001b[0m 1ms/step \n",
      "Correlación de Pearson (validation): 0.478756798150101\n",
      "\u001b[1m16/16\u001b[0m \u001b[32m━━━━━━━━━━━━━━━━━━━━\u001b[0m\u001b[37m\u001b[0m \u001b[1m0s\u001b[0m 1ms/step \n",
      "Correlación de Pearson (test): 0.5158266890907587\n"
     ]
    }
   ],
   "source": [
    "# Imprimir el coeficiente de correlación de Pearson\n",
    "print(f\"Correlación de Pearson (baseline-train): {compute_pearson_baseline(x_train_w2v_tfidf, y_train_w2v_tfidf)}\")\n",
    "print(f\"Correlación de Pearson (baseline-validation): {compute_pearson_baseline(x_val_w2v_tfidf, y_val_w2v_tfidf)}\")\n",
    "print(f\"Correlación de Pearson (baseline-test): {compute_pearson_baseline(x_test_w2v_tfidf, y_test_w2v_tfidf)}\")\n",
    "print('\\n')\n",
    "# Imprimir el coeficiente de correlación de Pearson\n",
    "print(f\"Correlación de Pearson (train): {compute_pearson(x_train_w2v_tfidf, y_train_w2v_tfidf, model_w2v_tfidf)}\")\n",
    "print(f\"Correlación de Pearson (validation): {compute_pearson(x_val_w2v_tfidf, y_val_w2v_tfidf, model_w2v_tfidf)}\")\n",
    "print(f\"Correlación de Pearson (test): {compute_pearson(x_test_w2v_tfidf, y_test_w2v_tfidf, model_w2v_tfidf)}\")"
   ]
  },
  {
   "cell_type": "markdown",
   "metadata": {},
   "source": [
    "### 3. SpaCy\n",
    "---"
   ]
  },
  {
   "cell_type": "code",
   "execution_count": 124,
   "metadata": {},
   "outputs": [
    {
     "name": "stdout",
     "output_type": "stream",
     "text": [
      "Collecting ca-core-news-md==3.7.0\n",
      "  Downloading https://github.com/explosion/spacy-models/releases/download/ca_core_news_md-3.7.0/ca_core_news_md-3.7.0-py3-none-any.whl (49.2 MB)\n",
      "     ---------------------------------------- 0.0/49.2 MB ? eta -:--:--\n",
      "     ---------------------------------------- 0.4/49.2 MB 11.2 MB/s eta 0:00:05\n",
      "     - -------------------------------------- 1.9/49.2 MB 30.7 MB/s eta 0:00:02\n",
      "     --- ------------------------------------ 4.8/49.2 MB 38.0 MB/s eta 0:00:02\n",
      "     ------ --------------------------------- 8.4/49.2 MB 48.9 MB/s eta 0:00:01\n",
      "     --------- ----------------------------- 12.4/49.2 MB 81.8 MB/s eta 0:00:01\n",
      "     ------------- ------------------------- 16.7/49.2 MB 93.9 MB/s eta 0:00:01\n",
      "     ---------------- ---------------------- 20.6/49.2 MB 93.9 MB/s eta 0:00:01\n",
      "     ------------------- ------------------- 24.7/49.2 MB 93.9 MB/s eta 0:00:01\n",
      "     ---------------------- ---------------- 28.9/49.2 MB 81.8 MB/s eta 0:00:01\n",
      "     -------------------------- ------------ 33.0/49.2 MB 81.8 MB/s eta 0:00:01\n",
      "     ----------------------------- --------- 37.2/49.2 MB 81.8 MB/s eta 0:00:01\n",
      "     -------------------------------- ------ 41.3/49.2 MB 81.8 MB/s eta 0:00:01\n",
      "     ------------------------------------ -- 45.5/49.2 MB 81.8 MB/s eta 0:00:01\n",
      "     --------------------------------------  49.2/49.2 MB 93.9 MB/s eta 0:00:01\n",
      "     --------------------------------------  49.2/49.2 MB 93.9 MB/s eta 0:00:01\n",
      "     --------------------------------------  49.2/49.2 MB 93.9 MB/s eta 0:00:01\n",
      "     --------------------------------------  49.2/49.2 MB 93.9 MB/s eta 0:00:01\n",
      "     --------------------------------------  49.2/49.2 MB 93.9 MB/s eta 0:00:01\n",
      "     --------------------------------------  49.2/49.2 MB 93.9 MB/s eta 0:00:01\n",
      "     --------------------------------------- 49.2/49.2 MB 25.2 MB/s eta 0:00:00\n",
      "Requirement already satisfied: spacy<3.8.0,>=3.7.0 in d:\\github\\plh4---embeddings\\.venv\\lib\\site-packages (from ca-core-news-md==3.7.0) (3.7.4)\n",
      "Requirement already satisfied: spacy-legacy<3.1.0,>=3.0.11 in d:\\github\\plh4---embeddings\\.venv\\lib\\site-packages (from spacy<3.8.0,>=3.7.0->ca-core-news-md==3.7.0) (3.0.12)\n",
      "Requirement already satisfied: spacy-loggers<2.0.0,>=1.0.0 in d:\\github\\plh4---embeddings\\.venv\\lib\\site-packages (from spacy<3.8.0,>=3.7.0->ca-core-news-md==3.7.0) (1.0.5)\n",
      "Requirement already satisfied: murmurhash<1.1.0,>=0.28.0 in d:\\github\\plh4---embeddings\\.venv\\lib\\site-packages (from spacy<3.8.0,>=3.7.0->ca-core-news-md==3.7.0) (1.0.10)\n",
      "Requirement already satisfied: cymem<2.1.0,>=2.0.2 in d:\\github\\plh4---embeddings\\.venv\\lib\\site-packages (from spacy<3.8.0,>=3.7.0->ca-core-news-md==3.7.0) (2.0.8)\n",
      "Requirement already satisfied: preshed<3.1.0,>=3.0.2 in d:\\github\\plh4---embeddings\\.venv\\lib\\site-packages (from spacy<3.8.0,>=3.7.0->ca-core-news-md==3.7.0) (3.0.9)\n",
      "Requirement already satisfied: thinc<8.3.0,>=8.2.2 in d:\\github\\plh4---embeddings\\.venv\\lib\\site-packages (from spacy<3.8.0,>=3.7.0->ca-core-news-md==3.7.0) (8.2.3)\n",
      "Requirement already satisfied: wasabi<1.2.0,>=0.9.1 in d:\\github\\plh4---embeddings\\.venv\\lib\\site-packages (from spacy<3.8.0,>=3.7.0->ca-core-news-md==3.7.0) (1.1.3)\n",
      "Requirement already satisfied: srsly<3.0.0,>=2.4.3 in d:\\github\\plh4---embeddings\\.venv\\lib\\site-packages (from spacy<3.8.0,>=3.7.0->ca-core-news-md==3.7.0) (2.4.8)\n",
      "Requirement already satisfied: catalogue<2.1.0,>=2.0.6 in d:\\github\\plh4---embeddings\\.venv\\lib\\site-packages (from spacy<3.8.0,>=3.7.0->ca-core-news-md==3.7.0) (2.0.10)\n",
      "Requirement already satisfied: weasel<0.4.0,>=0.1.0 in d:\\github\\plh4---embeddings\\.venv\\lib\\site-packages (from spacy<3.8.0,>=3.7.0->ca-core-news-md==3.7.0) (0.3.4)\n",
      "Requirement already satisfied: typer<0.10.0,>=0.3.0 in d:\\github\\plh4---embeddings\\.venv\\lib\\site-packages (from spacy<3.8.0,>=3.7.0->ca-core-news-md==3.7.0) (0.9.4)\n",
      "Requirement already satisfied: smart-open<7.0.0,>=5.2.1 in d:\\github\\plh4---embeddings\\.venv\\lib\\site-packages (from spacy<3.8.0,>=3.7.0->ca-core-news-md==3.7.0) (6.4.0)\n",
      "Requirement already satisfied: tqdm<5.0.0,>=4.38.0 in d:\\github\\plh4---embeddings\\.venv\\lib\\site-packages (from spacy<3.8.0,>=3.7.0->ca-core-news-md==3.7.0) (4.66.4)\n",
      "Requirement already satisfied: requests<3.0.0,>=2.13.0 in d:\\github\\plh4---embeddings\\.venv\\lib\\site-packages (from spacy<3.8.0,>=3.7.0->ca-core-news-md==3.7.0) (2.32.3)\n",
      "Requirement already satisfied: pydantic!=1.8,!=1.8.1,<3.0.0,>=1.7.4 in d:\\github\\plh4---embeddings\\.venv\\lib\\site-packages (from spacy<3.8.0,>=3.7.0->ca-core-news-md==3.7.0) (2.7.3)\n",
      "Requirement already satisfied: jinja2 in d:\\github\\plh4---embeddings\\.venv\\lib\\site-packages (from spacy<3.8.0,>=3.7.0->ca-core-news-md==3.7.0) (3.1.4)\n",
      "Requirement already satisfied: setuptools in d:\\github\\plh4---embeddings\\.venv\\lib\\site-packages (from spacy<3.8.0,>=3.7.0->ca-core-news-md==3.7.0) (65.5.0)\n",
      "Requirement already satisfied: packaging>=20.0 in d:\\github\\plh4---embeddings\\.venv\\lib\\site-packages (from spacy<3.8.0,>=3.7.0->ca-core-news-md==3.7.0) (24.0)\n",
      "Requirement already satisfied: langcodes<4.0.0,>=3.2.0 in d:\\github\\plh4---embeddings\\.venv\\lib\\site-packages (from spacy<3.8.0,>=3.7.0->ca-core-news-md==3.7.0) (3.4.0)\n",
      "Requirement already satisfied: numpy>=1.19.0 in d:\\github\\plh4---embeddings\\.venv\\lib\\site-packages (from spacy<3.8.0,>=3.7.0->ca-core-news-md==3.7.0) (1.26.4)\n",
      "Requirement already satisfied: language-data>=1.2 in d:\\github\\plh4---embeddings\\.venv\\lib\\site-packages (from langcodes<4.0.0,>=3.2.0->spacy<3.8.0,>=3.7.0->ca-core-news-md==3.7.0) (1.2.0)\n",
      "Requirement already satisfied: annotated-types>=0.4.0 in d:\\github\\plh4---embeddings\\.venv\\lib\\site-packages (from pydantic!=1.8,!=1.8.1,<3.0.0,>=1.7.4->spacy<3.8.0,>=3.7.0->ca-core-news-md==3.7.0) (0.7.0)\n",
      "Requirement already satisfied: pydantic-core==2.18.4 in d:\\github\\plh4---embeddings\\.venv\\lib\\site-packages (from pydantic!=1.8,!=1.8.1,<3.0.0,>=1.7.4->spacy<3.8.0,>=3.7.0->ca-core-news-md==3.7.0) (2.18.4)\n",
      "Requirement already satisfied: typing-extensions>=4.6.1 in d:\\github\\plh4---embeddings\\.venv\\lib\\site-packages (from pydantic!=1.8,!=1.8.1,<3.0.0,>=1.7.4->spacy<3.8.0,>=3.7.0->ca-core-news-md==3.7.0) (4.12.1)\n",
      "Requirement already satisfied: charset-normalizer<4,>=2 in d:\\github\\plh4---embeddings\\.venv\\lib\\site-packages (from requests<3.0.0,>=2.13.0->spacy<3.8.0,>=3.7.0->ca-core-news-md==3.7.0) (3.3.2)\n",
      "Requirement already satisfied: idna<4,>=2.5 in d:\\github\\plh4---embeddings\\.venv\\lib\\site-packages (from requests<3.0.0,>=2.13.0->spacy<3.8.0,>=3.7.0->ca-core-news-md==3.7.0) (3.7)\n",
      "Requirement already satisfied: urllib3<3,>=1.21.1 in d:\\github\\plh4---embeddings\\.venv\\lib\\site-packages (from requests<3.0.0,>=2.13.0->spacy<3.8.0,>=3.7.0->ca-core-news-md==3.7.0) (2.2.1)\n",
      "Requirement already satisfied: certifi>=2017.4.17 in d:\\github\\plh4---embeddings\\.venv\\lib\\site-packages (from requests<3.0.0,>=2.13.0->spacy<3.8.0,>=3.7.0->ca-core-news-md==3.7.0) (2024.6.2)\n",
      "Requirement already satisfied: blis<0.8.0,>=0.7.8 in d:\\github\\plh4---embeddings\\.venv\\lib\\site-packages (from thinc<8.3.0,>=8.2.2->spacy<3.8.0,>=3.7.0->ca-core-news-md==3.7.0) (0.7.11)\n",
      "Requirement already satisfied: confection<1.0.0,>=0.0.1 in d:\\github\\plh4---embeddings\\.venv\\lib\\site-packages (from thinc<8.3.0,>=8.2.2->spacy<3.8.0,>=3.7.0->ca-core-news-md==3.7.0) (0.1.5)\n",
      "Requirement already satisfied: colorama in d:\\github\\plh4---embeddings\\.venv\\lib\\site-packages (from tqdm<5.0.0,>=4.38.0->spacy<3.8.0,>=3.7.0->ca-core-news-md==3.7.0) (0.4.6)\n",
      "Requirement already satisfied: click<9.0.0,>=7.1.1 in d:\\github\\plh4---embeddings\\.venv\\lib\\site-packages (from typer<0.10.0,>=0.3.0->spacy<3.8.0,>=3.7.0->ca-core-news-md==3.7.0) (8.1.7)\n",
      "Requirement already satisfied: cloudpathlib<0.17.0,>=0.7.0 in d:\\github\\plh4---embeddings\\.venv\\lib\\site-packages (from weasel<0.4.0,>=0.1.0->spacy<3.8.0,>=3.7.0->ca-core-news-md==3.7.0) (0.16.0)\n",
      "Requirement already satisfied: MarkupSafe>=2.0 in d:\\github\\plh4---embeddings\\.venv\\lib\\site-packages (from jinja2->spacy<3.8.0,>=3.7.0->ca-core-news-md==3.7.0) (2.1.5)\n",
      "Requirement already satisfied: marisa-trie>=0.7.7 in d:\\github\\plh4---embeddings\\.venv\\lib\\site-packages (from language-data>=1.2->langcodes<4.0.0,>=3.2.0->spacy<3.8.0,>=3.7.0->ca-core-news-md==3.7.0) (1.1.1)\n",
      "\u001b[38;5;2m✔ Download and installation successful\u001b[0m\n",
      "You can now load the package via spacy.load('ca_core_news_md')\n"
     ]
    }
   ],
   "source": [
    "!python -m spacy download ca_core_news_md\n"
   ]
  },
  {
   "cell_type": "code",
   "execution_count": 125,
   "metadata": {},
   "outputs": [],
   "source": [
    "#get the embeddings from the spacy model\n",
    "import spacy\n",
    "nlp = spacy.load('ca_core_news_md')\n",
    "\n",
    "def map_spacy(sentence: str, nlp=nlp) -> np.ndarray:\n",
    "    '''\n",
    "    Mapea una oración a un vector utilizando un modelo de Spacy\n",
    "    :param sentence: la oración a mapear\n",
    "    :param nlp: el modelo de Spacy\n",
    "    :return: el vector de la oración\n",
    "    '''\n",
    "    doc = nlp(sentence)\n",
    "    return doc.vector"
   ]
  },
  {
   "cell_type": "code",
   "execution_count": 126,
   "metadata": {},
   "outputs": [],
   "source": [
    "mapped_spacy = map_pairs(input_pairs, model='SPACY', dictionary=diccionario, )\n",
    "\n",
    "mapped_train_spacy = map_pairs(train,  model='SPACY', dictionary=diccionario, )\n",
    "mapped_val_spacy = map_pairs(validation, model='SPACY', dictionary=diccionario, )\n",
    "mapped_test_spacy = map_pairs(test, model='SPACY', dictionary=diccionario, )"
   ]
  },
  {
   "cell_type": "code",
   "execution_count": 127,
   "metadata": {},
   "outputs": [
    {
     "name": "stdout",
     "output_type": "stream",
     "text": [
      "Pares de vectores: (300,), (300,)\n",
      "Puntuación de similitud: 3.5\n",
      "Pares de vectores: (300,), (300,)\n",
      "Puntuación de similitud: 1.25\n",
      "Pares de vectores: (300,), (300,)\n",
      "Puntuación de similitud: 3.67\n",
      "Pares de vectores: (300,), (300,)\n",
      "Puntuación de similitud: 2.25\n",
      "Pares de vectores: (300,), (300,)\n",
      "Puntuación de similitud: 2.0\n"
     ]
    }
   ],
   "source": [
    "for vectors, similitud in mapped_spacy[:5]:\n",
    "    print(f\"Pares de vectores: {vectors[0].shape}, {vectors[1].shape}\")\n",
    "    print(f\"Puntuación de similitud: {similitud}\")"
   ]
  },
  {
   "cell_type": "code",
   "execution_count": 128,
   "metadata": {},
   "outputs": [],
   "source": [
    "# Obtener las listas de train y test\n",
    "x_train_spacy, y_train_spacy = pair_list_to_x_y(mapped_train_spacy)\n",
    "x_val_spacy, y_val_spacy = pair_list_to_x_y(mapped_val_spacy)"
   ]
  },
  {
   "cell_type": "code",
   "execution_count": 129,
   "metadata": {},
   "outputs": [],
   "source": [
    "# Preparar los conjuntos de datos de entrenamiento y validación\n",
    "train_dataset_spacy = tf.data.Dataset.from_tensor_slices((x_train_spacy, y_train_spacy))\n",
    "train_dataset_spacy = train_dataset_spacy.shuffle(buffer_size=len(x_train_spacy)).batch(batch_size)\n",
    "\n",
    "val_dataset_spacy = tf.data.Dataset.from_tensor_slices((x_val_spacy, y_val_spacy))\n",
    "val_dataset_spacy = val_dataset_spacy.batch(batch_size)"
   ]
  },
  {
   "cell_type": "code",
   "execution_count": 130,
   "metadata": {},
   "outputs": [
    {
     "data": {
      "text/plain": [
       "((2073, 300), (2073, 300), (2073,))"
      ]
     },
     "execution_count": 130,
     "metadata": {},
     "output_type": "execute_result"
    }
   ],
   "source": [
    "# Show shapes\n",
    "x_train_spacy[0].shape, x_train_spacy[1].shape, y_train_spacy.shape"
   ]
  },
  {
   "cell_type": "code",
   "execution_count": 131,
   "metadata": {},
   "outputs": [
    {
     "data": {
      "text/html": [
       "<pre style=\"white-space:pre;overflow-x:auto;line-height:normal;font-family:Menlo,'DejaVu Sans Mono',consolas,'Courier New',monospace\"><span style=\"font-weight: bold\">Model: \"functional_17\"</span>\n",
       "</pre>\n"
      ],
      "text/plain": [
       "\u001b[1mModel: \"functional_17\"\u001b[0m\n"
      ]
     },
     "metadata": {},
     "output_type": "display_data"
    },
    {
     "data": {
      "text/html": [
       "<pre style=\"white-space:pre;overflow-x:auto;line-height:normal;font-family:Menlo,'DejaVu Sans Mono',consolas,'Courier New',monospace\">┏━━━━━━━━━━━━━━━━━━━━━┳━━━━━━━━━━━━━━━━━━━┳━━━━━━━━━━━━┳━━━━━━━━━━━━━━━━━━━┓\n",
       "┃<span style=\"font-weight: bold\"> Layer (type)        </span>┃<span style=\"font-weight: bold\"> Output Shape      </span>┃<span style=\"font-weight: bold\">    Param # </span>┃<span style=\"font-weight: bold\"> Connected to      </span>┃\n",
       "┡━━━━━━━━━━━━━━━━━━━━━╇━━━━━━━━━━━━━━━━━━━╇━━━━━━━━━━━━╇━━━━━━━━━━━━━━━━━━━┩\n",
       "│ input_layer_16      │ (<span style=\"color: #00d7ff; text-decoration-color: #00d7ff\">None</span>, <span style=\"color: #00af00; text-decoration-color: #00af00\">300</span>)       │          <span style=\"color: #00af00; text-decoration-color: #00af00\">0</span> │ -                 │\n",
       "│ (<span style=\"color: #0087ff; text-decoration-color: #0087ff\">InputLayer</span>)        │                   │            │                   │\n",
       "├─────────────────────┼───────────────────┼────────────┼───────────────────┤\n",
       "│ input_layer_17      │ (<span style=\"color: #00d7ff; text-decoration-color: #00d7ff\">None</span>, <span style=\"color: #00af00; text-decoration-color: #00af00\">300</span>)       │          <span style=\"color: #00af00; text-decoration-color: #00af00\">0</span> │ -                 │\n",
       "│ (<span style=\"color: #0087ff; text-decoration-color: #0087ff\">InputLayer</span>)        │                   │            │                   │\n",
       "├─────────────────────┼───────────────────┼────────────┼───────────────────┤\n",
       "│ dense_8 (<span style=\"color: #0087ff; text-decoration-color: #0087ff\">Dense</span>)     │ (<span style=\"color: #00d7ff; text-decoration-color: #00d7ff\">None</span>, <span style=\"color: #00af00; text-decoration-color: #00af00\">300</span>)       │     <span style=\"color: #00af00; text-decoration-color: #00af00\">90,300</span> │ input_layer_16[<span style=\"color: #00af00; text-decoration-color: #00af00\">0</span>… │\n",
       "│                     │                   │            │ input_layer_17[<span style=\"color: #00af00; text-decoration-color: #00af00\">0</span>… │\n",
       "├─────────────────────┼───────────────────┼────────────┼───────────────────┤\n",
       "│ lambda_8 (<span style=\"color: #0087ff; text-decoration-color: #0087ff\">Lambda</span>)   │ (<span style=\"color: #00d7ff; text-decoration-color: #00d7ff\">None</span>)            │          <span style=\"color: #00af00; text-decoration-color: #00af00\">0</span> │ dense_8[<span style=\"color: #00af00; text-decoration-color: #00af00\">0</span>][<span style=\"color: #00af00; text-decoration-color: #00af00\">0</span>],    │\n",
       "│                     │                   │            │ dense_8[<span style=\"color: #00af00; text-decoration-color: #00af00\">1</span>][<span style=\"color: #00af00; text-decoration-color: #00af00\">0</span>]     │\n",
       "└─────────────────────┴───────────────────┴────────────┴───────────────────┘\n",
       "</pre>\n"
      ],
      "text/plain": [
       "┏━━━━━━━━━━━━━━━━━━━━━┳━━━━━━━━━━━━━━━━━━━┳━━━━━━━━━━━━┳━━━━━━━━━━━━━━━━━━━┓\n",
       "┃\u001b[1m \u001b[0m\u001b[1mLayer (type)       \u001b[0m\u001b[1m \u001b[0m┃\u001b[1m \u001b[0m\u001b[1mOutput Shape     \u001b[0m\u001b[1m \u001b[0m┃\u001b[1m \u001b[0m\u001b[1m   Param #\u001b[0m\u001b[1m \u001b[0m┃\u001b[1m \u001b[0m\u001b[1mConnected to     \u001b[0m\u001b[1m \u001b[0m┃\n",
       "┡━━━━━━━━━━━━━━━━━━━━━╇━━━━━━━━━━━━━━━━━━━╇━━━━━━━━━━━━╇━━━━━━━━━━━━━━━━━━━┩\n",
       "│ input_layer_16      │ (\u001b[38;5;45mNone\u001b[0m, \u001b[38;5;34m300\u001b[0m)       │          \u001b[38;5;34m0\u001b[0m │ -                 │\n",
       "│ (\u001b[38;5;33mInputLayer\u001b[0m)        │                   │            │                   │\n",
       "├─────────────────────┼───────────────────┼────────────┼───────────────────┤\n",
       "│ input_layer_17      │ (\u001b[38;5;45mNone\u001b[0m, \u001b[38;5;34m300\u001b[0m)       │          \u001b[38;5;34m0\u001b[0m │ -                 │\n",
       "│ (\u001b[38;5;33mInputLayer\u001b[0m)        │                   │            │                   │\n",
       "├─────────────────────┼───────────────────┼────────────┼───────────────────┤\n",
       "│ dense_8 (\u001b[38;5;33mDense\u001b[0m)     │ (\u001b[38;5;45mNone\u001b[0m, \u001b[38;5;34m300\u001b[0m)       │     \u001b[38;5;34m90,300\u001b[0m │ input_layer_16[\u001b[38;5;34m0\u001b[0m… │\n",
       "│                     │                   │            │ input_layer_17[\u001b[38;5;34m0\u001b[0m… │\n",
       "├─────────────────────┼───────────────────┼────────────┼───────────────────┤\n",
       "│ lambda_8 (\u001b[38;5;33mLambda\u001b[0m)   │ (\u001b[38;5;45mNone\u001b[0m)            │          \u001b[38;5;34m0\u001b[0m │ dense_8[\u001b[38;5;34m0\u001b[0m][\u001b[38;5;34m0\u001b[0m],    │\n",
       "│                     │                   │            │ dense_8[\u001b[38;5;34m1\u001b[0m][\u001b[38;5;34m0\u001b[0m]     │\n",
       "└─────────────────────┴───────────────────┴────────────┴───────────────────┘\n"
      ]
     },
     "metadata": {},
     "output_type": "display_data"
    },
    {
     "data": {
      "text/html": [
       "<pre style=\"white-space:pre;overflow-x:auto;line-height:normal;font-family:Menlo,'DejaVu Sans Mono',consolas,'Courier New',monospace\"><span style=\"font-weight: bold\"> Total params: </span><span style=\"color: #00af00; text-decoration-color: #00af00\">90,300</span> (352.73 KB)\n",
       "</pre>\n"
      ],
      "text/plain": [
       "\u001b[1m Total params: \u001b[0m\u001b[38;5;34m90,300\u001b[0m (352.73 KB)\n"
      ]
     },
     "metadata": {},
     "output_type": "display_data"
    },
    {
     "data": {
      "text/html": [
       "<pre style=\"white-space:pre;overflow-x:auto;line-height:normal;font-family:Menlo,'DejaVu Sans Mono',consolas,'Courier New',monospace\"><span style=\"font-weight: bold\"> Trainable params: </span><span style=\"color: #00af00; text-decoration-color: #00af00\">90,300</span> (352.73 KB)\n",
       "</pre>\n"
      ],
      "text/plain": [
       "\u001b[1m Trainable params: \u001b[0m\u001b[38;5;34m90,300\u001b[0m (352.73 KB)\n"
      ]
     },
     "metadata": {},
     "output_type": "display_data"
    },
    {
     "data": {
      "text/html": [
       "<pre style=\"white-space:pre;overflow-x:auto;line-height:normal;font-family:Menlo,'DejaVu Sans Mono',consolas,'Courier New',monospace\"><span style=\"font-weight: bold\"> Non-trainable params: </span><span style=\"color: #00af00; text-decoration-color: #00af00\">0</span> (0.00 B)\n",
       "</pre>\n"
      ],
      "text/plain": [
       "\u001b[1m Non-trainable params: \u001b[0m\u001b[38;5;34m0\u001b[0m (0.00 B)\n"
      ]
     },
     "metadata": {},
     "output_type": "display_data"
    },
    {
     "name": "stdout",
     "output_type": "stream",
     "text": [
      "None\n"
     ]
    }
   ],
   "source": [
    "# Construir y compilar el modelo\n",
    "model_spacy = build_and_compile_model()\n",
    "\n",
    "print(model_spacy.summary())"
   ]
  },
  {
   "cell_type": "code",
   "execution_count": 132,
   "metadata": {},
   "outputs": [
    {
     "name": "stdout",
     "output_type": "stream",
     "text": [
      "Epoch 1/64\n",
      "\u001b[1m33/33\u001b[0m \u001b[32m━━━━━━━━━━━━━━━━━━━━\u001b[0m\u001b[37m\u001b[0m \u001b[1m1s\u001b[0m 4ms/step - loss: 4.3025 - val_loss: 3.3567\n",
      "Epoch 2/64\n",
      "\u001b[1m33/33\u001b[0m \u001b[32m━━━━━━━━━━━━━━━━━━━━\u001b[0m\u001b[37m\u001b[0m \u001b[1m0s\u001b[0m 2ms/step - loss: 3.3314 - val_loss: 3.1220\n",
      "Epoch 3/64\n",
      "\u001b[1m33/33\u001b[0m \u001b[32m━━━━━━━━━━━━━━━━━━━━\u001b[0m\u001b[37m\u001b[0m \u001b[1m0s\u001b[0m 2ms/step - loss: 3.0829 - val_loss: 2.9959\n",
      "Epoch 4/64\n",
      "\u001b[1m33/33\u001b[0m \u001b[32m━━━━━━━━━━━━━━━━━━━━\u001b[0m\u001b[37m\u001b[0m \u001b[1m0s\u001b[0m 2ms/step - loss: 2.9290 - val_loss: 2.9070\n",
      "Epoch 5/64\n",
      "\u001b[1m33/33\u001b[0m \u001b[32m━━━━━━━━━━━━━━━━━━━━\u001b[0m\u001b[37m\u001b[0m \u001b[1m0s\u001b[0m 2ms/step - loss: 2.8050 - val_loss: 2.8347\n",
      "Epoch 6/64\n",
      "\u001b[1m33/33\u001b[0m \u001b[32m━━━━━━━━━━━━━━━━━━━━\u001b[0m\u001b[37m\u001b[0m \u001b[1m0s\u001b[0m 2ms/step - loss: 2.7012 - val_loss: 2.7767\n",
      "Epoch 7/64\n",
      "\u001b[1m33/33\u001b[0m \u001b[32m━━━━━━━━━━━━━━━━━━━━\u001b[0m\u001b[37m\u001b[0m \u001b[1m0s\u001b[0m 2ms/step - loss: 2.6141 - val_loss: 2.7302\n",
      "Epoch 8/64\n",
      "\u001b[1m33/33\u001b[0m \u001b[32m━━━━━━━━━━━━━━━━━━━━\u001b[0m\u001b[37m\u001b[0m \u001b[1m0s\u001b[0m 4ms/step - loss: 2.5401 - val_loss: 2.6925\n",
      "Epoch 9/64\n",
      "\u001b[1m33/33\u001b[0m \u001b[32m━━━━━━━━━━━━━━━━━━━━\u001b[0m\u001b[37m\u001b[0m \u001b[1m0s\u001b[0m 2ms/step - loss: 2.4781 - val_loss: 2.6630\n",
      "Epoch 10/64\n",
      "\u001b[1m33/33\u001b[0m \u001b[32m━━━━━━━━━━━━━━━━━━━━\u001b[0m\u001b[37m\u001b[0m \u001b[1m0s\u001b[0m 2ms/step - loss: 2.4241 - val_loss: 2.6386\n",
      "Epoch 11/64\n",
      "\u001b[1m33/33\u001b[0m \u001b[32m━━━━━━━━━━━━━━━━━━━━\u001b[0m\u001b[37m\u001b[0m \u001b[1m0s\u001b[0m 2ms/step - loss: 2.3774 - val_loss: 2.6181\n",
      "Epoch 12/64\n",
      "\u001b[1m33/33\u001b[0m \u001b[32m━━━━━━━━━━━━━━━━━━━━\u001b[0m\u001b[37m\u001b[0m \u001b[1m0s\u001b[0m 2ms/step - loss: 2.3345 - val_loss: 2.6015\n",
      "Epoch 13/64\n",
      "\u001b[1m33/33\u001b[0m \u001b[32m━━━━━━━━━━━━━━━━━━━━\u001b[0m\u001b[37m\u001b[0m \u001b[1m0s\u001b[0m 2ms/step - loss: 2.2957 - val_loss: 2.5865\n",
      "Epoch 14/64\n",
      "\u001b[1m33/33\u001b[0m \u001b[32m━━━━━━━━━━━━━━━━━━━━\u001b[0m\u001b[37m\u001b[0m \u001b[1m0s\u001b[0m 2ms/step - loss: 2.2630 - val_loss: 2.5742\n",
      "Epoch 15/64\n",
      "\u001b[1m33/33\u001b[0m \u001b[32m━━━━━━━━━━━━━━━━━━━━\u001b[0m\u001b[37m\u001b[0m \u001b[1m0s\u001b[0m 2ms/step - loss: 2.2299 - val_loss: 2.5624\n",
      "Epoch 16/64\n",
      "\u001b[1m33/33\u001b[0m \u001b[32m━━━━━━━━━━━━━━━━━━━━\u001b[0m\u001b[37m\u001b[0m \u001b[1m0s\u001b[0m 2ms/step - loss: 2.2016 - val_loss: 2.5520\n",
      "Epoch 17/64\n",
      "\u001b[1m33/33\u001b[0m \u001b[32m━━━━━━━━━━━━━━━━━━━━\u001b[0m\u001b[37m\u001b[0m \u001b[1m0s\u001b[0m 2ms/step - loss: 2.1736 - val_loss: 2.5432\n",
      "Epoch 18/64\n",
      "\u001b[1m33/33\u001b[0m \u001b[32m━━━━━━━━━━━━━━━━━━━━\u001b[0m\u001b[37m\u001b[0m \u001b[1m0s\u001b[0m 2ms/step - loss: 2.1476 - val_loss: 2.5337\n",
      "Epoch 19/64\n",
      "\u001b[1m33/33\u001b[0m \u001b[32m━━━━━━━━━━━━━━━━━━━━\u001b[0m\u001b[37m\u001b[0m \u001b[1m0s\u001b[0m 2ms/step - loss: 2.1237 - val_loss: 2.5271\n",
      "Epoch 20/64\n",
      "\u001b[1m33/33\u001b[0m \u001b[32m━━━━━━━━━━━━━━━━━━━━\u001b[0m\u001b[37m\u001b[0m \u001b[1m0s\u001b[0m 2ms/step - loss: 2.1000 - val_loss: 2.5194\n",
      "Epoch 21/64\n",
      "\u001b[1m33/33\u001b[0m \u001b[32m━━━━━━━━━━━━━━━━━━━━\u001b[0m\u001b[37m\u001b[0m \u001b[1m0s\u001b[0m 2ms/step - loss: 2.0777 - val_loss: 2.5129\n",
      "Epoch 22/64\n",
      "\u001b[1m33/33\u001b[0m \u001b[32m━━━━━━━━━━━━━━━━━━━━\u001b[0m\u001b[37m\u001b[0m \u001b[1m0s\u001b[0m 2ms/step - loss: 2.0542 - val_loss: 2.5065\n",
      "Epoch 23/64\n",
      "\u001b[1m33/33\u001b[0m \u001b[32m━━━━━━━━━━━━━━━━━━━━\u001b[0m\u001b[37m\u001b[0m \u001b[1m0s\u001b[0m 2ms/step - loss: 2.0362 - val_loss: 2.4999\n",
      "Epoch 24/64\n",
      "\u001b[1m33/33\u001b[0m \u001b[32m━━━━━━━━━━━━━━━━━━━━\u001b[0m\u001b[37m\u001b[0m \u001b[1m0s\u001b[0m 2ms/step - loss: 2.0167 - val_loss: 2.4946\n",
      "Epoch 25/64\n",
      "\u001b[1m33/33\u001b[0m \u001b[32m━━━━━━━━━━━━━━━━━━━━\u001b[0m\u001b[37m\u001b[0m \u001b[1m0s\u001b[0m 2ms/step - loss: 1.9976 - val_loss: 2.4891\n",
      "Epoch 26/64\n",
      "\u001b[1m33/33\u001b[0m \u001b[32m━━━━━━━━━━━━━━━━━━━━\u001b[0m\u001b[37m\u001b[0m \u001b[1m0s\u001b[0m 2ms/step - loss: 1.9779 - val_loss: 2.4848\n",
      "Epoch 27/64\n",
      "\u001b[1m33/33\u001b[0m \u001b[32m━━━━━━━━━━━━━━━━━━━━\u001b[0m\u001b[37m\u001b[0m \u001b[1m0s\u001b[0m 2ms/step - loss: 1.9607 - val_loss: 2.4796\n",
      "Epoch 28/64\n",
      "\u001b[1m33/33\u001b[0m \u001b[32m━━━━━━━━━━━━━━━━━━━━\u001b[0m\u001b[37m\u001b[0m \u001b[1m0s\u001b[0m 2ms/step - loss: 1.9441 - val_loss: 2.4747\n",
      "Epoch 29/64\n",
      "\u001b[1m33/33\u001b[0m \u001b[32m━━━━━━━━━━━━━━━━━━━━\u001b[0m\u001b[37m\u001b[0m \u001b[1m0s\u001b[0m 2ms/step - loss: 1.9241 - val_loss: 2.4703\n",
      "Epoch 30/64\n",
      "\u001b[1m33/33\u001b[0m \u001b[32m━━━━━━━━━━━━━━━━━━━━\u001b[0m\u001b[37m\u001b[0m \u001b[1m0s\u001b[0m 4ms/step - loss: 1.9090 - val_loss: 2.4660\n",
      "Epoch 31/64\n",
      "\u001b[1m33/33\u001b[0m \u001b[32m━━━━━━━━━━━━━━━━━━━━\u001b[0m\u001b[37m\u001b[0m \u001b[1m0s\u001b[0m 2ms/step - loss: 1.8919 - val_loss: 2.4618\n",
      "Epoch 32/64\n",
      "\u001b[1m33/33\u001b[0m \u001b[32m━━━━━━━━━━━━━━━━━━━━\u001b[0m\u001b[37m\u001b[0m \u001b[1m0s\u001b[0m 2ms/step - loss: 1.8779 - val_loss: 2.4577\n",
      "Epoch 33/64\n",
      "\u001b[1m33/33\u001b[0m \u001b[32m━━━━━━━━━━━━━━━━━━━━\u001b[0m\u001b[37m\u001b[0m \u001b[1m0s\u001b[0m 2ms/step - loss: 1.8620 - val_loss: 2.4538\n",
      "Epoch 34/64\n",
      "\u001b[1m33/33\u001b[0m \u001b[32m━━━━━━━━━━━━━━━━━━━━\u001b[0m\u001b[37m\u001b[0m \u001b[1m0s\u001b[0m 2ms/step - loss: 1.8476 - val_loss: 2.4507\n",
      "Epoch 35/64\n",
      "\u001b[1m33/33\u001b[0m \u001b[32m━━━━━━━━━━━━━━━━━━━━\u001b[0m\u001b[37m\u001b[0m \u001b[1m0s\u001b[0m 2ms/step - loss: 1.8341 - val_loss: 2.4466\n",
      "Epoch 36/64\n",
      "\u001b[1m33/33\u001b[0m \u001b[32m━━━━━━━━━━━━━━━━━━━━\u001b[0m\u001b[37m\u001b[0m \u001b[1m0s\u001b[0m 2ms/step - loss: 1.8192 - val_loss: 2.4435\n",
      "Epoch 37/64\n",
      "\u001b[1m33/33\u001b[0m \u001b[32m━━━━━━━━━━━━━━━━━━━━\u001b[0m\u001b[37m\u001b[0m \u001b[1m0s\u001b[0m 2ms/step - loss: 1.8058 - val_loss: 2.4394\n",
      "Epoch 38/64\n",
      "\u001b[1m33/33\u001b[0m \u001b[32m━━━━━━━━━━━━━━━━━━━━\u001b[0m\u001b[37m\u001b[0m \u001b[1m0s\u001b[0m 2ms/step - loss: 1.7915 - val_loss: 2.4367\n",
      "Epoch 39/64\n",
      "\u001b[1m33/33\u001b[0m \u001b[32m━━━━━━━━━━━━━━━━━━━━\u001b[0m\u001b[37m\u001b[0m \u001b[1m0s\u001b[0m 2ms/step - loss: 1.7796 - val_loss: 2.4330\n",
      "Epoch 40/64\n",
      "\u001b[1m33/33\u001b[0m \u001b[32m━━━━━━━━━━━━━━━━━━━━\u001b[0m\u001b[37m\u001b[0m \u001b[1m0s\u001b[0m 2ms/step - loss: 1.7658 - val_loss: 2.4300\n",
      "Epoch 41/64\n",
      "\u001b[1m33/33\u001b[0m \u001b[32m━━━━━━━━━━━━━━━━━━━━\u001b[0m\u001b[37m\u001b[0m \u001b[1m0s\u001b[0m 2ms/step - loss: 1.7526 - val_loss: 2.4274\n",
      "Epoch 42/64\n",
      "\u001b[1m33/33\u001b[0m \u001b[32m━━━━━━━━━━━━━━━━━━━━\u001b[0m\u001b[37m\u001b[0m \u001b[1m0s\u001b[0m 2ms/step - loss: 1.7405 - val_loss: 2.4240\n",
      "Epoch 43/64\n",
      "\u001b[1m33/33\u001b[0m \u001b[32m━━━━━━━━━━━━━━━━━━━━\u001b[0m\u001b[37m\u001b[0m \u001b[1m0s\u001b[0m 2ms/step - loss: 1.7279 - val_loss: 2.4209\n",
      "Epoch 44/64\n",
      "\u001b[1m33/33\u001b[0m \u001b[32m━━━━━━━━━━━━━━━━━━━━\u001b[0m\u001b[37m\u001b[0m \u001b[1m0s\u001b[0m 2ms/step - loss: 1.7171 - val_loss: 2.4187\n",
      "Epoch 45/64\n",
      "\u001b[1m33/33\u001b[0m \u001b[32m━━━━━━━━━━━━━━━━━━━━\u001b[0m\u001b[37m\u001b[0m \u001b[1m0s\u001b[0m 2ms/step - loss: 1.7057 - val_loss: 2.4166\n",
      "Epoch 46/64\n",
      "\u001b[1m33/33\u001b[0m \u001b[32m━━━━━━━━━━━━━━━━━━━━\u001b[0m\u001b[37m\u001b[0m \u001b[1m0s\u001b[0m 2ms/step - loss: 1.6950 - val_loss: 2.4140\n",
      "Epoch 47/64\n",
      "\u001b[1m33/33\u001b[0m \u001b[32m━━━━━━━━━━━━━━━━━━━━\u001b[0m\u001b[37m\u001b[0m \u001b[1m0s\u001b[0m 2ms/step - loss: 1.6848 - val_loss: 2.4107\n",
      "Epoch 48/64\n",
      "\u001b[1m33/33\u001b[0m \u001b[32m━━━━━━━━━━━━━━━━━━━━\u001b[0m\u001b[37m\u001b[0m \u001b[1m0s\u001b[0m 2ms/step - loss: 1.6733 - val_loss: 2.4084\n",
      "Epoch 49/64\n",
      "\u001b[1m33/33\u001b[0m \u001b[32m━━━━━━━━━━━━━━━━━━━━\u001b[0m\u001b[37m\u001b[0m \u001b[1m0s\u001b[0m 2ms/step - loss: 1.6620 - val_loss: 2.4065\n",
      "Epoch 50/64\n",
      "\u001b[1m33/33\u001b[0m \u001b[32m━━━━━━━━━━━━━━━━━━━━\u001b[0m\u001b[37m\u001b[0m \u001b[1m0s\u001b[0m 2ms/step - loss: 1.6516 - val_loss: 2.4043\n",
      "Epoch 51/64\n",
      "\u001b[1m33/33\u001b[0m \u001b[32m━━━━━━━━━━━━━━━━━━━━\u001b[0m\u001b[37m\u001b[0m \u001b[1m0s\u001b[0m 2ms/step - loss: 1.6424 - val_loss: 2.4022\n",
      "Epoch 52/64\n",
      "\u001b[1m33/33\u001b[0m \u001b[32m━━━━━━━━━━━━━━━━━━━━\u001b[0m\u001b[37m\u001b[0m \u001b[1m0s\u001b[0m 2ms/step - loss: 1.6312 - val_loss: 2.3998\n",
      "Epoch 53/64\n",
      "\u001b[1m33/33\u001b[0m \u001b[32m━━━━━━━━━━━━━━━━━━━━\u001b[0m\u001b[37m\u001b[0m \u001b[1m0s\u001b[0m 2ms/step - loss: 1.6209 - val_loss: 2.3983\n",
      "Epoch 54/64\n",
      "\u001b[1m33/33\u001b[0m \u001b[32m━━━━━━━━━━━━━━━━━━━━\u001b[0m\u001b[37m\u001b[0m \u001b[1m0s\u001b[0m 2ms/step - loss: 1.6120 - val_loss: 2.3965\n",
      "Epoch 55/64\n",
      "\u001b[1m33/33\u001b[0m \u001b[32m━━━━━━━━━━━━━━━━━━━━\u001b[0m\u001b[37m\u001b[0m \u001b[1m0s\u001b[0m 2ms/step - loss: 1.6020 - val_loss: 2.3939\n",
      "Epoch 56/64\n",
      "\u001b[1m33/33\u001b[0m \u001b[32m━━━━━━━━━━━━━━━━━━━━\u001b[0m\u001b[37m\u001b[0m \u001b[1m0s\u001b[0m 2ms/step - loss: 1.5931 - val_loss: 2.3923\n",
      "Epoch 57/64\n",
      "\u001b[1m33/33\u001b[0m \u001b[32m━━━━━━━━━━━━━━━━━━━━\u001b[0m\u001b[37m\u001b[0m \u001b[1m0s\u001b[0m 2ms/step - loss: 1.5842 - val_loss: 2.3907\n",
      "Epoch 58/64\n",
      "\u001b[1m33/33\u001b[0m \u001b[32m━━━━━━━━━━━━━━━━━━━━\u001b[0m\u001b[37m\u001b[0m \u001b[1m0s\u001b[0m 2ms/step - loss: 1.5756 - val_loss: 2.3887\n",
      "Epoch 59/64\n",
      "\u001b[1m33/33\u001b[0m \u001b[32m━━━━━━━━━━━━━━━━━━━━\u001b[0m\u001b[37m\u001b[0m \u001b[1m0s\u001b[0m 2ms/step - loss: 1.5659 - val_loss: 2.3880\n",
      "Epoch 60/64\n",
      "\u001b[1m33/33\u001b[0m \u001b[32m━━━━━━━━━━━━━━━━━━━━\u001b[0m\u001b[37m\u001b[0m \u001b[1m0s\u001b[0m 2ms/step - loss: 1.5588 - val_loss: 2.3864\n",
      "Epoch 61/64\n",
      "\u001b[1m33/33\u001b[0m \u001b[32m━━━━━━━━━━━━━━━━━━━━\u001b[0m\u001b[37m\u001b[0m \u001b[1m0s\u001b[0m 2ms/step - loss: 1.5488 - val_loss: 2.3845\n",
      "Epoch 62/64\n",
      "\u001b[1m33/33\u001b[0m \u001b[32m━━━━━━━━━━━━━━━━━━━━\u001b[0m\u001b[37m\u001b[0m \u001b[1m0s\u001b[0m 2ms/step - loss: 1.5403 - val_loss: 2.3830\n",
      "Epoch 63/64\n",
      "\u001b[1m33/33\u001b[0m \u001b[32m━━━━━━━━━━━━━━━━━━━━\u001b[0m\u001b[37m\u001b[0m \u001b[1m0s\u001b[0m 2ms/step - loss: 1.5317 - val_loss: 2.3810\n",
      "Epoch 64/64\n",
      "\u001b[1m33/33\u001b[0m \u001b[32m━━━━━━━━━━━━━━━━━━━━\u001b[0m\u001b[37m\u001b[0m \u001b[1m0s\u001b[0m 2ms/step - loss: 1.5230 - val_loss: 2.3803\n"
     ]
    },
    {
     "data": {
      "text/plain": [
       "<keras.src.callbacks.history.History at 0x178121765d0>"
      ]
     },
     "execution_count": 132,
     "metadata": {},
     "output_type": "execute_result"
    }
   ],
   "source": [
    "# Train the model\n",
    "model_spacy.fit(train_dataset_spacy, epochs=num_epochs, validation_data=val_dataset_spacy)"
   ]
  },
  {
   "cell_type": "code",
   "execution_count": 133,
   "metadata": {},
   "outputs": [],
   "source": [
    "#El model al test\n",
    "x_test_spacy, y_test_spacy = pair_list_to_x_y(mapped_test_spacy)"
   ]
  },
  {
   "cell_type": "code",
   "execution_count": 134,
   "metadata": {},
   "outputs": [
    {
     "name": "stdout",
     "output_type": "stream",
     "text": [
      "Correlación de Pearson (baseline-train): 0.2822341065076769\n",
      "Correlación de Pearson (baseline-validation): 0.22047349313707085\n",
      "Correlación de Pearson (baseline-test): 0.34550433092015365\n",
      "\n",
      "\n",
      "\u001b[1m65/65\u001b[0m \u001b[32m━━━━━━━━━━━━━━━━━━━━\u001b[0m\u001b[37m\u001b[0m \u001b[1m0s\u001b[0m 2ms/step\n",
      "Correlación de Pearson (train): 0.6517486539087302\n",
      "\u001b[1m16/16\u001b[0m \u001b[32m━━━━━━━━━━━━━━━━━━━━\u001b[0m\u001b[37m\u001b[0m \u001b[1m0s\u001b[0m 1ms/step \n",
      "Correlación de Pearson (validation): 0.30926600164979273\n",
      "\u001b[1m16/16\u001b[0m \u001b[32m━━━━━━━━━━━━━━━━━━━━\u001b[0m\u001b[37m\u001b[0m \u001b[1m0s\u001b[0m 1ms/step \n",
      "Correlación de Pearson (test): 0.44987599023720104\n"
     ]
    }
   ],
   "source": [
    "# Imprimir el coeficiente de correlación de Pearson\n",
    "print(f\"Correlación de Pearson (baseline-train): {compute_pearson_baseline(x_train_spacy, y_train_spacy)}\")\n",
    "print(f\"Correlación de Pearson (baseline-validation): {compute_pearson_baseline(x_val_spacy, y_val_spacy)}\")\n",
    "print(f\"Correlación de Pearson (baseline-test): {compute_pearson_baseline(x_test_spacy, y_test_spacy)}\")\n",
    "print('\\n')\n",
    "# Imprimir el coeficiente de correlación de Pearson\n",
    "print(f\"Correlación de Pearson (train): {compute_pearson(x_train_spacy, y_train_spacy, model_spacy)}\")\n",
    "print(f\"Correlación de Pearson (validation): {compute_pearson(x_val_spacy, y_val_spacy, model_spacy)}\")\n",
    "print(f\"Correlación de Pearson (test): {compute_pearson(x_test_spacy, y_test_spacy, model_spacy)}\")"
   ]
  },
  {
   "cell_type": "markdown",
   "metadata": {},
   "source": [
    "### 4. RoBERTa (CLS and Mean)\n",
    "---"
   ]
  },
  {
   "cell_type": "code",
   "execution_count": 146,
   "metadata": {},
   "outputs": [
    {
     "name": "stdout",
     "output_type": "stream",
     "text": [
      "Collecting ca-core-news-trf==3.7.2\n",
      "  Downloading https://github.com/explosion/spacy-models/releases/download/ca_core_news_trf-3.7.2/ca_core_news_trf-3.7.2-py3-none-any.whl (457.1 MB)\n",
      "     ---------------------------------------- 0.0/457.1 MB ? eta -:--:--\n",
      "     ---------------------------------------- 0.2/457.1 MB 6.3 MB/s eta 0:01:13\n",
      "     ---------------------------------------- 0.6/457.1 MB 7.6 MB/s eta 0:01:00\n",
      "     ---------------------------------------- 1.1/457.1 MB 8.7 MB/s eta 0:00:53\n",
      "     ---------------------------------------- 1.6/457.1 MB 9.5 MB/s eta 0:00:48\n",
      "     --------------------------------------- 2.3/457.1 MB 10.6 MB/s eta 0:00:43\n",
      "     --------------------------------------- 3.2/457.1 MB 11.9 MB/s eta 0:00:39\n",
      "     --------------------------------------- 4.2/457.1 MB 13.5 MB/s eta 0:00:34\n",
      "     --------------------------------------- 5.5/457.1 MB 15.4 MB/s eta 0:00:30\n",
      "      -------------------------------------- 7.1/457.1 MB 17.5 MB/s eta 0:00:26\n",
      "      -------------------------------------- 9.1/457.1 MB 20.0 MB/s eta 0:00:23\n",
      "      ------------------------------------- 11.4/457.1 MB 28.5 MB/s eta 0:00:16\n",
      "     - ------------------------------------ 14.3/457.1 MB 43.7 MB/s eta 0:00:11\n",
      "     - ------------------------------------ 17.9/457.1 MB 59.5 MB/s eta 0:00:08\n",
      "     - ------------------------------------ 22.3/457.1 MB 81.8 MB/s eta 0:00:06\n",
      "     -- ---------------------------------- 27.4/457.1 MB 108.8 MB/s eta 0:00:04\n",
      "     -- ---------------------------------- 32.2/457.1 MB 110.0 MB/s eta 0:00:04\n",
      "     -- ---------------------------------- 36.5/457.1 MB 110.0 MB/s eta 0:00:04\n",
      "     --- ---------------------------------- 40.9/457.1 MB 93.9 MB/s eta 0:00:05\n",
      "     --- ---------------------------------- 45.4/457.1 MB 93.9 MB/s eta 0:00:05\n",
      "     ---- --------------------------------- 49.9/457.1 MB 93.9 MB/s eta 0:00:05\n",
      "     ---- --------------------------------- 54.4/457.1 MB 93.0 MB/s eta 0:00:05\n",
      "     ---- --------------------------------- 58.8/457.1 MB 93.0 MB/s eta 0:00:05\n",
      "     ----- -------------------------------- 63.4/457.1 MB 93.0 MB/s eta 0:00:05\n",
      "     ----- ------------------------------- 68.1/457.1 MB 110.0 MB/s eta 0:00:04\n",
      "     ----- ------------------------------- 72.7/457.1 MB 110.0 MB/s eta 0:00:04\n",
      "     ------ ------------------------------ 77.2/457.1 MB 108.8 MB/s eta 0:00:04\n",
      "     ------ ------------------------------ 81.8/457.1 MB 108.8 MB/s eta 0:00:04\n",
      "     ------- ----------------------------- 86.6/457.1 MB 108.8 MB/s eta 0:00:04\n",
      "     ------- ----------------------------- 91.3/457.1 MB 108.8 MB/s eta 0:00:04\n",
      "     ------- ----------------------------- 95.7/457.1 MB 108.8 MB/s eta 0:00:04\n",
      "     -------- ----------------------------- 99.7/457.1 MB 93.0 MB/s eta 0:00:04\n",
      "     -------- ---------------------------- 103.9/457.1 MB 81.8 MB/s eta 0:00:05\n",
      "     -------- ---------------------------- 107.1/457.1 MB 81.8 MB/s eta 0:00:05\n",
      "     -------- ---------------------------- 110.4/457.1 MB 81.8 MB/s eta 0:00:05\n",
      "     -------- ---------------------------- 110.6/457.1 MB 59.5 MB/s eta 0:00:06\n",
      "     --------- --------------------------- 112.9/457.1 MB 46.7 MB/s eta 0:00:08\n",
      "     --------- --------------------------- 116.3/457.1 MB 46.9 MB/s eta 0:00:08\n",
      "     --------- --------------------------- 119.8/457.1 MB 50.4 MB/s eta 0:00:07\n",
      "     --------- --------------------------- 123.3/457.1 MB 73.1 MB/s eta 0:00:05\n",
      "     ---------- -------------------------- 126.7/457.1 MB 72.6 MB/s eta 0:00:05\n",
      "     ---------- -------------------------- 130.1/457.1 MB 72.6 MB/s eta 0:00:05\n",
      "     ---------- -------------------------- 133.6/457.1 MB 72.6 MB/s eta 0:00:05\n",
      "     ----------- ------------------------- 137.0/457.1 MB 72.6 MB/s eta 0:00:05\n",
      "     ----------- ------------------------- 140.5/457.1 MB 72.6 MB/s eta 0:00:05\n",
      "     ----------- ------------------------- 144.0/457.1 MB 73.1 MB/s eta 0:00:05\n",
      "     ----------- ------------------------- 147.6/457.1 MB 73.1 MB/s eta 0:00:05\n",
      "     ------------ ------------------------ 151.2/457.1 MB 73.1 MB/s eta 0:00:05\n",
      "     ------------ ------------------------ 154.4/457.1 MB 72.6 MB/s eta 0:00:05\n",
      "     ------------ ------------------------ 158.4/457.1 MB 72.6 MB/s eta 0:00:05\n",
      "     ------------- ----------------------- 162.0/457.1 MB 72.6 MB/s eta 0:00:05\n",
      "     ------------- ----------------------- 165.5/457.1 MB 72.6 MB/s eta 0:00:05\n",
      "     ------------- ----------------------- 169.2/457.1 MB 72.6 MB/s eta 0:00:04\n",
      "     ------------- ----------------------- 172.9/457.1 MB 81.8 MB/s eta 0:00:04\n",
      "     -------------- ---------------------- 176.5/457.1 MB 81.8 MB/s eta 0:00:04\n",
      "     -------------- ---------------------- 180.1/457.1 MB 81.8 MB/s eta 0:00:04\n",
      "     -------------- ---------------------- 183.7/457.1 MB 81.8 MB/s eta 0:00:04\n",
      "     --------------- --------------------- 187.4/457.1 MB 81.8 MB/s eta 0:00:04\n",
      "     --------------- --------------------- 191.2/457.1 MB 81.8 MB/s eta 0:00:04\n",
      "     --------------- --------------------- 195.0/457.1 MB 81.8 MB/s eta 0:00:04\n",
      "     ---------------- -------------------- 198.6/457.1 MB 81.8 MB/s eta 0:00:04\n",
      "     ---------------- -------------------- 202.4/457.1 MB 72.6 MB/s eta 0:00:04\n",
      "     ---------------- -------------------- 206.1/457.1 MB 72.6 MB/s eta 0:00:04\n",
      "     ---------------- -------------------- 209.7/457.1 MB 81.8 MB/s eta 0:00:04\n",
      "     ----------------- ------------------- 213.5/457.1 MB 72.6 MB/s eta 0:00:04\n",
      "     ----------------- ------------------- 217.2/457.1 MB 72.6 MB/s eta 0:00:04\n",
      "     ----------------- ------------------- 221.0/457.1 MB 73.1 MB/s eta 0:00:04\n",
      "     ------------------ ------------------ 224.8/457.1 MB 81.8 MB/s eta 0:00:03\n",
      "     ------------------ ------------------ 228.8/457.1 MB 81.8 MB/s eta 0:00:03\n",
      "     ------------------ ------------------ 232.4/457.1 MB 81.8 MB/s eta 0:00:03\n",
      "     ------------------- ----------------- 236.2/457.1 MB 81.8 MB/s eta 0:00:03\n",
      "     ------------------- ----------------- 239.9/457.1 MB 81.8 MB/s eta 0:00:03\n",
      "     ------------------- ----------------- 243.7/457.1 MB 81.8 MB/s eta 0:00:03\n",
      "     -------------------- ---------------- 247.8/457.1 MB 93.9 MB/s eta 0:00:03\n",
      "     -------------------- ---------------- 251.6/457.1 MB 81.8 MB/s eta 0:00:03\n",
      "     -------------------- ---------------- 255.4/457.1 MB 73.1 MB/s eta 0:00:03\n",
      "     -------------------- ---------------- 259.3/457.1 MB 81.8 MB/s eta 0:00:03\n",
      "     --------------------- --------------- 263.2/457.1 MB 81.8 MB/s eta 0:00:03\n",
      "     --------------------- --------------- 267.1/457.1 MB 93.9 MB/s eta 0:00:03\n",
      "     --------------------- --------------- 270.9/457.1 MB 93.9 MB/s eta 0:00:02\n",
      "     ---------------------- -------------- 274.9/457.1 MB 81.8 MB/s eta 0:00:03\n",
      "     ---------------------- -------------- 278.8/457.1 MB 81.8 MB/s eta 0:00:03\n",
      "     ---------------------- -------------- 282.8/457.1 MB 81.8 MB/s eta 0:00:03\n",
      "     ----------------------- ------------- 286.8/457.1 MB 81.8 MB/s eta 0:00:03\n",
      "     ----------------------- ------------- 290.9/457.1 MB 81.8 MB/s eta 0:00:03\n",
      "     ----------------------- ------------- 294.9/457.1 MB 81.8 MB/s eta 0:00:02\n",
      "     ------------------------ ------------ 299.0/457.1 MB 81.8 MB/s eta 0:00:02\n",
      "     ------------------------ ------------ 303.2/457.1 MB 81.8 MB/s eta 0:00:02\n",
      "     ------------------------ ------------ 307.2/457.1 MB 81.8 MB/s eta 0:00:02\n",
      "     ------------------------- ----------- 311.3/457.1 MB 81.8 MB/s eta 0:00:02\n",
      "     ------------------------- ----------- 315.5/457.1 MB 81.8 MB/s eta 0:00:02\n",
      "     ------------------------- ----------- 319.6/457.1 MB 81.8 MB/s eta 0:00:02\n",
      "     -------------------------- ---------- 323.9/457.1 MB 81.8 MB/s eta 0:00:02\n",
      "     -------------------------- ---------- 328.1/457.1 MB 81.8 MB/s eta 0:00:02\n",
      "     -------------------------- ---------- 332.2/457.1 MB 81.8 MB/s eta 0:00:02\n",
      "     --------------------------- --------- 336.2/457.1 MB 81.8 MB/s eta 0:00:02\n",
      "     --------------------------- --------- 340.6/457.1 MB 93.0 MB/s eta 0:00:02\n",
      "     --------------------------- --------- 344.8/457.1 MB 93.0 MB/s eta 0:00:02\n",
      "     ---------------------------- -------- 349.0/457.1 MB 93.9 MB/s eta 0:00:02\n",
      "     ---------------------------- -------- 353.3/457.1 MB 93.9 MB/s eta 0:00:02\n",
      "     ---------------------------- -------- 357.5/457.1 MB 93.9 MB/s eta 0:00:02\n",
      "     ----------------------------- ------- 362.0/457.1 MB 93.9 MB/s eta 0:00:02\n",
      "     ----------------------------- ------- 366.1/457.1 MB 93.9 MB/s eta 0:00:01\n",
      "     ----------------------------- ------- 370.3/457.1 MB 93.0 MB/s eta 0:00:01\n",
      "     ------------------------------ ------ 374.8/457.1 MB 93.0 MB/s eta 0:00:01\n",
      "     ------------------------------ ------ 379.1/457.1 MB 93.0 MB/s eta 0:00:01\n",
      "     ------------------------------- ----- 383.3/457.1 MB 93.9 MB/s eta 0:00:01\n",
      "     ------------------------------- ----- 387.7/457.1 MB 93.9 MB/s eta 0:00:01\n",
      "     ------------------------------- ----- 392.2/457.1 MB 93.9 MB/s eta 0:00:01\n",
      "     -------------------------------- ---- 396.6/457.1 MB 93.9 MB/s eta 0:00:01\n",
      "     -------------------------------- ---- 400.9/457.1 MB 93.9 MB/s eta 0:00:01\n",
      "     -------------------------------- ---- 405.3/457.1 MB 93.0 MB/s eta 0:00:01\n",
      "     --------------------------------- --- 409.7/457.1 MB 93.0 MB/s eta 0:00:01\n",
      "     --------------------------------- --- 414.2/457.1 MB 93.0 MB/s eta 0:00:01\n",
      "     --------------------------------- --- 418.8/457.1 MB 93.9 MB/s eta 0:00:01\n",
      "     ---------------------------------- -- 423.2/457.1 MB 93.9 MB/s eta 0:00:01\n",
      "     --------------------------------- -- 427.8/457.1 MB 108.8 MB/s eta 0:00:01\n",
      "     ---------------------------------- -- 432.4/457.1 MB 93.0 MB/s eta 0:00:01\n",
      "     ----------------------------------- - 436.7/457.1 MB 93.0 MB/s eta 0:00:01\n",
      "     ----------------------------------- - 441.2/457.1 MB 93.9 MB/s eta 0:00:01\n",
      "     ------------------------------------  445.8/457.1 MB 93.9 MB/s eta 0:00:01\n",
      "     ------------------------------------  450.3/457.1 MB 93.9 MB/s eta 0:00:01\n",
      "     ------------------------------------  454.8/457.1 MB 93.9 MB/s eta 0:00:01\n",
      "     ------------------------------------  457.1/457.1 MB 93.0 MB/s eta 0:00:01\n",
      "     ------------------------------------  457.1/457.1 MB 93.0 MB/s eta 0:00:01\n",
      "     ------------------------------------  457.1/457.1 MB 93.0 MB/s eta 0:00:01\n",
      "     ------------------------------------  457.1/457.1 MB 93.0 MB/s eta 0:00:01\n",
      "     ------------------------------------  457.1/457.1 MB 93.0 MB/s eta 0:00:01\n",
      "     ------------------------------------  457.1/457.1 MB 93.0 MB/s eta 0:00:01\n",
      "     ------------------------------------  457.1/457.1 MB 93.0 MB/s eta 0:00:01\n",
      "     ------------------------------------  457.1/457.1 MB 93.0 MB/s eta 0:00:01\n",
      "     ------------------------------------  457.1/457.1 MB 93.0 MB/s eta 0:00:01\n",
      "     ------------------------------------  457.1/457.1 MB 93.0 MB/s eta 0:00:01\n",
      "     ------------------------------------  457.1/457.1 MB 93.0 MB/s eta 0:00:01\n",
      "     ------------------------------------  457.1/457.1 MB 93.0 MB/s eta 0:00:01\n",
      "     ------------------------------------  457.1/457.1 MB 93.0 MB/s eta 0:00:01\n",
      "     ------------------------------------  457.1/457.1 MB 93.0 MB/s eta 0:00:01\n",
      "     ------------------------------------  457.1/457.1 MB 93.0 MB/s eta 0:00:01\n",
      "     ------------------------------------  457.1/457.1 MB 93.0 MB/s eta 0:00:01\n",
      "     ------------------------------------  457.1/457.1 MB 93.0 MB/s eta 0:00:01\n",
      "     ------------------------------------  457.1/457.1 MB 93.0 MB/s eta 0:00:01\n",
      "     ------------------------------------  457.1/457.1 MB 93.0 MB/s eta 0:00:01\n",
      "     ------------------------------------  457.1/457.1 MB 93.0 MB/s eta 0:00:01\n",
      "     ------------------------------------  457.1/457.1 MB 93.0 MB/s eta 0:00:01\n",
      "     ------------------------------------  457.1/457.1 MB 93.0 MB/s eta 0:00:01\n",
      "     ------------------------------------  457.1/457.1 MB 93.0 MB/s eta 0:00:01\n",
      "     ------------------------------------  457.1/457.1 MB 93.0 MB/s eta 0:00:01\n",
      "     ------------------------------------  457.1/457.1 MB 93.0 MB/s eta 0:00:01\n",
      "     ------------------------------------  457.1/457.1 MB 93.0 MB/s eta 0:00:01\n",
      "     ------------------------------------  457.1/457.1 MB 93.0 MB/s eta 0:00:01\n",
      "     ------------------------------------  457.1/457.1 MB 93.0 MB/s eta 0:00:01\n",
      "     ------------------------------------  457.1/457.1 MB 93.0 MB/s eta 0:00:01\n",
      "     ------------------------------------  457.1/457.1 MB 93.0 MB/s eta 0:00:01\n",
      "     ------------------------------------  457.1/457.1 MB 93.0 MB/s eta 0:00:01\n",
      "     ------------------------------------  457.1/457.1 MB 93.0 MB/s eta 0:00:01\n",
      "     ------------------------------------  457.1/457.1 MB 93.0 MB/s eta 0:00:01\n",
      "     ------------------------------------  457.1/457.1 MB 93.0 MB/s eta 0:00:01\n",
      "     ------------------------------------  457.1/457.1 MB 93.0 MB/s eta 0:00:01\n",
      "     ------------------------------------  457.1/457.1 MB 93.0 MB/s eta 0:00:01\n",
      "     ------------------------------------  457.1/457.1 MB 93.0 MB/s eta 0:00:01\n",
      "     ------------------------------------  457.1/457.1 MB 93.0 MB/s eta 0:00:01\n",
      "     ------------------------------------  457.1/457.1 MB 93.0 MB/s eta 0:00:01\n",
      "     ------------------------------------  457.1/457.1 MB 93.0 MB/s eta 0:00:01\n",
      "     ------------------------------------  457.1/457.1 MB 93.0 MB/s eta 0:00:01\n",
      "     ------------------------------------  457.1/457.1 MB 93.0 MB/s eta 0:00:01\n",
      "     ------------------------------------  457.1/457.1 MB 93.0 MB/s eta 0:00:01\n",
      "     ------------------------------------  457.1/457.1 MB 93.0 MB/s eta 0:00:01\n",
      "     ------------------------------------  457.1/457.1 MB 93.0 MB/s eta 0:00:01\n",
      "     ------------------------------------  457.1/457.1 MB 93.0 MB/s eta 0:00:01\n",
      "     ------------------------------------  457.1/457.1 MB 93.0 MB/s eta 0:00:01\n",
      "     ------------------------------------  457.1/457.1 MB 93.0 MB/s eta 0:00:01\n",
      "     ------------------------------------  457.1/457.1 MB 93.0 MB/s eta 0:00:01\n",
      "     ------------------------------------  457.1/457.1 MB 93.0 MB/s eta 0:00:01\n",
      "     ------------------------------------  457.1/457.1 MB 93.0 MB/s eta 0:00:01\n",
      "     ------------------------------------  457.1/457.1 MB 93.0 MB/s eta 0:00:01\n",
      "     ------------------------------------  457.1/457.1 MB 93.0 MB/s eta 0:00:01\n",
      "     ------------------------------------  457.1/457.1 MB 93.0 MB/s eta 0:00:01\n",
      "     ------------------------------------  457.1/457.1 MB 93.0 MB/s eta 0:00:01\n",
      "     ------------------------------------  457.1/457.1 MB 93.0 MB/s eta 0:00:01\n",
      "     ------------------------------------  457.1/457.1 MB 93.0 MB/s eta 0:00:01\n",
      "     ------------------------------------  457.1/457.1 MB 93.0 MB/s eta 0:00:01\n",
      "     -------------------------------------- 457.1/457.1 MB 3.5 MB/s eta 0:00:00\n",
      "Requirement already satisfied: spacy<3.8.0,>=3.7.0 in d:\\github\\plh4---embeddings\\.venv\\lib\\site-packages (from ca-core-news-trf==3.7.2) (3.7.4)\n",
      "Requirement already satisfied: spacy-curated-transformers<0.3.0,>=0.2.0 in d:\\github\\plh4---embeddings\\.venv\\lib\\site-packages (from ca-core-news-trf==3.7.2) (0.2.2)\n",
      "Requirement already satisfied: spacy-legacy<3.1.0,>=3.0.11 in d:\\github\\plh4---embeddings\\.venv\\lib\\site-packages (from spacy<3.8.0,>=3.7.0->ca-core-news-trf==3.7.2) (3.0.12)\n",
      "Requirement already satisfied: spacy-loggers<2.0.0,>=1.0.0 in d:\\github\\plh4---embeddings\\.venv\\lib\\site-packages (from spacy<3.8.0,>=3.7.0->ca-core-news-trf==3.7.2) (1.0.5)\n",
      "Requirement already satisfied: murmurhash<1.1.0,>=0.28.0 in d:\\github\\plh4---embeddings\\.venv\\lib\\site-packages (from spacy<3.8.0,>=3.7.0->ca-core-news-trf==3.7.2) (1.0.10)\n",
      "Requirement already satisfied: cymem<2.1.0,>=2.0.2 in d:\\github\\plh4---embeddings\\.venv\\lib\\site-packages (from spacy<3.8.0,>=3.7.0->ca-core-news-trf==3.7.2) (2.0.8)\n",
      "Requirement already satisfied: preshed<3.1.0,>=3.0.2 in d:\\github\\plh4---embeddings\\.venv\\lib\\site-packages (from spacy<3.8.0,>=3.7.0->ca-core-news-trf==3.7.2) (3.0.9)\n",
      "Requirement already satisfied: thinc<8.3.0,>=8.2.2 in d:\\github\\plh4---embeddings\\.venv\\lib\\site-packages (from spacy<3.8.0,>=3.7.0->ca-core-news-trf==3.7.2) (8.2.3)\n",
      "Requirement already satisfied: wasabi<1.2.0,>=0.9.1 in d:\\github\\plh4---embeddings\\.venv\\lib\\site-packages (from spacy<3.8.0,>=3.7.0->ca-core-news-trf==3.7.2) (1.1.3)\n",
      "Requirement already satisfied: srsly<3.0.0,>=2.4.3 in d:\\github\\plh4---embeddings\\.venv\\lib\\site-packages (from spacy<3.8.0,>=3.7.0->ca-core-news-trf==3.7.2) (2.4.8)\n",
      "Requirement already satisfied: catalogue<2.1.0,>=2.0.6 in d:\\github\\plh4---embeddings\\.venv\\lib\\site-packages (from spacy<3.8.0,>=3.7.0->ca-core-news-trf==3.7.2) (2.0.10)\n",
      "Requirement already satisfied: weasel<0.4.0,>=0.1.0 in d:\\github\\plh4---embeddings\\.venv\\lib\\site-packages (from spacy<3.8.0,>=3.7.0->ca-core-news-trf==3.7.2) (0.3.4)\n",
      "Requirement already satisfied: typer<0.10.0,>=0.3.0 in d:\\github\\plh4---embeddings\\.venv\\lib\\site-packages (from spacy<3.8.0,>=3.7.0->ca-core-news-trf==3.7.2) (0.9.4)\n",
      "Requirement already satisfied: smart-open<7.0.0,>=5.2.1 in d:\\github\\plh4---embeddings\\.venv\\lib\\site-packages (from spacy<3.8.0,>=3.7.0->ca-core-news-trf==3.7.2) (6.4.0)\n",
      "Requirement already satisfied: tqdm<5.0.0,>=4.38.0 in d:\\github\\plh4---embeddings\\.venv\\lib\\site-packages (from spacy<3.8.0,>=3.7.0->ca-core-news-trf==3.7.2) (4.66.4)\n",
      "Requirement already satisfied: requests<3.0.0,>=2.13.0 in d:\\github\\plh4---embeddings\\.venv\\lib\\site-packages (from spacy<3.8.0,>=3.7.0->ca-core-news-trf==3.7.2) (2.32.3)\n",
      "Requirement already satisfied: pydantic!=1.8,!=1.8.1,<3.0.0,>=1.7.4 in d:\\github\\plh4---embeddings\\.venv\\lib\\site-packages (from spacy<3.8.0,>=3.7.0->ca-core-news-trf==3.7.2) (2.7.3)\n",
      "Requirement already satisfied: jinja2 in d:\\github\\plh4---embeddings\\.venv\\lib\\site-packages (from spacy<3.8.0,>=3.7.0->ca-core-news-trf==3.7.2) (3.1.4)\n",
      "Requirement already satisfied: setuptools in d:\\github\\plh4---embeddings\\.venv\\lib\\site-packages (from spacy<3.8.0,>=3.7.0->ca-core-news-trf==3.7.2) (65.5.0)\n",
      "Requirement already satisfied: packaging>=20.0 in d:\\github\\plh4---embeddings\\.venv\\lib\\site-packages (from spacy<3.8.0,>=3.7.0->ca-core-news-trf==3.7.2) (24.0)\n",
      "Requirement already satisfied: langcodes<4.0.0,>=3.2.0 in d:\\github\\plh4---embeddings\\.venv\\lib\\site-packages (from spacy<3.8.0,>=3.7.0->ca-core-news-trf==3.7.2) (3.4.0)\n",
      "Requirement already satisfied: numpy>=1.19.0 in d:\\github\\plh4---embeddings\\.venv\\lib\\site-packages (from spacy<3.8.0,>=3.7.0->ca-core-news-trf==3.7.2) (1.26.4)\n",
      "Requirement already satisfied: curated-transformers<0.2.0,>=0.1.0 in d:\\github\\plh4---embeddings\\.venv\\lib\\site-packages (from spacy-curated-transformers<0.3.0,>=0.2.0->ca-core-news-trf==3.7.2) (0.1.1)\n",
      "Requirement already satisfied: curated-tokenizers<0.1.0,>=0.0.9 in d:\\github\\plh4---embeddings\\.venv\\lib\\site-packages (from spacy-curated-transformers<0.3.0,>=0.2.0->ca-core-news-trf==3.7.2) (0.0.9)\n",
      "Requirement already satisfied: torch>=1.12.0 in d:\\github\\plh4---embeddings\\.venv\\lib\\site-packages (from spacy-curated-transformers<0.3.0,>=0.2.0->ca-core-news-trf==3.7.2) (2.3.0)\n",
      "Requirement already satisfied: regex>=2022 in d:\\github\\plh4---embeddings\\.venv\\lib\\site-packages (from curated-tokenizers<0.1.0,>=0.0.9->spacy-curated-transformers<0.3.0,>=0.2.0->ca-core-news-trf==3.7.2) (2024.5.15)\n",
      "Requirement already satisfied: language-data>=1.2 in d:\\github\\plh4---embeddings\\.venv\\lib\\site-packages (from langcodes<4.0.0,>=3.2.0->spacy<3.8.0,>=3.7.0->ca-core-news-trf==3.7.2) (1.2.0)\n",
      "Requirement already satisfied: annotated-types>=0.4.0 in d:\\github\\plh4---embeddings\\.venv\\lib\\site-packages (from pydantic!=1.8,!=1.8.1,<3.0.0,>=1.7.4->spacy<3.8.0,>=3.7.0->ca-core-news-trf==3.7.2) (0.7.0)\n",
      "Requirement already satisfied: pydantic-core==2.18.4 in d:\\github\\plh4---embeddings\\.venv\\lib\\site-packages (from pydantic!=1.8,!=1.8.1,<3.0.0,>=1.7.4->spacy<3.8.0,>=3.7.0->ca-core-news-trf==3.7.2) (2.18.4)\n",
      "Requirement already satisfied: typing-extensions>=4.6.1 in d:\\github\\plh4---embeddings\\.venv\\lib\\site-packages (from pydantic!=1.8,!=1.8.1,<3.0.0,>=1.7.4->spacy<3.8.0,>=3.7.0->ca-core-news-trf==3.7.2) (4.12.1)\n",
      "Requirement already satisfied: charset-normalizer<4,>=2 in d:\\github\\plh4---embeddings\\.venv\\lib\\site-packages (from requests<3.0.0,>=2.13.0->spacy<3.8.0,>=3.7.0->ca-core-news-trf==3.7.2) (3.3.2)\n",
      "Requirement already satisfied: idna<4,>=2.5 in d:\\github\\plh4---embeddings\\.venv\\lib\\site-packages (from requests<3.0.0,>=2.13.0->spacy<3.8.0,>=3.7.0->ca-core-news-trf==3.7.2) (3.7)\n",
      "Requirement already satisfied: urllib3<3,>=1.21.1 in d:\\github\\plh4---embeddings\\.venv\\lib\\site-packages (from requests<3.0.0,>=2.13.0->spacy<3.8.0,>=3.7.0->ca-core-news-trf==3.7.2) (2.2.1)\n",
      "Requirement already satisfied: certifi>=2017.4.17 in d:\\github\\plh4---embeddings\\.venv\\lib\\site-packages (from requests<3.0.0,>=2.13.0->spacy<3.8.0,>=3.7.0->ca-core-news-trf==3.7.2) (2024.6.2)\n",
      "Requirement already satisfied: blis<0.8.0,>=0.7.8 in d:\\github\\plh4---embeddings\\.venv\\lib\\site-packages (from thinc<8.3.0,>=8.2.2->spacy<3.8.0,>=3.7.0->ca-core-news-trf==3.7.2) (0.7.11)\n",
      "Requirement already satisfied: confection<1.0.0,>=0.0.1 in d:\\github\\plh4---embeddings\\.venv\\lib\\site-packages (from thinc<8.3.0,>=8.2.2->spacy<3.8.0,>=3.7.0->ca-core-news-trf==3.7.2) (0.1.5)\n",
      "Requirement already satisfied: filelock in d:\\github\\plh4---embeddings\\.venv\\lib\\site-packages (from torch>=1.12.0->spacy-curated-transformers<0.3.0,>=0.2.0->ca-core-news-trf==3.7.2) (3.14.0)\n",
      "Requirement already satisfied: sympy in d:\\github\\plh4---embeddings\\.venv\\lib\\site-packages (from torch>=1.12.0->spacy-curated-transformers<0.3.0,>=0.2.0->ca-core-news-trf==3.7.2) (1.12.1)\n",
      "Requirement already satisfied: networkx in d:\\github\\plh4---embeddings\\.venv\\lib\\site-packages (from torch>=1.12.0->spacy-curated-transformers<0.3.0,>=0.2.0->ca-core-news-trf==3.7.2) (3.3)\n",
      "Requirement already satisfied: fsspec in d:\\github\\plh4---embeddings\\.venv\\lib\\site-packages (from torch>=1.12.0->spacy-curated-transformers<0.3.0,>=0.2.0->ca-core-news-trf==3.7.2) (2024.3.1)\n",
      "Requirement already satisfied: mkl<=2021.4.0,>=2021.1.1 in d:\\github\\plh4---embeddings\\.venv\\lib\\site-packages (from torch>=1.12.0->spacy-curated-transformers<0.3.0,>=0.2.0->ca-core-news-trf==3.7.2) (2021.4.0)\n",
      "Requirement already satisfied: colorama in d:\\github\\plh4---embeddings\\.venv\\lib\\site-packages (from tqdm<5.0.0,>=4.38.0->spacy<3.8.0,>=3.7.0->ca-core-news-trf==3.7.2) (0.4.6)\n",
      "Requirement already satisfied: click<9.0.0,>=7.1.1 in d:\\github\\plh4---embeddings\\.venv\\lib\\site-packages (from typer<0.10.0,>=0.3.0->spacy<3.8.0,>=3.7.0->ca-core-news-trf==3.7.2) (8.1.7)\n",
      "Requirement already satisfied: cloudpathlib<0.17.0,>=0.7.0 in d:\\github\\plh4---embeddings\\.venv\\lib\\site-packages (from weasel<0.4.0,>=0.1.0->spacy<3.8.0,>=3.7.0->ca-core-news-trf==3.7.2) (0.16.0)\n",
      "Requirement already satisfied: MarkupSafe>=2.0 in d:\\github\\plh4---embeddings\\.venv\\lib\\site-packages (from jinja2->spacy<3.8.0,>=3.7.0->ca-core-news-trf==3.7.2) (2.1.5)\n",
      "Requirement already satisfied: marisa-trie>=0.7.7 in d:\\github\\plh4---embeddings\\.venv\\lib\\site-packages (from language-data>=1.2->langcodes<4.0.0,>=3.2.0->spacy<3.8.0,>=3.7.0->ca-core-news-trf==3.7.2) (1.1.1)\n",
      "Requirement already satisfied: intel-openmp==2021.* in d:\\github\\plh4---embeddings\\.venv\\lib\\site-packages (from mkl<=2021.4.0,>=2021.1.1->torch>=1.12.0->spacy-curated-transformers<0.3.0,>=0.2.0->ca-core-news-trf==3.7.2) (2021.4.0)\n",
      "Requirement already satisfied: tbb==2021.* in d:\\github\\plh4---embeddings\\.venv\\lib\\site-packages (from mkl<=2021.4.0,>=2021.1.1->torch>=1.12.0->spacy-curated-transformers<0.3.0,>=0.2.0->ca-core-news-trf==3.7.2) (2021.12.0)\n",
      "Requirement already satisfied: mpmath<1.4.0,>=1.1.0 in d:\\github\\plh4---embeddings\\.venv\\lib\\site-packages (from sympy->torch>=1.12.0->spacy-curated-transformers<0.3.0,>=0.2.0->ca-core-news-trf==3.7.2) (1.3.0)\n",
      "\u001b[38;5;2m✔ Download and installation successful\u001b[0m\n",
      "You can now load the package via spacy.load('ca_core_news_trf')\n"
     ]
    }
   ],
   "source": [
    "!python -m spacy download ca_core_news_trf"
   ]
  },
  {
   "cell_type": "markdown",
   "metadata": {},
   "source": [
    "#### 4.1. RoBERTa CLS"
   ]
  },
  {
   "cell_type": "code",
   "execution_count": 147,
   "metadata": {},
   "outputs": [],
   "source": [
    "nlp_roberta = spacy.load('ca_core_news_trf')"
   ]
  },
  {
   "cell_type": "code",
   "execution_count": 165,
   "metadata": {},
   "outputs": [],
   "source": [
    "def map_roberta(sentence: str, nlp=nlp_roberta) -> np.ndarray:\n",
    "    '''\n",
    "    Mapea una oración a un vector utilizando un modelo de Spacy\n",
    "    :param sentence: la oración a mapear\n",
    "    :param nlp: el modelo de Spacy\n",
    "    :return: el vector de la oración\n",
    "    '''\n",
    "    doc = nlp(sentence)\n",
    "    vector = doc._.trf_data.last_hidden_layer_state.data[-1]\n",
    "    return vector"
   ]
  },
  {
   "cell_type": "code",
   "execution_count": 166,
   "metadata": {},
   "outputs": [
    {
     "ename": "KeyboardInterrupt",
     "evalue": "",
     "output_type": "error",
     "traceback": [
      "\u001b[1;31m---------------------------------------------------------------------------\u001b[0m",
      "\u001b[1;31mKeyboardInterrupt\u001b[0m                         Traceback (most recent call last)",
      "Cell \u001b[1;32mIn[166], line 4\u001b[0m\n\u001b[0;32m      1\u001b[0m mapped_roberta \u001b[38;5;241m=\u001b[39m map_pairs(input_pairs, model\u001b[38;5;241m=\u001b[39m\u001b[38;5;124m'\u001b[39m\u001b[38;5;124mROBERTA\u001b[39m\u001b[38;5;124m'\u001b[39m, dictionary\u001b[38;5;241m=\u001b[39mdiccionario, )\n\u001b[0;32m      3\u001b[0m mapped_train_roberta \u001b[38;5;241m=\u001b[39m map_pairs(train,  model\u001b[38;5;241m=\u001b[39m\u001b[38;5;124m'\u001b[39m\u001b[38;5;124mROBERTA\u001b[39m\u001b[38;5;124m'\u001b[39m, dictionary\u001b[38;5;241m=\u001b[39mdiccionario, )\n\u001b[1;32m----> 4\u001b[0m mapped_val_roberta \u001b[38;5;241m=\u001b[39m \u001b[43mmap_pairs\u001b[49m\u001b[43m(\u001b[49m\u001b[43mvalidation\u001b[49m\u001b[43m,\u001b[49m\u001b[43m \u001b[49m\u001b[43mmodel\u001b[49m\u001b[38;5;241;43m=\u001b[39;49m\u001b[38;5;124;43m'\u001b[39;49m\u001b[38;5;124;43mROBERTA\u001b[39;49m\u001b[38;5;124;43m'\u001b[39;49m\u001b[43m,\u001b[49m\u001b[43m \u001b[49m\u001b[43mdictionary\u001b[49m\u001b[38;5;241;43m=\u001b[39;49m\u001b[43mdiccionario\u001b[49m\u001b[43m,\u001b[49m\u001b[43m \u001b[49m\u001b[43m)\u001b[49m\n\u001b[0;32m      5\u001b[0m mapped_test_roberta \u001b[38;5;241m=\u001b[39m map_pairs(test, model\u001b[38;5;241m=\u001b[39m\u001b[38;5;124m'\u001b[39m\u001b[38;5;124mROBERTA\u001b[39m\u001b[38;5;124m'\u001b[39m, dictionary\u001b[38;5;241m=\u001b[39mdiccionario, )\n",
      "Cell \u001b[1;32mIn[100], line 32\u001b[0m, in \u001b[0;36mmap_pairs\u001b[1;34m(sentence_pairs, dictionary, model)\u001b[0m\n\u001b[0;32m     30\u001b[0m \u001b[38;5;28;01melif\u001b[39;00m model \u001b[38;5;241m==\u001b[39m \u001b[38;5;124m'\u001b[39m\u001b[38;5;124mROBERTA\u001b[39m\u001b[38;5;124m'\u001b[39m:\n\u001b[0;32m     31\u001b[0m     vector1 \u001b[38;5;241m=\u001b[39m map_roberta(sentence_1)\n\u001b[1;32m---> 32\u001b[0m     vector2 \u001b[38;5;241m=\u001b[39m \u001b[43mmap_roberta\u001b[49m\u001b[43m(\u001b[49m\u001b[43msentence_2\u001b[49m\u001b[43m)\u001b[49m\n\u001b[0;32m     33\u001b[0m \u001b[38;5;28;01melif\u001b[39;00m model \u001b[38;5;241m==\u001b[39m \u001b[38;5;124m'\u001b[39m\u001b[38;5;124mROBERTA_MEAN\u001b[39m\u001b[38;5;124m'\u001b[39m:\n\u001b[0;32m     34\u001b[0m     vector1 \u001b[38;5;241m=\u001b[39m map_roberta_mean(sentence_1)\n",
      "Cell \u001b[1;32mIn[165], line 8\u001b[0m, in \u001b[0;36mmap_roberta\u001b[1;34m(sentence, nlp)\u001b[0m\n\u001b[0;32m      1\u001b[0m \u001b[38;5;28;01mdef\u001b[39;00m \u001b[38;5;21mmap_roberta\u001b[39m(sentence: \u001b[38;5;28mstr\u001b[39m, nlp\u001b[38;5;241m=\u001b[39mnlp_roberta) \u001b[38;5;241m-\u001b[39m\u001b[38;5;241m>\u001b[39m np\u001b[38;5;241m.\u001b[39mndarray:\n\u001b[0;32m      2\u001b[0m \u001b[38;5;250m    \u001b[39m\u001b[38;5;124;03m'''\u001b[39;00m\n\u001b[0;32m      3\u001b[0m \u001b[38;5;124;03m    Mapea una oración a un vector utilizando un modelo de Spacy\u001b[39;00m\n\u001b[0;32m      4\u001b[0m \u001b[38;5;124;03m    :param sentence: la oración a mapear\u001b[39;00m\n\u001b[0;32m      5\u001b[0m \u001b[38;5;124;03m    :param nlp: el modelo de Spacy\u001b[39;00m\n\u001b[0;32m      6\u001b[0m \u001b[38;5;124;03m    :return: el vector de la oración\u001b[39;00m\n\u001b[0;32m      7\u001b[0m \u001b[38;5;124;03m    '''\u001b[39;00m\n\u001b[1;32m----> 8\u001b[0m     doc \u001b[38;5;241m=\u001b[39m \u001b[43mnlp\u001b[49m\u001b[43m(\u001b[49m\u001b[43msentence\u001b[49m\u001b[43m)\u001b[49m\n\u001b[0;32m      9\u001b[0m     vector \u001b[38;5;241m=\u001b[39m doc\u001b[38;5;241m.\u001b[39m_\u001b[38;5;241m.\u001b[39mtrf_data\u001b[38;5;241m.\u001b[39mlast_hidden_layer_state\u001b[38;5;241m.\u001b[39mdata[\u001b[38;5;241m-\u001b[39m\u001b[38;5;241m1\u001b[39m]\n\u001b[0;32m     10\u001b[0m     \u001b[38;5;28;01mreturn\u001b[39;00m vector\n",
      "File \u001b[1;32md:\\GitHub\\PLH4---Embeddings\\.venv\\Lib\\site-packages\\spacy\\language.py:1049\u001b[0m, in \u001b[0;36mLanguage.__call__\u001b[1;34m(self, text, disable, component_cfg)\u001b[0m\n\u001b[0;32m   1047\u001b[0m     error_handler \u001b[38;5;241m=\u001b[39m proc\u001b[38;5;241m.\u001b[39mget_error_handler()\n\u001b[0;32m   1048\u001b[0m \u001b[38;5;28;01mtry\u001b[39;00m:\n\u001b[1;32m-> 1049\u001b[0m     doc \u001b[38;5;241m=\u001b[39m \u001b[43mproc\u001b[49m\u001b[43m(\u001b[49m\u001b[43mdoc\u001b[49m\u001b[43m,\u001b[49m\u001b[43m \u001b[49m\u001b[38;5;241;43m*\u001b[39;49m\u001b[38;5;241;43m*\u001b[39;49m\u001b[43mcomponent_cfg\u001b[49m\u001b[38;5;241;43m.\u001b[39;49m\u001b[43mget\u001b[49m\u001b[43m(\u001b[49m\u001b[43mname\u001b[49m\u001b[43m,\u001b[49m\u001b[43m \u001b[49m\u001b[43m{\u001b[49m\u001b[43m}\u001b[49m\u001b[43m)\u001b[49m\u001b[43m)\u001b[49m  \u001b[38;5;66;03m# type: ignore[call-arg]\u001b[39;00m\n\u001b[0;32m   1050\u001b[0m \u001b[38;5;28;01mexcept\u001b[39;00m \u001b[38;5;167;01mKeyError\u001b[39;00m \u001b[38;5;28;01mas\u001b[39;00m e:\n\u001b[0;32m   1051\u001b[0m     \u001b[38;5;66;03m# This typically happens if a component is not initialized\u001b[39;00m\n\u001b[0;32m   1052\u001b[0m     \u001b[38;5;28;01mraise\u001b[39;00m \u001b[38;5;167;01mValueError\u001b[39;00m(Errors\u001b[38;5;241m.\u001b[39mE109\u001b[38;5;241m.\u001b[39mformat(name\u001b[38;5;241m=\u001b[39mname)) \u001b[38;5;28;01mfrom\u001b[39;00m \u001b[38;5;21;01me\u001b[39;00m\n",
      "File \u001b[1;32md:\\GitHub\\PLH4---Embeddings\\.venv\\Lib\\site-packages\\spacy\\pipeline\\trainable_pipe.pyx:52\u001b[0m, in \u001b[0;36mspacy.pipeline.trainable_pipe.TrainablePipe.__call__\u001b[1;34m()\u001b[0m\n",
      "File \u001b[1;32md:\\GitHub\\PLH4---Embeddings\\.venv\\Lib\\site-packages\\spacy\\pipeline\\tagger.pyx:138\u001b[0m, in \u001b[0;36mspacy.pipeline.tagger.Tagger.predict\u001b[1;34m()\u001b[0m\n",
      "File \u001b[1;32md:\\GitHub\\PLH4---Embeddings\\.venv\\Lib\\site-packages\\thinc\\model.py:334\u001b[0m, in \u001b[0;36mModel.predict\u001b[1;34m(self, X)\u001b[0m\n\u001b[0;32m    330\u001b[0m \u001b[38;5;28;01mdef\u001b[39;00m \u001b[38;5;21mpredict\u001b[39m(\u001b[38;5;28mself\u001b[39m, X: InT) \u001b[38;5;241m-\u001b[39m\u001b[38;5;241m>\u001b[39m OutT:\n\u001b[0;32m    331\u001b[0m \u001b[38;5;250m    \u001b[39m\u001b[38;5;124;03m\"\"\"Call the model's `forward` function with `is_train=False`, and return\u001b[39;00m\n\u001b[0;32m    332\u001b[0m \u001b[38;5;124;03m    only the output, instead of the `(output, callback)` tuple.\u001b[39;00m\n\u001b[0;32m    333\u001b[0m \u001b[38;5;124;03m    \"\"\"\u001b[39;00m\n\u001b[1;32m--> 334\u001b[0m     \u001b[38;5;28;01mreturn\u001b[39;00m \u001b[38;5;28;43mself\u001b[39;49m\u001b[38;5;241;43m.\u001b[39;49m\u001b[43m_func\u001b[49m\u001b[43m(\u001b[49m\u001b[38;5;28;43mself\u001b[39;49m\u001b[43m,\u001b[49m\u001b[43m \u001b[49m\u001b[43mX\u001b[49m\u001b[43m,\u001b[49m\u001b[43m \u001b[49m\u001b[43mis_train\u001b[49m\u001b[38;5;241;43m=\u001b[39;49m\u001b[38;5;28;43;01mFalse\u001b[39;49;00m\u001b[43m)\u001b[49m[\u001b[38;5;241m0\u001b[39m]\n",
      "File \u001b[1;32md:\\GitHub\\PLH4---Embeddings\\.venv\\Lib\\site-packages\\thinc\\layers\\chain.py:54\u001b[0m, in \u001b[0;36mforward\u001b[1;34m(model, X, is_train)\u001b[0m\n\u001b[0;32m     52\u001b[0m callbacks \u001b[38;5;241m=\u001b[39m []\n\u001b[0;32m     53\u001b[0m \u001b[38;5;28;01mfor\u001b[39;00m layer \u001b[38;5;129;01min\u001b[39;00m model\u001b[38;5;241m.\u001b[39mlayers:\n\u001b[1;32m---> 54\u001b[0m     Y, inc_layer_grad \u001b[38;5;241m=\u001b[39m \u001b[43mlayer\u001b[49m\u001b[43m(\u001b[49m\u001b[43mX\u001b[49m\u001b[43m,\u001b[49m\u001b[43m \u001b[49m\u001b[43mis_train\u001b[49m\u001b[38;5;241;43m=\u001b[39;49m\u001b[43mis_train\u001b[49m\u001b[43m)\u001b[49m\n\u001b[0;32m     55\u001b[0m     callbacks\u001b[38;5;241m.\u001b[39mappend(inc_layer_grad)\n\u001b[0;32m     56\u001b[0m     X \u001b[38;5;241m=\u001b[39m Y\n",
      "File \u001b[1;32md:\\GitHub\\PLH4---Embeddings\\.venv\\Lib\\site-packages\\thinc\\model.py:310\u001b[0m, in \u001b[0;36mModel.__call__\u001b[1;34m(self, X, is_train)\u001b[0m\n\u001b[0;32m    307\u001b[0m \u001b[38;5;28;01mdef\u001b[39;00m \u001b[38;5;21m__call__\u001b[39m(\u001b[38;5;28mself\u001b[39m, X: InT, is_train: \u001b[38;5;28mbool\u001b[39m) \u001b[38;5;241m-\u001b[39m\u001b[38;5;241m>\u001b[39m Tuple[OutT, Callable]:\n\u001b[0;32m    308\u001b[0m \u001b[38;5;250m    \u001b[39m\u001b[38;5;124;03m\"\"\"Call the model's `forward` function, returning the output and a\u001b[39;00m\n\u001b[0;32m    309\u001b[0m \u001b[38;5;124;03m    callback to compute the gradients via backpropagation.\"\"\"\u001b[39;00m\n\u001b[1;32m--> 310\u001b[0m     \u001b[38;5;28;01mreturn\u001b[39;00m \u001b[38;5;28;43mself\u001b[39;49m\u001b[38;5;241;43m.\u001b[39;49m\u001b[43m_func\u001b[49m\u001b[43m(\u001b[49m\u001b[38;5;28;43mself\u001b[39;49m\u001b[43m,\u001b[49m\u001b[43m \u001b[49m\u001b[43mX\u001b[49m\u001b[43m,\u001b[49m\u001b[43m \u001b[49m\u001b[43mis_train\u001b[49m\u001b[38;5;241;43m=\u001b[39;49m\u001b[43mis_train\u001b[49m\u001b[43m)\u001b[49m\n",
      "File \u001b[1;32md:\\GitHub\\PLH4---Embeddings\\.venv\\Lib\\site-packages\\thinc\\layers\\with_array.py:42\u001b[0m, in \u001b[0;36mforward\u001b[1;34m(model, Xseq, is_train)\u001b[0m\n\u001b[0;32m     40\u001b[0m     \u001b[38;5;28;01mreturn\u001b[39;00m model\u001b[38;5;241m.\u001b[39mlayers[\u001b[38;5;241m0\u001b[39m](Xseq, is_train)\n\u001b[0;32m     41\u001b[0m \u001b[38;5;28;01melse\u001b[39;00m:\n\u001b[1;32m---> 42\u001b[0m     \u001b[38;5;28;01mreturn\u001b[39;00m cast(Tuple[SeqT, Callable], \u001b[43m_list_forward\u001b[49m\u001b[43m(\u001b[49m\u001b[43mmodel\u001b[49m\u001b[43m,\u001b[49m\u001b[43m \u001b[49m\u001b[43mXseq\u001b[49m\u001b[43m,\u001b[49m\u001b[43m \u001b[49m\u001b[43mis_train\u001b[49m\u001b[43m)\u001b[49m)\n",
      "File \u001b[1;32md:\\GitHub\\PLH4---Embeddings\\.venv\\Lib\\site-packages\\thinc\\layers\\with_array.py:77\u001b[0m, in \u001b[0;36m_list_forward\u001b[1;34m(model, Xs, is_train)\u001b[0m\n\u001b[0;32m     75\u001b[0m lengths \u001b[38;5;241m=\u001b[39m NUMPY_OPS\u001b[38;5;241m.\u001b[39masarray1i([\u001b[38;5;28mlen\u001b[39m(seq) \u001b[38;5;28;01mfor\u001b[39;00m seq \u001b[38;5;129;01min\u001b[39;00m Xs])\n\u001b[0;32m     76\u001b[0m Xf \u001b[38;5;241m=\u001b[39m layer\u001b[38;5;241m.\u001b[39mops\u001b[38;5;241m.\u001b[39mflatten(Xs, pad\u001b[38;5;241m=\u001b[39mpad)\n\u001b[1;32m---> 77\u001b[0m Yf, get_dXf \u001b[38;5;241m=\u001b[39m \u001b[43mlayer\u001b[49m\u001b[43m(\u001b[49m\u001b[43mXf\u001b[49m\u001b[43m,\u001b[49m\u001b[43m \u001b[49m\u001b[43mis_train\u001b[49m\u001b[43m)\u001b[49m\n\u001b[0;32m     79\u001b[0m \u001b[38;5;28;01mdef\u001b[39;00m \u001b[38;5;21mbackprop\u001b[39m(dYs: ListXd) \u001b[38;5;241m-\u001b[39m\u001b[38;5;241m>\u001b[39m ListXd:\n\u001b[0;32m     80\u001b[0m     dYf \u001b[38;5;241m=\u001b[39m layer\u001b[38;5;241m.\u001b[39mops\u001b[38;5;241m.\u001b[39mflatten(dYs, pad\u001b[38;5;241m=\u001b[39mpad)\n",
      "File \u001b[1;32md:\\GitHub\\PLH4---Embeddings\\.venv\\Lib\\site-packages\\thinc\\model.py:310\u001b[0m, in \u001b[0;36mModel.__call__\u001b[1;34m(self, X, is_train)\u001b[0m\n\u001b[0;32m    307\u001b[0m \u001b[38;5;28;01mdef\u001b[39;00m \u001b[38;5;21m__call__\u001b[39m(\u001b[38;5;28mself\u001b[39m, X: InT, is_train: \u001b[38;5;28mbool\u001b[39m) \u001b[38;5;241m-\u001b[39m\u001b[38;5;241m>\u001b[39m Tuple[OutT, Callable]:\n\u001b[0;32m    308\u001b[0m \u001b[38;5;250m    \u001b[39m\u001b[38;5;124;03m\"\"\"Call the model's `forward` function, returning the output and a\u001b[39;00m\n\u001b[0;32m    309\u001b[0m \u001b[38;5;124;03m    callback to compute the gradients via backpropagation.\"\"\"\u001b[39;00m\n\u001b[1;32m--> 310\u001b[0m     \u001b[38;5;28;01mreturn\u001b[39;00m \u001b[38;5;28;43mself\u001b[39;49m\u001b[38;5;241;43m.\u001b[39;49m\u001b[43m_func\u001b[49m\u001b[43m(\u001b[49m\u001b[38;5;28;43mself\u001b[39;49m\u001b[43m,\u001b[49m\u001b[43m \u001b[49m\u001b[43mX\u001b[49m\u001b[43m,\u001b[49m\u001b[43m \u001b[49m\u001b[43mis_train\u001b[49m\u001b[38;5;241;43m=\u001b[39;49m\u001b[43mis_train\u001b[49m\u001b[43m)\u001b[49m\n",
      "File \u001b[1;32md:\\GitHub\\PLH4---Embeddings\\.venv\\Lib\\site-packages\\thinc\\layers\\softmax.py:71\u001b[0m, in \u001b[0;36mforward\u001b[1;34m(model, X, is_train)\u001b[0m\n\u001b[0;32m     69\u001b[0m W \u001b[38;5;241m=\u001b[39m cast(Floats2d, model\u001b[38;5;241m.\u001b[39mget_param(\u001b[38;5;124m\"\u001b[39m\u001b[38;5;124mW\u001b[39m\u001b[38;5;124m\"\u001b[39m))\n\u001b[0;32m     70\u001b[0m b \u001b[38;5;241m=\u001b[39m cast(Floats1d, model\u001b[38;5;241m.\u001b[39mget_param(\u001b[38;5;124m\"\u001b[39m\u001b[38;5;124mb\u001b[39m\u001b[38;5;124m\"\u001b[39m))\n\u001b[1;32m---> 71\u001b[0m Y \u001b[38;5;241m=\u001b[39m \u001b[43mmodel\u001b[49m\u001b[38;5;241;43m.\u001b[39;49m\u001b[43mops\u001b[49m\u001b[38;5;241;43m.\u001b[39;49m\u001b[43maffine\u001b[49m\u001b[43m(\u001b[49m\u001b[43mX\u001b[49m\u001b[43m,\u001b[49m\u001b[43m \u001b[49m\u001b[43mW\u001b[49m\u001b[43m,\u001b[49m\u001b[43m \u001b[49m\u001b[43mb\u001b[49m\u001b[43m)\u001b[49m\n\u001b[0;32m     73\u001b[0m \u001b[38;5;28;01mif\u001b[39;00m normalize:\n\u001b[0;32m     74\u001b[0m     Y \u001b[38;5;241m=\u001b[39m model\u001b[38;5;241m.\u001b[39mops\u001b[38;5;241m.\u001b[39msoftmax(Y, temperature\u001b[38;5;241m=\u001b[39mtemperature)\n",
      "File \u001b[1;32md:\\GitHub\\PLH4---Embeddings\\.venv\\Lib\\site-packages\\thinc\\backends\\ops.py:263\u001b[0m, in \u001b[0;36mOps.affine\u001b[1;34m(self, X, W, b)\u001b[0m\n\u001b[0;32m    259\u001b[0m \u001b[38;5;28;01mdef\u001b[39;00m \u001b[38;5;21maffine\u001b[39m(\u001b[38;5;28mself\u001b[39m, X: Floats2d, W: Floats2d, b: Floats1d) \u001b[38;5;241m-\u001b[39m\u001b[38;5;241m>\u001b[39m Floats2d:\n\u001b[0;32m    260\u001b[0m \u001b[38;5;250m    \u001b[39m\u001b[38;5;124;03m\"\"\"Apply a weights layer and a bias to some inputs, i.e.\u001b[39;00m\n\u001b[0;32m    261\u001b[0m \u001b[38;5;124;03m    Y = X @ W.T + b\u001b[39;00m\n\u001b[0;32m    262\u001b[0m \u001b[38;5;124;03m    \"\"\"\u001b[39;00m\n\u001b[1;32m--> 263\u001b[0m     Y \u001b[38;5;241m=\u001b[39m \u001b[38;5;28;43mself\u001b[39;49m\u001b[38;5;241;43m.\u001b[39;49m\u001b[43mgemm\u001b[49m\u001b[43m(\u001b[49m\u001b[43mX\u001b[49m\u001b[43m,\u001b[49m\u001b[43m \u001b[49m\u001b[43mW\u001b[49m\u001b[43m,\u001b[49m\u001b[43m \u001b[49m\u001b[43mtrans2\u001b[49m\u001b[38;5;241;43m=\u001b[39;49m\u001b[38;5;28;43;01mTrue\u001b[39;49;00m\u001b[43m)\u001b[49m\n\u001b[0;32m    264\u001b[0m     Y \u001b[38;5;241m+\u001b[39m\u001b[38;5;241m=\u001b[39m b\n\u001b[0;32m    265\u001b[0m     \u001b[38;5;28;01mreturn\u001b[39;00m Y\n",
      "\u001b[1;31mKeyboardInterrupt\u001b[0m: "
     ]
    }
   ],
   "source": [
    "mapped_roberta = map_pairs(input_pairs, model='ROBERTA', dictionary=diccionario, )\n",
    "\n",
    "mapped_train_roberta = map_pairs(train,  model='ROBERTA', dictionary=diccionario, )\n",
    "mapped_val_roberta = map_pairs(validation, model='ROBERTA', dictionary=diccionario, )\n",
    "mapped_test_roberta = map_pairs(test, model='ROBERTA', dictionary=diccionario, )"
   ]
  },
  {
   "cell_type": "code",
   "execution_count": 150,
   "metadata": {},
   "outputs": [
    {
     "name": "stdout",
     "output_type": "stream",
     "text": [
      "Pares de vectores: (0,), (0,)\n",
      "Puntuación de similitud: 3.5\n",
      "Pares de vectores: (0,), (0,)\n",
      "Puntuación de similitud: 1.25\n",
      "Pares de vectores: (0,), (0,)\n",
      "Puntuación de similitud: 3.67\n",
      "Pares de vectores: (0,), (0,)\n",
      "Puntuación de similitud: 2.25\n",
      "Pares de vectores: (0,), (0,)\n",
      "Puntuación de similitud: 2.0\n"
     ]
    }
   ],
   "source": [
    "for vectors, similitud in mapped_roberta[:5]:\n",
    "    print(f\"Pares de vectores: {vectors[0].shape}, {vectors[1].shape}\")\n",
    "    print(f\"Puntuación de similitud: {similitud}\")"
   ]
  },
  {
   "cell_type": "code",
   "execution_count": 157,
   "metadata": {},
   "outputs": [],
   "source": [
    "# Obtener las listas de train y test\n",
    "x_train_roberta, y_train_roberta = pair_list_to_x_y(mapped_train_roberta)\n",
    "x_val_roberta, y_val_roberta = pair_list_to_x_y(mapped_val_roberta)"
   ]
  },
  {
   "cell_type": "code",
   "execution_count": 160,
   "metadata": {},
   "outputs": [
    {
     "data": {
      "text/plain": [
       "[((array([], dtype=float32), array([], dtype=float32)), 3.5),\n",
       " ((array([], dtype=float32), array([], dtype=float32)), 1.25),\n",
       " ((array([], dtype=float32), array([], dtype=float32)), 3.67),\n",
       " ((array([], dtype=float32), array([], dtype=float32)), 2.25),\n",
       " ((array([], dtype=float32), array([], dtype=float32)), 2.0),\n",
       " ((array([], dtype=float32), array([], dtype=float32)), 2.75),\n",
       " ((array([], dtype=float32), array([], dtype=float32)), 2.67),\n",
       " ((array([], dtype=float32), array([], dtype=float32)), 2.5),\n",
       " ((array([], dtype=float32), array([], dtype=float32)), 2.5),\n",
       " ((array([], dtype=float32), array([], dtype=float32)), 3.0),\n",
       " ((array([], dtype=float32), array([], dtype=float32)), 3.0),\n",
       " ((array([], dtype=float32), array([], dtype=float32)), 1.0),\n",
       " ((array([], dtype=float32), array([], dtype=float32)), 2.0),\n",
       " ((array([], dtype=float32), array([], dtype=float32)), 4.0),\n",
       " ((array([], dtype=float32), array([], dtype=float32)), 3.0),\n",
       " ((array([], dtype=float32), array([], dtype=float32)), 2.75),\n",
       " ((array([], dtype=float32), array([], dtype=float32)), 2.0),\n",
       " ((array([], dtype=float32), array([], dtype=float32)), 3.0),\n",
       " ((array([], dtype=float32), array([], dtype=float32)), 2.0),\n",
       " ((array([], dtype=float32), array([], dtype=float32)), 3.75),\n",
       " ((array([], dtype=float32), array([], dtype=float32)), 2.75),\n",
       " ((array([], dtype=float32), array([], dtype=float32)), 1.67),\n",
       " ((array([], dtype=float32), array([], dtype=float32)), 4.5),\n",
       " ((array([], dtype=float32), array([], dtype=float32)), 1.75),\n",
       " ((array([], dtype=float32), array([], dtype=float32)), 2.75),\n",
       " ((array([], dtype=float32), array([], dtype=float32)), 2.25),\n",
       " ((array([], dtype=float32), array([], dtype=float32)), 2.0),\n",
       " ((array([], dtype=float32), array([], dtype=float32)), 2.5),\n",
       " ((array([], dtype=float32), array([], dtype=float32)), 2.25),\n",
       " ((array([], dtype=float32), array([], dtype=float32)), 1.0),\n",
       " ((array([], dtype=float32), array([], dtype=float32)), 4.67),\n",
       " ((array([], dtype=float32), array([], dtype=float32)), 2.5),\n",
       " ((array([], dtype=float32), array([], dtype=float32)), 3.0),\n",
       " ((array([], dtype=float32), array([], dtype=float32)), 3.0),\n",
       " ((array([], dtype=float32), array([], dtype=float32)), 3.25),\n",
       " ((array([], dtype=float32), array([], dtype=float32)), 2.5),\n",
       " ((array([], dtype=float32), array([], dtype=float32)), 2.0),\n",
       " ((array([], dtype=float32), array([], dtype=float32)), 1.75),\n",
       " ((array([], dtype=float32), array([], dtype=float32)), 3.5),\n",
       " ((array([], dtype=float32), array([], dtype=float32)), 3.0),\n",
       " ((array([], dtype=float32), array([], dtype=float32)), 1.75),\n",
       " ((array([], dtype=float32), array([], dtype=float32)), 1.75),\n",
       " ((array([], dtype=float32), array([], dtype=float32)), 2.25),\n",
       " ((array([], dtype=float32), array([], dtype=float32)), 5.0),\n",
       " ((array([], dtype=float32), array([], dtype=float32)), 3.0),\n",
       " ((array([], dtype=float32), array([], dtype=float32)), 2.75),\n",
       " ((array([], dtype=float32), array([], dtype=float32)), 1.5),\n",
       " ((array([], dtype=float32), array([], dtype=float32)), 2.25),\n",
       " ((array([], dtype=float32), array([], dtype=float32)), 2.0),\n",
       " ((array([], dtype=float32), array([], dtype=float32)), 2.0),\n",
       " ((array([], dtype=float32), array([], dtype=float32)), 2.0),\n",
       " ((array([], dtype=float32), array([], dtype=float32)), 1.5),\n",
       " ((array([], dtype=float32), array([], dtype=float32)), 3.67),\n",
       " ((array([], dtype=float32), array([], dtype=float32)), 2.0),\n",
       " ((array([], dtype=float32), array([], dtype=float32)), 3.0),\n",
       " ((array([], dtype=float32), array([], dtype=float32)), 3.0),\n",
       " ((array([], dtype=float32), array([], dtype=float32)), 3.0),\n",
       " ((array([], dtype=float32), array([], dtype=float32)), 1.0),\n",
       " ((array([], dtype=float32), array([], dtype=float32)), 1.75),\n",
       " ((array([], dtype=float32), array([], dtype=float32)), 1.5),\n",
       " ((array([], dtype=float32), array([], dtype=float32)), 3.0),\n",
       " ((array([], dtype=float32), array([], dtype=float32)), 1.25),\n",
       " ((array([], dtype=float32), array([], dtype=float32)), 1.75),\n",
       " ((array([], dtype=float32), array([], dtype=float32)), 1.5),\n",
       " ((array([], dtype=float32), array([], dtype=float32)), 3.0),\n",
       " ((array([], dtype=float32), array([], dtype=float32)), 3.0),\n",
       " ((array([], dtype=float32), array([], dtype=float32)), 3.5),\n",
       " ((array([], dtype=float32), array([], dtype=float32)), 2.0),\n",
       " ((array([], dtype=float32), array([], dtype=float32)), 2.0),\n",
       " ((array([], dtype=float32), array([], dtype=float32)), 3.0),\n",
       " ((array([], dtype=float32), array([], dtype=float32)), 2.0),\n",
       " ((array([], dtype=float32), array([], dtype=float32)), 1.5),\n",
       " ((array([], dtype=float32), array([], dtype=float32)), 4.0),\n",
       " ((array([], dtype=float32), array([], dtype=float32)), 1.25),\n",
       " ((array([], dtype=float32), array([], dtype=float32)), 2.0),\n",
       " ((array([], dtype=float32), array([], dtype=float32)), 5.0),\n",
       " ((array([], dtype=float32), array([], dtype=float32)), 4.0),\n",
       " ((array([], dtype=float32), array([], dtype=float32)), 3.5),\n",
       " ((array([], dtype=float32), array([], dtype=float32)), 1.0),\n",
       " ((array([], dtype=float32), array([], dtype=float32)), 0.0),\n",
       " ((array([], dtype=float32), array([], dtype=float32)), 3.0),\n",
       " ((array([], dtype=float32), array([], dtype=float32)), 2.25),\n",
       " ((array([], dtype=float32), array([], dtype=float32)), 2.75),\n",
       " ((array([], dtype=float32), array([], dtype=float32)), 2.75),\n",
       " ((array([], dtype=float32), array([], dtype=float32)), 3.25),\n",
       " ((array([], dtype=float32), array([], dtype=float32)), 1.5),\n",
       " ((array([], dtype=float32), array([], dtype=float32)), 3.5),\n",
       " ((array([], dtype=float32), array([], dtype=float32)), 2.75),\n",
       " ((array([], dtype=float32), array([], dtype=float32)), 2.0),\n",
       " ((array([], dtype=float32), array([], dtype=float32)), 3.0),\n",
       " ((array([], dtype=float32), array([], dtype=float32)), 2.5),\n",
       " ((array([], dtype=float32), array([], dtype=float32)), 1.5),\n",
       " ((array([], dtype=float32), array([], dtype=float32)), 2.5),\n",
       " ((array([], dtype=float32), array([], dtype=float32)), 2.75),\n",
       " ((array([], dtype=float32), array([], dtype=float32)), 1.33),\n",
       " ((array([], dtype=float32), array([], dtype=float32)), 4.75),\n",
       " ((array([], dtype=float32), array([], dtype=float32)), 2.0),\n",
       " ((array([], dtype=float32), array([], dtype=float32)), 2.25),\n",
       " ((array([], dtype=float32), array([], dtype=float32)), 4.0),\n",
       " ((array([], dtype=float32), array([], dtype=float32)), 1.5),\n",
       " ((array([], dtype=float32), array([], dtype=float32)), 2.5),\n",
       " ((array([], dtype=float32), array([], dtype=float32)), 1.75),\n",
       " ((array([], dtype=float32), array([], dtype=float32)), 1.5),\n",
       " ((array([], dtype=float32), array([], dtype=float32)), 2.75),\n",
       " ((array([], dtype=float32), array([], dtype=float32)), 5.0),\n",
       " ((array([], dtype=float32), array([], dtype=float32)), 3.0),\n",
       " ((array([], dtype=float32), array([], dtype=float32)), 2.5),\n",
       " ((array([], dtype=float32), array([], dtype=float32)), 3.0),\n",
       " ((array([], dtype=float32), array([], dtype=float32)), 2.75),\n",
       " ((array([], dtype=float32), array([], dtype=float32)), 5.0),\n",
       " ((array([], dtype=float32), array([], dtype=float32)), 2.75),\n",
       " ((array([], dtype=float32), array([], dtype=float32)), 2.25),\n",
       " ((array([], dtype=float32), array([], dtype=float32)), 3.25),\n",
       " ((array([], dtype=float32), array([], dtype=float32)), 2.25),\n",
       " ((array([], dtype=float32), array([], dtype=float32)), 3.0),\n",
       " ((array([], dtype=float32), array([], dtype=float32)), 2.5),\n",
       " ((array([], dtype=float32), array([], dtype=float32)), 2.75),\n",
       " ((array([], dtype=float32), array([], dtype=float32)), 3.25),\n",
       " ((array([], dtype=float32), array([], dtype=float32)), 3.25),\n",
       " ((array([], dtype=float32), array([], dtype=float32)), 2.5),\n",
       " ((array([], dtype=float32), array([], dtype=float32)), 3.0),\n",
       " ((array([], dtype=float32), array([], dtype=float32)), 1.25),\n",
       " ((array([], dtype=float32), array([], dtype=float32)), 3.0),\n",
       " ((array([], dtype=float32), array([], dtype=float32)), 2.0),\n",
       " ((array([], dtype=float32), array([], dtype=float32)), 2.25),\n",
       " ((array([], dtype=float32), array([], dtype=float32)), 2.75),\n",
       " ((array([], dtype=float32), array([], dtype=float32)), 3.0),\n",
       " ((array([], dtype=float32), array([], dtype=float32)), 3.0),\n",
       " ((array([], dtype=float32), array([], dtype=float32)), 2.75),\n",
       " ((array([], dtype=float32), array([], dtype=float32)), 3.0),\n",
       " ((array([], dtype=float32), array([], dtype=float32)), 1.75),\n",
       " ((array([], dtype=float32), array([], dtype=float32)), 3.0),\n",
       " ((array([], dtype=float32), array([], dtype=float32)), 1.33),\n",
       " ((array([], dtype=float32), array([], dtype=float32)), 0.33),\n",
       " ((array([], dtype=float32), array([], dtype=float32)), 1.75),\n",
       " ((array([], dtype=float32), array([], dtype=float32)), 2.75),\n",
       " ((array([], dtype=float32), array([], dtype=float32)), 5.0),\n",
       " ((array([], dtype=float32), array([], dtype=float32)), 2.5),\n",
       " ((array([], dtype=float32), array([], dtype=float32)), 2.0),\n",
       " ((array([], dtype=float32), array([], dtype=float32)), 2.75),\n",
       " ((array([], dtype=float32), array([], dtype=float32)), 2.5),\n",
       " ((array([], dtype=float32), array([], dtype=float32)), 1.75),\n",
       " ((array([], dtype=float32), array([], dtype=float32)), 2.0),\n",
       " ((array([], dtype=float32), array([], dtype=float32)), 2.5),\n",
       " ((array([], dtype=float32), array([], dtype=float32)), 2.25),\n",
       " ((array([], dtype=float32), array([], dtype=float32)), 1.0),\n",
       " ((array([], dtype=float32), array([], dtype=float32)), 4.25),\n",
       " ((array([], dtype=float32), array([], dtype=float32)), 3.0),\n",
       " ((array([], dtype=float32), array([], dtype=float32)), 2.75),\n",
       " ((array([], dtype=float32), array([], dtype=float32)), 2.75),\n",
       " ((array([], dtype=float32), array([], dtype=float32)), 2.67),\n",
       " ((array([], dtype=float32), array([], dtype=float32)), 1.5),\n",
       " ((array([], dtype=float32), array([], dtype=float32)), 3.5),\n",
       " ((array([], dtype=float32), array([], dtype=float32)), 1.25),\n",
       " ((array([], dtype=float32), array([], dtype=float32)), 2.75),\n",
       " ((array([], dtype=float32), array([], dtype=float32)), 2.75),\n",
       " ((array([], dtype=float32), array([], dtype=float32)), 3.0),\n",
       " ((array([], dtype=float32), array([], dtype=float32)), 2.67),\n",
       " ((array([], dtype=float32), array([], dtype=float32)), 3.0),\n",
       " ((array([], dtype=float32), array([], dtype=float32)), 3.0),\n",
       " ((array([], dtype=float32), array([], dtype=float32)), 3.0),\n",
       " ((array([], dtype=float32), array([], dtype=float32)), 4.0),\n",
       " ((array([], dtype=float32), array([], dtype=float32)), 5.0),\n",
       " ((array([], dtype=float32), array([], dtype=float32)), 3.0),\n",
       " ((array([], dtype=float32), array([], dtype=float32)), 1.75),\n",
       " ((array([], dtype=float32), array([], dtype=float32)), 3.5),\n",
       " ((array([], dtype=float32), array([], dtype=float32)), 3.0),\n",
       " ((array([], dtype=float32), array([], dtype=float32)), 2.25),\n",
       " ((array([], dtype=float32), array([], dtype=float32)), 4.67),\n",
       " ((array([], dtype=float32), array([], dtype=float32)), 3.0),\n",
       " ((array([], dtype=float32), array([], dtype=float32)), 3.0),\n",
       " ((array([], dtype=float32), array([], dtype=float32)), 2.75),\n",
       " ((array([], dtype=float32), array([], dtype=float32)), 1.0),\n",
       " ((array([], dtype=float32), array([], dtype=float32)), 2.75),\n",
       " ((array([], dtype=float32), array([], dtype=float32)), 2.67),\n",
       " ((array([], dtype=float32), array([], dtype=float32)), 3.0),\n",
       " ((array([], dtype=float32), array([], dtype=float32)), 3.0),\n",
       " ((array([], dtype=float32), array([], dtype=float32)), 3.0),\n",
       " ((array([], dtype=float32), array([], dtype=float32)), 2.0),\n",
       " ((array([], dtype=float32), array([], dtype=float32)), 5.0),\n",
       " ((array([], dtype=float32), array([], dtype=float32)), 1.75),\n",
       " ((array([], dtype=float32), array([], dtype=float32)), 1.75),\n",
       " ((array([], dtype=float32), array([], dtype=float32)), 1.5),\n",
       " ((array([], dtype=float32), array([], dtype=float32)), 2.67),\n",
       " ((array([], dtype=float32), array([], dtype=float32)), 1.33),\n",
       " ((array([], dtype=float32), array([], dtype=float32)), 3.0),\n",
       " ((array([], dtype=float32), array([], dtype=float32)), 1.0),\n",
       " ((array([], dtype=float32), array([], dtype=float32)), 3.0),\n",
       " ((array([], dtype=float32), array([], dtype=float32)), 3.0),\n",
       " ((array([], dtype=float32), array([], dtype=float32)), 2.75),\n",
       " ((array([], dtype=float32), array([], dtype=float32)), 2.0),\n",
       " ((array([], dtype=float32), array([], dtype=float32)), 3.5),\n",
       " ((array([], dtype=float32), array([], dtype=float32)), 2.75),\n",
       " ((array([], dtype=float32), array([], dtype=float32)), 3.0),\n",
       " ((array([], dtype=float32), array([], dtype=float32)), 1.25),\n",
       " ((array([], dtype=float32), array([], dtype=float32)), 1.75),\n",
       " ((array([], dtype=float32), array([], dtype=float32)), 2.75),\n",
       " ((array([], dtype=float32), array([], dtype=float32)), 2.25),\n",
       " ((array([], dtype=float32), array([], dtype=float32)), 3.75),\n",
       " ((array([], dtype=float32), array([], dtype=float32)), 3.0),\n",
       " ((array([], dtype=float32), array([], dtype=float32)), 1.5),\n",
       " ((array([], dtype=float32), array([], dtype=float32)), 2.25),\n",
       " ((array([], dtype=float32), array([], dtype=float32)), 2.75),\n",
       " ((array([], dtype=float32), array([], dtype=float32)), 2.5),\n",
       " ((array([], dtype=float32), array([], dtype=float32)), 3.0),\n",
       " ((array([], dtype=float32), array([], dtype=float32)), 2.5),\n",
       " ((array([], dtype=float32), array([], dtype=float32)), 1.75),\n",
       " ((array([], dtype=float32), array([], dtype=float32)), 3.5),\n",
       " ((array([], dtype=float32), array([], dtype=float32)), 1.5),\n",
       " ((array([], dtype=float32), array([], dtype=float32)), 3.0),\n",
       " ((array([], dtype=float32), array([], dtype=float32)), 1.75),\n",
       " ((array([], dtype=float32), array([], dtype=float32)), 3.0),\n",
       " ((array([], dtype=float32), array([], dtype=float32)), 1.0),\n",
       " ((array([], dtype=float32), array([], dtype=float32)), 2.75),\n",
       " ((array([], dtype=float32), array([], dtype=float32)), 3.0),\n",
       " ((array([], dtype=float32), array([], dtype=float32)), 3.0),\n",
       " ((array([], dtype=float32), array([], dtype=float32)), 2.75),\n",
       " ((array([], dtype=float32), array([], dtype=float32)), 3.0),\n",
       " ((array([], dtype=float32), array([], dtype=float32)), 2.5),\n",
       " ((array([], dtype=float32), array([], dtype=float32)), 2.25),\n",
       " ((array([], dtype=float32), array([], dtype=float32)), 3.75),\n",
       " ((array([], dtype=float32), array([], dtype=float32)), 1.75),\n",
       " ((array([], dtype=float32), array([], dtype=float32)), 1.5),\n",
       " ((array([], dtype=float32), array([], dtype=float32)), 1.5),\n",
       " ((array([], dtype=float32), array([], dtype=float32)), 3.0),\n",
       " ((array([], dtype=float32), array([], dtype=float32)), 4.67),\n",
       " ((array([], dtype=float32), array([], dtype=float32)), 2.5),\n",
       " ((array([], dtype=float32), array([], dtype=float32)), 2.5),\n",
       " ((array([], dtype=float32), array([], dtype=float32)), 3.0),\n",
       " ((array([], dtype=float32), array([], dtype=float32)), 3.0),\n",
       " ((array([], dtype=float32), array([], dtype=float32)), 4.0),\n",
       " ((array([], dtype=float32), array([], dtype=float32)), 2.5),\n",
       " ((array([], dtype=float32), array([], dtype=float32)), 2.75),\n",
       " ((array([], dtype=float32), array([], dtype=float32)), 2.5),\n",
       " ((array([], dtype=float32), array([], dtype=float32)), 3.0),\n",
       " ((array([], dtype=float32), array([], dtype=float32)), 3.0),\n",
       " ((array([], dtype=float32), array([], dtype=float32)), 2.0),\n",
       " ((array([], dtype=float32), array([], dtype=float32)), 4.75),\n",
       " ((array([], dtype=float32), array([], dtype=float32)), 4.0),\n",
       " ((array([], dtype=float32), array([], dtype=float32)), 1.5),\n",
       " ((array([], dtype=float32), array([], dtype=float32)), 1.75),\n",
       " ((array([], dtype=float32), array([], dtype=float32)), 1.75),\n",
       " ((array([], dtype=float32), array([], dtype=float32)), 1.75),\n",
       " ((array([], dtype=float32), array([], dtype=float32)), 1.25),\n",
       " ((array([], dtype=float32), array([], dtype=float32)), 3.0),\n",
       " ((array([], dtype=float32), array([], dtype=float32)), 3.0),\n",
       " ((array([], dtype=float32), array([], dtype=float32)), 1.0),\n",
       " ((array([], dtype=float32), array([], dtype=float32)), 2.75),\n",
       " ((array([], dtype=float32), array([], dtype=float32)), 2.0),\n",
       " ((array([], dtype=float32), array([], dtype=float32)), 3.0),\n",
       " ((array([], dtype=float32), array([], dtype=float32)), 2.25),\n",
       " ((array([], dtype=float32), array([], dtype=float32)), 1.5),\n",
       " ((array([], dtype=float32), array([], dtype=float32)), 1.0),\n",
       " ((array([], dtype=float32), array([], dtype=float32)), 3.25),\n",
       " ((array([], dtype=float32), array([], dtype=float32)), 1.75),\n",
       " ((array([], dtype=float32), array([], dtype=float32)), 3.25),\n",
       " ((array([], dtype=float32), array([], dtype=float32)), 3.0),\n",
       " ((array([], dtype=float32), array([], dtype=float32)), 3.0),\n",
       " ((array([], dtype=float32), array([], dtype=float32)), 1.0),\n",
       " ((array([], dtype=float32), array([], dtype=float32)), 3.0),\n",
       " ((array([], dtype=float32), array([], dtype=float32)), 3.0),\n",
       " ((array([], dtype=float32), array([], dtype=float32)), 3.75),\n",
       " ((array([], dtype=float32), array([], dtype=float32)), 2.0),\n",
       " ((array([], dtype=float32), array([], dtype=float32)), 2.5),\n",
       " ((array([], dtype=float32), array([], dtype=float32)), 1.5),\n",
       " ((array([], dtype=float32), array([], dtype=float32)), 2.0),\n",
       " ((array([], dtype=float32), array([], dtype=float32)), 2.5),\n",
       " ((array([], dtype=float32), array([], dtype=float32)), 4.5),\n",
       " ((array([], dtype=float32), array([], dtype=float32)), 1.75),\n",
       " ((array([], dtype=float32), array([], dtype=float32)), 2.0),\n",
       " ((array([], dtype=float32), array([], dtype=float32)), 2.5),\n",
       " ((array([], dtype=float32), array([], dtype=float32)), 3.0),\n",
       " ((array([], dtype=float32), array([], dtype=float32)), 2.75),\n",
       " ((array([], dtype=float32), array([], dtype=float32)), 2.75),\n",
       " ((array([], dtype=float32), array([], dtype=float32)), 4.5),\n",
       " ((array([], dtype=float32), array([], dtype=float32)), 2.0),\n",
       " ((array([], dtype=float32), array([], dtype=float32)), 2.67),\n",
       " ((array([], dtype=float32), array([], dtype=float32)), 1.75),\n",
       " ((array([], dtype=float32), array([], dtype=float32)), 2.75),\n",
       " ((array([], dtype=float32), array([], dtype=float32)), 0.0),\n",
       " ((array([], dtype=float32), array([], dtype=float32)), 2.0),\n",
       " ((array([], dtype=float32), array([], dtype=float32)), 2.5),\n",
       " ((array([], dtype=float32), array([], dtype=float32)), 2.5),\n",
       " ((array([], dtype=float32), array([], dtype=float32)), 2.0),\n",
       " ((array([], dtype=float32), array([], dtype=float32)), 2.67),\n",
       " ((array([], dtype=float32), array([], dtype=float32)), 3.0),\n",
       " ((array([], dtype=float32), array([], dtype=float32)), 2.0),\n",
       " ((array([], dtype=float32), array([], dtype=float32)), 2.75),\n",
       " ((array([], dtype=float32), array([], dtype=float32)), 4.0),\n",
       " ((array([], dtype=float32), array([], dtype=float32)), 2.75),\n",
       " ((array([], dtype=float32), array([], dtype=float32)), 2.75),\n",
       " ((array([], dtype=float32), array([], dtype=float32)), 2.25),\n",
       " ((array([], dtype=float32), array([], dtype=float32)), 2.0),\n",
       " ((array([], dtype=float32), array([], dtype=float32)), 0.0),\n",
       " ((array([], dtype=float32), array([], dtype=float32)), 2.0),\n",
       " ((array([], dtype=float32), array([], dtype=float32)), 1.0),\n",
       " ((array([], dtype=float32), array([], dtype=float32)), 3.0),\n",
       " ((array([], dtype=float32), array([], dtype=float32)), 1.25),\n",
       " ((array([], dtype=float32), array([], dtype=float32)), 3.0),\n",
       " ((array([], dtype=float32), array([], dtype=float32)), 3.0),\n",
       " ((array([], dtype=float32), array([], dtype=float32)), 2.0),\n",
       " ((array([], dtype=float32), array([], dtype=float32)), 3.25),\n",
       " ((array([], dtype=float32), array([], dtype=float32)), 3.0),\n",
       " ((array([], dtype=float32), array([], dtype=float32)), 4.75),\n",
       " ((array([], dtype=float32), array([], dtype=float32)), 3.0),\n",
       " ((array([], dtype=float32), array([], dtype=float32)), 2.5),\n",
       " ((array([], dtype=float32), array([], dtype=float32)), 2.5),\n",
       " ((array([], dtype=float32), array([], dtype=float32)), 1.25),\n",
       " ((array([], dtype=float32), array([], dtype=float32)), 2.0),\n",
       " ((array([], dtype=float32), array([], dtype=float32)), 3.0),\n",
       " ((array([], dtype=float32), array([], dtype=float32)), 2.75),\n",
       " ((array([], dtype=float32), array([], dtype=float32)), 1.25),\n",
       " ((array([], dtype=float32), array([], dtype=float32)), 2.0),\n",
       " ((array([], dtype=float32), array([], dtype=float32)), 1.33),\n",
       " ((array([], dtype=float32), array([], dtype=float32)), 3.0),\n",
       " ((array([], dtype=float32), array([], dtype=float32)), 3.0),\n",
       " ((array([], dtype=float32), array([], dtype=float32)), 3.5),\n",
       " ((array([], dtype=float32), array([], dtype=float32)), 2.0),\n",
       " ((array([], dtype=float32), array([], dtype=float32)), 3.0),\n",
       " ((array([], dtype=float32), array([], dtype=float32)), 1.75),\n",
       " ((array([], dtype=float32), array([], dtype=float32)), 2.75),\n",
       " ((array([], dtype=float32), array([], dtype=float32)), 2.5),\n",
       " ((array([], dtype=float32), array([], dtype=float32)), 2.33),\n",
       " ((array([], dtype=float32), array([], dtype=float32)), 1.25),\n",
       " ((array([], dtype=float32), array([], dtype=float32)), 2.25),\n",
       " ((array([], dtype=float32), array([], dtype=float32)), 3.0),\n",
       " ((array([], dtype=float32), array([], dtype=float32)), 2.0),\n",
       " ((array([], dtype=float32), array([], dtype=float32)), 1.0),\n",
       " ((array([], dtype=float32), array([], dtype=float32)), 1.75),\n",
       " ((array([], dtype=float32), array([], dtype=float32)), 2.75),\n",
       " ((array([], dtype=float32), array([], dtype=float32)), 3.0),\n",
       " ((array([], dtype=float32), array([], dtype=float32)), 2.0),\n",
       " ((array([], dtype=float32), array([], dtype=float32)), 2.0),\n",
       " ((array([], dtype=float32), array([], dtype=float32)), 1.5),\n",
       " ((array([], dtype=float32), array([], dtype=float32)), 3.0),\n",
       " ((array([], dtype=float32), array([], dtype=float32)), 1.0),\n",
       " ((array([], dtype=float32), array([], dtype=float32)), 2.0),\n",
       " ((array([], dtype=float32), array([], dtype=float32)), 2.33),\n",
       " ((array([], dtype=float32), array([], dtype=float32)), 1.5),\n",
       " ((array([], dtype=float32), array([], dtype=float32)), 3.0),\n",
       " ((array([], dtype=float32), array([], dtype=float32)), 2.0),\n",
       " ((array([], dtype=float32), array([], dtype=float32)), 3.0),\n",
       " ((array([], dtype=float32), array([], dtype=float32)), 1.0),\n",
       " ((array([], dtype=float32), array([], dtype=float32)), 3.0),\n",
       " ((array([], dtype=float32), array([], dtype=float32)), 2.75),\n",
       " ((array([], dtype=float32), array([], dtype=float32)), 2.0),\n",
       " ((array([], dtype=float32), array([], dtype=float32)), 2.67),\n",
       " ((array([], dtype=float32), array([], dtype=float32)), 2.75),\n",
       " ((array([], dtype=float32), array([], dtype=float32)), 3.5),\n",
       " ((array([], dtype=float32), array([], dtype=float32)), 5.0),\n",
       " ((array([], dtype=float32), array([], dtype=float32)), 3.0),\n",
       " ((array([], dtype=float32), array([], dtype=float32)), 3.0),\n",
       " ((array([], dtype=float32), array([], dtype=float32)), 1.25),\n",
       " ((array([], dtype=float32), array([], dtype=float32)), 1.5),\n",
       " ((array([], dtype=float32), array([], dtype=float32)), 2.0),\n",
       " ((array([], dtype=float32), array([], dtype=float32)), 3.25),\n",
       " ((array([], dtype=float32), array([], dtype=float32)), 3.25),\n",
       " ((array([], dtype=float32), array([], dtype=float32)), 2.75),\n",
       " ((array([], dtype=float32), array([], dtype=float32)), 4.25),\n",
       " ((array([], dtype=float32), array([], dtype=float32)), 1.0),\n",
       " ((array([], dtype=float32), array([], dtype=float32)), 2.75),\n",
       " ((array([], dtype=float32), array([], dtype=float32)), 2.5),\n",
       " ((array([], dtype=float32), array([], dtype=float32)), 2.25),\n",
       " ((array([], dtype=float32), array([], dtype=float32)), 1.25),\n",
       " ((array([], dtype=float32), array([], dtype=float32)), 2.67),\n",
       " ((array([], dtype=float32), array([], dtype=float32)), 2.75),\n",
       " ((array([], dtype=float32), array([], dtype=float32)), 3.5),\n",
       " ((array([], dtype=float32), array([], dtype=float32)), 2.75),\n",
       " ((array([], dtype=float32), array([], dtype=float32)), 3.0),\n",
       " ((array([], dtype=float32), array([], dtype=float32)), 2.0),\n",
       " ((array([], dtype=float32), array([], dtype=float32)), 2.5),\n",
       " ((array([], dtype=float32), array([], dtype=float32)), 1.75),\n",
       " ((array([], dtype=float32), array([], dtype=float32)), 1.33),\n",
       " ((array([], dtype=float32), array([], dtype=float32)), 3.0),\n",
       " ((array([], dtype=float32), array([], dtype=float32)), 2.67),\n",
       " ((array([], dtype=float32), array([], dtype=float32)), 1.25),\n",
       " ((array([], dtype=float32), array([], dtype=float32)), 2.75),\n",
       " ((array([], dtype=float32), array([], dtype=float32)), 2.0),\n",
       " ((array([], dtype=float32), array([], dtype=float32)), 2.5),\n",
       " ((array([], dtype=float32), array([], dtype=float32)), 1.5),\n",
       " ((array([], dtype=float32), array([], dtype=float32)), 3.0),\n",
       " ((array([], dtype=float32), array([], dtype=float32)), 2.33),\n",
       " ((array([], dtype=float32), array([], dtype=float32)), 4.75),\n",
       " ((array([], dtype=float32), array([], dtype=float32)), 3.0),\n",
       " ((array([], dtype=float32), array([], dtype=float32)), 3.0),\n",
       " ((array([], dtype=float32), array([], dtype=float32)), 2.5),\n",
       " ((array([], dtype=float32), array([], dtype=float32)), 3.5),\n",
       " ((array([], dtype=float32), array([], dtype=float32)), 2.0),\n",
       " ((array([], dtype=float32), array([], dtype=float32)), 3.0),\n",
       " ((array([], dtype=float32), array([], dtype=float32)), 2.5),\n",
       " ((array([], dtype=float32), array([], dtype=float32)), 2.0),\n",
       " ((array([], dtype=float32), array([], dtype=float32)), 3.0),\n",
       " ((array([], dtype=float32), array([], dtype=float32)), 2.0),\n",
       " ((array([], dtype=float32), array([], dtype=float32)), 2.0),\n",
       " ((array([], dtype=float32), array([], dtype=float32)), 2.5),\n",
       " ((array([], dtype=float32), array([], dtype=float32)), 3.0),\n",
       " ((array([], dtype=float32), array([], dtype=float32)), 1.5),\n",
       " ((array([], dtype=float32), array([], dtype=float32)), 2.75),\n",
       " ((array([], dtype=float32), array([], dtype=float32)), 1.25),\n",
       " ((array([], dtype=float32), array([], dtype=float32)), 3.0),\n",
       " ((array([], dtype=float32), array([], dtype=float32)), 3.0),\n",
       " ((array([], dtype=float32), array([], dtype=float32)), 2.75),\n",
       " ((array([], dtype=float32), array([], dtype=float32)), 2.5),\n",
       " ((array([], dtype=float32), array([], dtype=float32)), 1.5),\n",
       " ((array([], dtype=float32), array([], dtype=float32)), 3.0),\n",
       " ((array([], dtype=float32), array([], dtype=float32)), 1.0),\n",
       " ((array([], dtype=float32), array([], dtype=float32)), 1.5),\n",
       " ((array([], dtype=float32), array([], dtype=float32)), 1.0),\n",
       " ((array([], dtype=float32), array([], dtype=float32)), 2.25),\n",
       " ((array([], dtype=float32), array([], dtype=float32)), 2.0),\n",
       " ((array([], dtype=float32), array([], dtype=float32)), 2.75),\n",
       " ((array([], dtype=float32), array([], dtype=float32)), 2.75),\n",
       " ((array([], dtype=float32), array([], dtype=float32)), 2.75),\n",
       " ((array([], dtype=float32), array([], dtype=float32)), 3.0),\n",
       " ((array([], dtype=float32), array([], dtype=float32)), 1.5),\n",
       " ((array([], dtype=float32), array([], dtype=float32)), 2.75),\n",
       " ((array([], dtype=float32), array([], dtype=float32)), 1.5),\n",
       " ((array([], dtype=float32), array([], dtype=float32)), 2.0),\n",
       " ((array([], dtype=float32), array([], dtype=float32)), 2.5),\n",
       " ((array([], dtype=float32), array([], dtype=float32)), 2.0),\n",
       " ((array([], dtype=float32), array([], dtype=float32)), 3.75),\n",
       " ((array([], dtype=float32), array([], dtype=float32)), 3.0),\n",
       " ((array([], dtype=float32), array([], dtype=float32)), 3.5),\n",
       " ((array([], dtype=float32), array([], dtype=float32)), 1.75),\n",
       " ((array([], dtype=float32), array([], dtype=float32)), 3.0),\n",
       " ((array([], dtype=float32), array([], dtype=float32)), 2.75),\n",
       " ((array([], dtype=float32), array([], dtype=float32)), 1.75),\n",
       " ((array([], dtype=float32), array([], dtype=float32)), 2.0),\n",
       " ((array([], dtype=float32), array([], dtype=float32)), 1.0),\n",
       " ((array([], dtype=float32), array([], dtype=float32)), 3.0),\n",
       " ((array([], dtype=float32), array([], dtype=float32)), 3.5),\n",
       " ((array([], dtype=float32), array([], dtype=float32)), 2.0),\n",
       " ((array([], dtype=float32), array([], dtype=float32)), 3.0),\n",
       " ((array([], dtype=float32), array([], dtype=float32)), 3.25),\n",
       " ((array([], dtype=float32), array([], dtype=float32)), 3.0),\n",
       " ((array([], dtype=float32), array([], dtype=float32)), 2.75),\n",
       " ((array([], dtype=float32), array([], dtype=float32)), 3.67),\n",
       " ((array([], dtype=float32), array([], dtype=float32)), 2.0),\n",
       " ((array([], dtype=float32), array([], dtype=float32)), 3.0),\n",
       " ((array([], dtype=float32), array([], dtype=float32)), 1.33),\n",
       " ((array([], dtype=float32), array([], dtype=float32)), 2.75),\n",
       " ((array([], dtype=float32), array([], dtype=float32)), 3.0),\n",
       " ((array([], dtype=float32), array([], dtype=float32)), 3.0),\n",
       " ((array([], dtype=float32), array([], dtype=float32)), 2.0),\n",
       " ((array([], dtype=float32), array([], dtype=float32)), 2.67),\n",
       " ((array([], dtype=float32), array([], dtype=float32)), 3.0),\n",
       " ((array([], dtype=float32), array([], dtype=float32)), 2.25),\n",
       " ((array([], dtype=float32), array([], dtype=float32)), 3.25),\n",
       " ((array([], dtype=float32), array([], dtype=float32)), 2.5),\n",
       " ((array([], dtype=float32), array([], dtype=float32)), 2.5),\n",
       " ((array([], dtype=float32), array([], dtype=float32)), 2.0),\n",
       " ((array([], dtype=float32), array([], dtype=float32)), 3.0),\n",
       " ((array([], dtype=float32), array([], dtype=float32)), 1.25),\n",
       " ((array([], dtype=float32), array([], dtype=float32)), 3.0),\n",
       " ((array([], dtype=float32), array([], dtype=float32)), 2.25),\n",
       " ((array([], dtype=float32), array([], dtype=float32)), 2.5),\n",
       " ((array([], dtype=float32), array([], dtype=float32)), 1.33),\n",
       " ((array([], dtype=float32), array([], dtype=float32)), 2.67),\n",
       " ((array([], dtype=float32), array([], dtype=float32)), 1.5),\n",
       " ((array([], dtype=float32), array([], dtype=float32)), 2.5),\n",
       " ((array([], dtype=float32), array([], dtype=float32)), 3.0),\n",
       " ((array([], dtype=float32), array([], dtype=float32)), 4.0),\n",
       " ((array([], dtype=float32), array([], dtype=float32)), 3.25),\n",
       " ((array([], dtype=float32), array([], dtype=float32)), 2.0),\n",
       " ((array([], dtype=float32), array([], dtype=float32)), 3.25),\n",
       " ((array([], dtype=float32), array([], dtype=float32)), 3.0),\n",
       " ((array([], dtype=float32), array([], dtype=float32)), 2.0),\n",
       " ((array([], dtype=float32), array([], dtype=float32)), 3.25),\n",
       " ((array([], dtype=float32), array([], dtype=float32)), 1.5),\n",
       " ((array([], dtype=float32), array([], dtype=float32)), 2.5),\n",
       " ((array([], dtype=float32), array([], dtype=float32)), 3.0),\n",
       " ((array([], dtype=float32), array([], dtype=float32)), 2.0),\n",
       " ((array([], dtype=float32), array([], dtype=float32)), 2.25),\n",
       " ((array([], dtype=float32), array([], dtype=float32)), 3.0),\n",
       " ((array([], dtype=float32), array([], dtype=float32)), 2.25),\n",
       " ((array([], dtype=float32), array([], dtype=float32)), 3.5),\n",
       " ((array([], dtype=float32), array([], dtype=float32)), 1.0),\n",
       " ((array([], dtype=float32), array([], dtype=float32)), 2.75),\n",
       " ((array([], dtype=float32), array([], dtype=float32)), 2.25),\n",
       " ((array([], dtype=float32), array([], dtype=float32)), 3.0),\n",
       " ((array([], dtype=float32), array([], dtype=float32)), 2.75),\n",
       " ((array([], dtype=float32), array([], dtype=float32)), 3.0),\n",
       " ((array([], dtype=float32), array([], dtype=float32)), 2.75),\n",
       " ((array([], dtype=float32), array([], dtype=float32)), 2.25),\n",
       " ((array([], dtype=float32), array([], dtype=float32)), 2.5),\n",
       " ((array([], dtype=float32), array([], dtype=float32)), 1.5),\n",
       " ((array([], dtype=float32), array([], dtype=float32)), 3.0),\n",
       " ((array([], dtype=float32), array([], dtype=float32)), 3.0),\n",
       " ((array([], dtype=float32), array([], dtype=float32)), 2.5),\n",
       " ((array([], dtype=float32), array([], dtype=float32)), 4.0),\n",
       " ((array([], dtype=float32), array([], dtype=float32)), 3.5),\n",
       " ((array([], dtype=float32), array([], dtype=float32)), 1.5),\n",
       " ((array([], dtype=float32), array([], dtype=float32)), 1.75),\n",
       " ((array([], dtype=float32), array([], dtype=float32)), 3.0),\n",
       " ((array([], dtype=float32), array([], dtype=float32)), 2.5),\n",
       " ((array([], dtype=float32), array([], dtype=float32)), 2.0),\n",
       " ((array([], dtype=float32), array([], dtype=float32)), 3.25),\n",
       " ((array([], dtype=float32), array([], dtype=float32)), 3.0),\n",
       " ((array([], dtype=float32), array([], dtype=float32)), 2.75),\n",
       " ((array([], dtype=float32), array([], dtype=float32)), 2.5),\n",
       " ((array([], dtype=float32), array([], dtype=float32)), 1.75),\n",
       " ((array([], dtype=float32), array([], dtype=float32)), 2.0),\n",
       " ((array([], dtype=float32), array([], dtype=float32)), 1.33),\n",
       " ((array([], dtype=float32), array([], dtype=float32)), 3.75),\n",
       " ((array([], dtype=float32), array([], dtype=float32)), 1.75),\n",
       " ((array([], dtype=float32), array([], dtype=float32)), 2.67),\n",
       " ((array([], dtype=float32), array([], dtype=float32)), 3.75),\n",
       " ((array([], dtype=float32), array([], dtype=float32)), 3.5),\n",
       " ((array([], dtype=float32), array([], dtype=float32)), 3.25),\n",
       " ((array([], dtype=float32), array([], dtype=float32)), 2.75),\n",
       " ((array([], dtype=float32), array([], dtype=float32)), 5.0),\n",
       " ((array([], dtype=float32), array([], dtype=float32)), 2.0),\n",
       " ((array([], dtype=float32), array([], dtype=float32)), 4.25),\n",
       " ((array([], dtype=float32), array([], dtype=float32)), 5.0),\n",
       " ((array([], dtype=float32), array([], dtype=float32)), 1.33),\n",
       " ((array([], dtype=float32), array([], dtype=float32)), 2.25),\n",
       " ((array([], dtype=float32), array([], dtype=float32)), 3.0),\n",
       " ((array([], dtype=float32), array([], dtype=float32)), 3.5),\n",
       " ((array([], dtype=float32), array([], dtype=float32)), 0.33),\n",
       " ((array([], dtype=float32), array([], dtype=float32)), 1.5),\n",
       " ((array([], dtype=float32), array([], dtype=float32)), 3.0),\n",
       " ((array([], dtype=float32), array([], dtype=float32)), 1.33),\n",
       " ((array([], dtype=float32), array([], dtype=float32)), 3.0),\n",
       " ((array([], dtype=float32), array([], dtype=float32)), 2.75),\n",
       " ((array([], dtype=float32), array([], dtype=float32)), 1.5),\n",
       " ((array([], dtype=float32), array([], dtype=float32)), 2.0),\n",
       " ((array([], dtype=float32), array([], dtype=float32)), 3.75),\n",
       " ((array([], dtype=float32), array([], dtype=float32)), 3.25),\n",
       " ((array([], dtype=float32), array([], dtype=float32)), 2.25),\n",
       " ((array([], dtype=float32), array([], dtype=float32)), 1.0),\n",
       " ((array([], dtype=float32), array([], dtype=float32)), 2.75),\n",
       " ((array([], dtype=float32), array([], dtype=float32)), 2.75),\n",
       " ((array([], dtype=float32), array([], dtype=float32)), 3.0),\n",
       " ((array([], dtype=float32), array([], dtype=float32)), 1.25),\n",
       " ((array([], dtype=float32), array([], dtype=float32)), 1.33),\n",
       " ((array([], dtype=float32), array([], dtype=float32)), 3.25),\n",
       " ((array([], dtype=float32), array([], dtype=float32)), 2.25),\n",
       " ((array([], dtype=float32), array([], dtype=float32)), 2.75),\n",
       " ((array([], dtype=float32), array([], dtype=float32)), 1.33),\n",
       " ((array([], dtype=float32), array([], dtype=float32)), 1.5),\n",
       " ((array([], dtype=float32), array([], dtype=float32)), 2.75),\n",
       " ((array([], dtype=float32), array([], dtype=float32)), 3.0),\n",
       " ((array([], dtype=float32), array([], dtype=float32)), 1.75),\n",
       " ((array([], dtype=float32), array([], dtype=float32)), 2.33),\n",
       " ((array([], dtype=float32), array([], dtype=float32)), 3.0),\n",
       " ((array([], dtype=float32), array([], dtype=float32)), 3.33),\n",
       " ((array([], dtype=float32), array([], dtype=float32)), 1.5),\n",
       " ((array([], dtype=float32), array([], dtype=float32)), 3.75),\n",
       " ((array([], dtype=float32), array([], dtype=float32)), 2.25),\n",
       " ((array([], dtype=float32), array([], dtype=float32)), 2.25),\n",
       " ((array([], dtype=float32), array([], dtype=float32)), 4.0),\n",
       " ((array([], dtype=float32), array([], dtype=float32)), 3.25),\n",
       " ((array([], dtype=float32), array([], dtype=float32)), 2.0),\n",
       " ((array([], dtype=float32), array([], dtype=float32)), 1.75),\n",
       " ((array([], dtype=float32), array([], dtype=float32)), 1.33),\n",
       " ((array([], dtype=float32), array([], dtype=float32)), 3.25),\n",
       " ((array([], dtype=float32), array([], dtype=float32)), 1.75),\n",
       " ((array([], dtype=float32), array([], dtype=float32)), 4.25),\n",
       " ((array([], dtype=float32), array([], dtype=float32)), 4.25),\n",
       " ((array([], dtype=float32), array([], dtype=float32)), 3.0),\n",
       " ((array([], dtype=float32), array([], dtype=float32)), 2.67),\n",
       " ((array([], dtype=float32), array([], dtype=float32)), 4.0),\n",
       " ((array([], dtype=float32), array([], dtype=float32)), 2.25),\n",
       " ((array([], dtype=float32), array([], dtype=float32)), 2.0),\n",
       " ((array([], dtype=float32), array([], dtype=float32)), 2.33),\n",
       " ((array([], dtype=float32), array([], dtype=float32)), 2.0),\n",
       " ((array([], dtype=float32), array([], dtype=float32)), 2.0),\n",
       " ((array([], dtype=float32), array([], dtype=float32)), 3.67),\n",
       " ((array([], dtype=float32), array([], dtype=float32)), 1.5),\n",
       " ((array([], dtype=float32), array([], dtype=float32)), 3.0),\n",
       " ((array([], dtype=float32), array([], dtype=float32)), 2.75),\n",
       " ((array([], dtype=float32), array([], dtype=float32)), 2.0),\n",
       " ((array([], dtype=float32), array([], dtype=float32)), 3.0),\n",
       " ((array([], dtype=float32), array([], dtype=float32)), 2.0),\n",
       " ((array([], dtype=float32), array([], dtype=float32)), 2.5),\n",
       " ((array([], dtype=float32), array([], dtype=float32)), 1.67),\n",
       " ((array([], dtype=float32), array([], dtype=float32)), 3.0),\n",
       " ((array([], dtype=float32), array([], dtype=float32)), 3.0),\n",
       " ((array([], dtype=float32), array([], dtype=float32)), 3.5),\n",
       " ((array([], dtype=float32), array([], dtype=float32)), 2.0),\n",
       " ((array([], dtype=float32), array([], dtype=float32)), 1.75),\n",
       " ((array([], dtype=float32), array([], dtype=float32)), 2.25),\n",
       " ((array([], dtype=float32), array([], dtype=float32)), 3.5),\n",
       " ((array([], dtype=float32), array([], dtype=float32)), 1.75),\n",
       " ((array([], dtype=float32), array([], dtype=float32)), 3.33),\n",
       " ((array([], dtype=float32), array([], dtype=float32)), 3.0),\n",
       " ((array([], dtype=float32), array([], dtype=float32)), 2.25),\n",
       " ((array([], dtype=float32), array([], dtype=float32)), 3.0),\n",
       " ((array([], dtype=float32), array([], dtype=float32)), 2.67),\n",
       " ((array([], dtype=float32), array([], dtype=float32)), 2.25),\n",
       " ((array([], dtype=float32), array([], dtype=float32)), 3.0),\n",
       " ((array([], dtype=float32), array([], dtype=float32)), 2.0),\n",
       " ((array([], dtype=float32), array([], dtype=float32)), 3.0),\n",
       " ((array([], dtype=float32), array([], dtype=float32)), 5.0),\n",
       " ((array([], dtype=float32), array([], dtype=float32)), 3.5),\n",
       " ((array([], dtype=float32), array([], dtype=float32)), 2.25),\n",
       " ((array([], dtype=float32), array([], dtype=float32)), 2.25),\n",
       " ((array([], dtype=float32), array([], dtype=float32)), 3.25),\n",
       " ((array([], dtype=float32), array([], dtype=float32)), 2.5),\n",
       " ((array([], dtype=float32), array([], dtype=float32)), 1.25),\n",
       " ((array([], dtype=float32), array([], dtype=float32)), 1.67),\n",
       " ((array([], dtype=float32), array([], dtype=float32)), 3.25),\n",
       " ((array([], dtype=float32), array([], dtype=float32)), 3.0),\n",
       " ((array([], dtype=float32), array([], dtype=float32)), 3.0),\n",
       " ((array([], dtype=float32), array([], dtype=float32)), 1.5),\n",
       " ((array([], dtype=float32), array([], dtype=float32)), 3.25),\n",
       " ((array([], dtype=float32), array([], dtype=float32)), 1.0),\n",
       " ((array([], dtype=float32), array([], dtype=float32)), 3.0),\n",
       " ((array([], dtype=float32), array([], dtype=float32)), 1.5),\n",
       " ((array([], dtype=float32), array([], dtype=float32)), 1.5),\n",
       " ((array([], dtype=float32), array([], dtype=float32)), 2.5),\n",
       " ((array([], dtype=float32), array([], dtype=float32)), 3.0),\n",
       " ((array([], dtype=float32), array([], dtype=float32)), 4.67),\n",
       " ((array([], dtype=float32), array([], dtype=float32)), 2.75),\n",
       " ((array([], dtype=float32), array([], dtype=float32)), 3.0),\n",
       " ((array([], dtype=float32), array([], dtype=float32)), 1.75),\n",
       " ((array([], dtype=float32), array([], dtype=float32)), 3.25),\n",
       " ((array([], dtype=float32), array([], dtype=float32)), 1.25),\n",
       " ((array([], dtype=float32), array([], dtype=float32)), 2.5),\n",
       " ((array([], dtype=float32), array([], dtype=float32)), 2.25),\n",
       " ((array([], dtype=float32), array([], dtype=float32)), 2.5),\n",
       " ((array([], dtype=float32), array([], dtype=float32)), 2.25),\n",
       " ((array([], dtype=float32), array([], dtype=float32)), 3.0),\n",
       " ((array([], dtype=float32), array([], dtype=float32)), 2.67),\n",
       " ((array([], dtype=float32), array([], dtype=float32)), 2.0),\n",
       " ((array([], dtype=float32), array([], dtype=float32)), 2.0),\n",
       " ((array([], dtype=float32), array([], dtype=float32)), 1.5),\n",
       " ((array([], dtype=float32), array([], dtype=float32)), 1.25),\n",
       " ((array([], dtype=float32), array([], dtype=float32)), 2.67),\n",
       " ((array([], dtype=float32), array([], dtype=float32)), 3.0),\n",
       " ((array([], dtype=float32), array([], dtype=float32)), 3.0),\n",
       " ((array([], dtype=float32), array([], dtype=float32)), 1.33),\n",
       " ((array([], dtype=float32), array([], dtype=float32)), 3.25),\n",
       " ((array([], dtype=float32), array([], dtype=float32)), 2.25),\n",
       " ((array([], dtype=float32), array([], dtype=float32)), 2.25),\n",
       " ((array([], dtype=float32), array([], dtype=float32)), 2.25),\n",
       " ((array([], dtype=float32), array([], dtype=float32)), 3.0),\n",
       " ((array([], dtype=float32), array([], dtype=float32)), 3.0),\n",
       " ((array([], dtype=float32), array([], dtype=float32)), 3.25),\n",
       " ((array([], dtype=float32), array([], dtype=float32)), 1.25),\n",
       " ((array([], dtype=float32), array([], dtype=float32)), 1.75),\n",
       " ((array([], dtype=float32), array([], dtype=float32)), 3.25),\n",
       " ((array([], dtype=float32), array([], dtype=float32)), 1.75),\n",
       " ((array([], dtype=float32), array([], dtype=float32)), 1.75),\n",
       " ((array([], dtype=float32), array([], dtype=float32)), 2.0),\n",
       " ((array([], dtype=float32), array([], dtype=float32)), 3.5),\n",
       " ((array([], dtype=float32), array([], dtype=float32)), 3.0),\n",
       " ((array([], dtype=float32), array([], dtype=float32)), 2.0),\n",
       " ((array([], dtype=float32), array([], dtype=float32)), 2.25),\n",
       " ((array([], dtype=float32), array([], dtype=float32)), 3.0),\n",
       " ((array([], dtype=float32), array([], dtype=float32)), 1.5),\n",
       " ((array([], dtype=float32), array([], dtype=float32)), 2.75),\n",
       " ((array([], dtype=float32), array([], dtype=float32)), 2.0),\n",
       " ((array([], dtype=float32), array([], dtype=float32)), 2.0),\n",
       " ((array([], dtype=float32), array([], dtype=float32)), 2.0),\n",
       " ((array([], dtype=float32), array([], dtype=float32)), 2.75),\n",
       " ((array([], dtype=float32), array([], dtype=float32)), 3.0),\n",
       " ((array([], dtype=float32), array([], dtype=float32)), 2.5),\n",
       " ((array([], dtype=float32), array([], dtype=float32)), 1.75),\n",
       " ((array([], dtype=float32), array([], dtype=float32)), 4.25),\n",
       " ((array([], dtype=float32), array([], dtype=float32)), 2.5),\n",
       " ((array([], dtype=float32), array([], dtype=float32)), 3.0),\n",
       " ((array([], dtype=float32), array([], dtype=float32)), 3.25),\n",
       " ((array([], dtype=float32), array([], dtype=float32)), 3.5),\n",
       " ((array([], dtype=float32), array([], dtype=float32)), 3.0),\n",
       " ((array([], dtype=float32), array([], dtype=float32)), 1.0),\n",
       " ((array([], dtype=float32), array([], dtype=float32)), 2.25),\n",
       " ((array([], dtype=float32), array([], dtype=float32)), 3.0),\n",
       " ((array([], dtype=float32), array([], dtype=float32)), 2.0),\n",
       " ((array([], dtype=float32), array([], dtype=float32)), 3.0),\n",
       " ((array([], dtype=float32), array([], dtype=float32)), 2.67),\n",
       " ((array([], dtype=float32), array([], dtype=float32)), 2.0),\n",
       " ((array([], dtype=float32), array([], dtype=float32)), 2.5),\n",
       " ((array([], dtype=float32), array([], dtype=float32)), 1.25),\n",
       " ((array([], dtype=float32), array([], dtype=float32)), 2.25),\n",
       " ((array([], dtype=float32), array([], dtype=float32)), 3.0),\n",
       " ((array([], dtype=float32), array([], dtype=float32)), 2.0),\n",
       " ((array([], dtype=float32), array([], dtype=float32)), 0.33),\n",
       " ((array([], dtype=float32), array([], dtype=float32)), 2.0),\n",
       " ((array([], dtype=float32), array([], dtype=float32)), 3.33),\n",
       " ((array([], dtype=float32), array([], dtype=float32)), 1.5),\n",
       " ((array([], dtype=float32), array([], dtype=float32)), 2.0),\n",
       " ((array([], dtype=float32), array([], dtype=float32)), 2.0),\n",
       " ((array([], dtype=float32), array([], dtype=float32)), 2.0),\n",
       " ((array([], dtype=float32), array([], dtype=float32)), 1.5),\n",
       " ((array([], dtype=float32), array([], dtype=float32)), 3.25),\n",
       " ((array([], dtype=float32), array([], dtype=float32)), 3.0),\n",
       " ((array([], dtype=float32), array([], dtype=float32)), 3.0),\n",
       " ((array([], dtype=float32), array([], dtype=float32)), 3.0),\n",
       " ((array([], dtype=float32), array([], dtype=float32)), 2.25),\n",
       " ((array([], dtype=float32), array([], dtype=float32)), 3.0),\n",
       " ((array([], dtype=float32), array([], dtype=float32)), 2.75),\n",
       " ((array([], dtype=float32), array([], dtype=float32)), 3.0),\n",
       " ((array([], dtype=float32), array([], dtype=float32)), 2.25),\n",
       " ((array([], dtype=float32), array([], dtype=float32)), 1.75),\n",
       " ((array([], dtype=float32), array([], dtype=float32)), 2.75),\n",
       " ((array([], dtype=float32), array([], dtype=float32)), 3.0),\n",
       " ((array([], dtype=float32), array([], dtype=float32)), 1.0),\n",
       " ((array([], dtype=float32), array([], dtype=float32)), 3.25),\n",
       " ((array([], dtype=float32), array([], dtype=float32)), 4.67),\n",
       " ((array([], dtype=float32), array([], dtype=float32)), 4.0),\n",
       " ((array([], dtype=float32), array([], dtype=float32)), 2.75),\n",
       " ((array([], dtype=float32), array([], dtype=float32)), 3.25),\n",
       " ((array([], dtype=float32), array([], dtype=float32)), 0.0),\n",
       " ((array([], dtype=float32), array([], dtype=float32)), 3.75),\n",
       " ((array([], dtype=float32), array([], dtype=float32)), 2.25),\n",
       " ((array([], dtype=float32), array([], dtype=float32)), 2.5),\n",
       " ((array([], dtype=float32), array([], dtype=float32)), 3.33),\n",
       " ((array([], dtype=float32), array([], dtype=float32)), 4.5),\n",
       " ((array([], dtype=float32), array([], dtype=float32)), 3.0),\n",
       " ((array([], dtype=float32), array([], dtype=float32)), 3.67),\n",
       " ((array([], dtype=float32), array([], dtype=float32)), 1.33),\n",
       " ((array([], dtype=float32), array([], dtype=float32)), 4.25),\n",
       " ((array([], dtype=float32), array([], dtype=float32)), 1.5),\n",
       " ((array([], dtype=float32), array([], dtype=float32)), 1.75),\n",
       " ((array([], dtype=float32), array([], dtype=float32)), 1.75),\n",
       " ((array([], dtype=float32), array([], dtype=float32)), 2.25),\n",
       " ((array([], dtype=float32), array([], dtype=float32)), 4.75),\n",
       " ((array([], dtype=float32), array([], dtype=float32)), 3.0),\n",
       " ((array([], dtype=float32), array([], dtype=float32)), 2.75),\n",
       " ((array([], dtype=float32), array([], dtype=float32)), 3.0),\n",
       " ((array([], dtype=float32), array([], dtype=float32)), 2.75),\n",
       " ((array([], dtype=float32), array([], dtype=float32)), 1.5),\n",
       " ((array([], dtype=float32), array([], dtype=float32)), 4.67),\n",
       " ((array([], dtype=float32), array([], dtype=float32)), 2.0),\n",
       " ((array([], dtype=float32), array([], dtype=float32)), 3.5),\n",
       " ((array([], dtype=float32), array([], dtype=float32)), 3.0),\n",
       " ((array([], dtype=float32), array([], dtype=float32)), 2.25),\n",
       " ((array([], dtype=float32), array([], dtype=float32)), 3.0),\n",
       " ((array([], dtype=float32), array([], dtype=float32)), 2.5),\n",
       " ((array([], dtype=float32), array([], dtype=float32)), 1.5),\n",
       " ((array([], dtype=float32), array([], dtype=float32)), 1.5),\n",
       " ((array([], dtype=float32), array([], dtype=float32)), 2.0),\n",
       " ((array([], dtype=float32), array([], dtype=float32)), 2.75),\n",
       " ((array([], dtype=float32), array([], dtype=float32)), 4.25),\n",
       " ((array([], dtype=float32), array([], dtype=float32)), 3.25),\n",
       " ((array([], dtype=float32), array([], dtype=float32)), 3.0),\n",
       " ((array([], dtype=float32), array([], dtype=float32)), 3.0),\n",
       " ((array([], dtype=float32), array([], dtype=float32)), 2.75),\n",
       " ((array([], dtype=float32), array([], dtype=float32)), 2.75),\n",
       " ((array([], dtype=float32), array([], dtype=float32)), 2.5),\n",
       " ((array([], dtype=float32), array([], dtype=float32)), 4.0),\n",
       " ((array([], dtype=float32), array([], dtype=float32)), 3.0),\n",
       " ((array([], dtype=float32), array([], dtype=float32)), 2.0),\n",
       " ((array([], dtype=float32), array([], dtype=float32)), 3.0),\n",
       " ((array([], dtype=float32), array([], dtype=float32)), 3.25),\n",
       " ((array([], dtype=float32), array([], dtype=float32)), 1.5),\n",
       " ((array([], dtype=float32), array([], dtype=float32)), 2.25),\n",
       " ((array([], dtype=float32), array([], dtype=float32)), 3.5),\n",
       " ((array([], dtype=float32), array([], dtype=float32)), 1.25),\n",
       " ((array([], dtype=float32), array([], dtype=float32)), 2.0),\n",
       " ((array([], dtype=float32), array([], dtype=float32)), 1.75),\n",
       " ((array([], dtype=float32), array([], dtype=float32)), 2.75),\n",
       " ((array([], dtype=float32), array([], dtype=float32)), 2.0),\n",
       " ((array([], dtype=float32), array([], dtype=float32)), 2.0),\n",
       " ((array([], dtype=float32), array([], dtype=float32)), 4.0),\n",
       " ((array([], dtype=float32), array([], dtype=float32)), 2.75),\n",
       " ((array([], dtype=float32), array([], dtype=float32)), 2.75),\n",
       " ((array([], dtype=float32), array([], dtype=float32)), 2.33),\n",
       " ((array([], dtype=float32), array([], dtype=float32)), 1.75),\n",
       " ((array([], dtype=float32), array([], dtype=float32)), 1.75),\n",
       " ((array([], dtype=float32), array([], dtype=float32)), 2.75),\n",
       " ((array([], dtype=float32), array([], dtype=float32)), 2.25),\n",
       " ((array([], dtype=float32), array([], dtype=float32)), 2.0),\n",
       " ((array([], dtype=float32), array([], dtype=float32)), 2.75),\n",
       " ((array([], dtype=float32), array([], dtype=float32)), 2.25),\n",
       " ((array([], dtype=float32), array([], dtype=float32)), 3.5),\n",
       " ((array([], dtype=float32), array([], dtype=float32)), 2.5),\n",
       " ((array([], dtype=float32), array([], dtype=float32)), 3.0),\n",
       " ((array([], dtype=float32), array([], dtype=float32)), 2.75),\n",
       " ((array([], dtype=float32), array([], dtype=float32)), 1.5),\n",
       " ((array([], dtype=float32), array([], dtype=float32)), 1.33),\n",
       " ((array([], dtype=float32), array([], dtype=float32)), 2.25),\n",
       " ((array([], dtype=float32), array([], dtype=float32)), 3.0),\n",
       " ((array([], dtype=float32), array([], dtype=float32)), 3.0),\n",
       " ((array([], dtype=float32), array([], dtype=float32)), 2.25),\n",
       " ((array([], dtype=float32), array([], dtype=float32)), 1.75),\n",
       " ((array([], dtype=float32), array([], dtype=float32)), 2.75),\n",
       " ((array([], dtype=float32), array([], dtype=float32)), 3.0),\n",
       " ((array([], dtype=float32), array([], dtype=float32)), 5.0),\n",
       " ((array([], dtype=float32), array([], dtype=float32)), 2.0),\n",
       " ((array([], dtype=float32), array([], dtype=float32)), 2.75),\n",
       " ((array([], dtype=float32), array([], dtype=float32)), 2.75),\n",
       " ((array([], dtype=float32), array([], dtype=float32)), 2.75),\n",
       " ((array([], dtype=float32), array([], dtype=float32)), 1.75),\n",
       " ((array([], dtype=float32), array([], dtype=float32)), 2.75),\n",
       " ((array([], dtype=float32), array([], dtype=float32)), 2.67),\n",
       " ((array([], dtype=float32), array([], dtype=float32)), 3.0),\n",
       " ((array([], dtype=float32), array([], dtype=float32)), 1.67),\n",
       " ((array([], dtype=float32), array([], dtype=float32)), 2.5),\n",
       " ((array([], dtype=float32), array([], dtype=float32)), 3.25),\n",
       " ((array([], dtype=float32), array([], dtype=float32)), 3.0),\n",
       " ((array([], dtype=float32), array([], dtype=float32)), 4.0),\n",
       " ((array([], dtype=float32), array([], dtype=float32)), 3.75),\n",
       " ((array([], dtype=float32), array([], dtype=float32)), 3.25),\n",
       " ((array([], dtype=float32), array([], dtype=float32)), 4.0),\n",
       " ((array([], dtype=float32), array([], dtype=float32)), 3.75),\n",
       " ((array([], dtype=float32), array([], dtype=float32)), 3.5),\n",
       " ((array([], dtype=float32), array([], dtype=float32)), 2.0),\n",
       " ((array([], dtype=float32), array([], dtype=float32)), 2.33),\n",
       " ((array([], dtype=float32), array([], dtype=float32)), 2.0),\n",
       " ((array([], dtype=float32), array([], dtype=float32)), 1.5),\n",
       " ((array([], dtype=float32), array([], dtype=float32)), 4.0),\n",
       " ((array([], dtype=float32), array([], dtype=float32)), 2.75),\n",
       " ((array([], dtype=float32), array([], dtype=float32)), 4.75),\n",
       " ((array([], dtype=float32), array([], dtype=float32)), 2.25),\n",
       " ((array([], dtype=float32), array([], dtype=float32)), 3.0),\n",
       " ((array([], dtype=float32), array([], dtype=float32)), 3.5),\n",
       " ((array([], dtype=float32), array([], dtype=float32)), 3.25),\n",
       " ((array([], dtype=float32), array([], dtype=float32)), 3.0),\n",
       " ((array([], dtype=float32), array([], dtype=float32)), 3.0),\n",
       " ((array([], dtype=float32), array([], dtype=float32)), 2.25),\n",
       " ((array([], dtype=float32), array([], dtype=float32)), 1.5),\n",
       " ((array([], dtype=float32), array([], dtype=float32)), 1.67),\n",
       " ((array([], dtype=float32), array([], dtype=float32)), 1.33),\n",
       " ((array([], dtype=float32), array([], dtype=float32)), 3.0),\n",
       " ((array([], dtype=float32), array([], dtype=float32)), 2.0),\n",
       " ((array([], dtype=float32), array([], dtype=float32)), 1.0),\n",
       " ((array([], dtype=float32), array([], dtype=float32)), 1.0),\n",
       " ((array([], dtype=float32), array([], dtype=float32)), 3.25),\n",
       " ((array([], dtype=float32), array([], dtype=float32)), 2.5),\n",
       " ((array([], dtype=float32), array([], dtype=float32)), 3.0),\n",
       " ((array([], dtype=float32), array([], dtype=float32)), 0.75),\n",
       " ((array([], dtype=float32), array([], dtype=float32)), 5.0),\n",
       " ((array([], dtype=float32), array([], dtype=float32)), 3.67),\n",
       " ((array([], dtype=float32), array([], dtype=float32)), 2.0),\n",
       " ((array([], dtype=float32), array([], dtype=float32)), 2.67),\n",
       " ((array([], dtype=float32), array([], dtype=float32)), 3.0),\n",
       " ((array([], dtype=float32), array([], dtype=float32)), 2.0),\n",
       " ((array([], dtype=float32), array([], dtype=float32)), 2.25),\n",
       " ((array([], dtype=float32), array([], dtype=float32)), 3.0),\n",
       " ((array([], dtype=float32), array([], dtype=float32)), 2.25),\n",
       " ((array([], dtype=float32), array([], dtype=float32)), 3.0),\n",
       " ((array([], dtype=float32), array([], dtype=float32)), 2.75),\n",
       " ((array([], dtype=float32), array([], dtype=float32)), 2.67),\n",
       " ((array([], dtype=float32), array([], dtype=float32)), 1.0),\n",
       " ((array([], dtype=float32), array([], dtype=float32)), 4.25),\n",
       " ((array([], dtype=float32), array([], dtype=float32)), 3.5),\n",
       " ((array([], dtype=float32), array([], dtype=float32)), 3.0),\n",
       " ((array([], dtype=float32), array([], dtype=float32)), 2.0),\n",
       " ((array([], dtype=float32), array([], dtype=float32)), 2.67),\n",
       " ((array([], dtype=float32), array([], dtype=float32)), 3.0),\n",
       " ((array([], dtype=float32), array([], dtype=float32)), 3.75),\n",
       " ((array([], dtype=float32), array([], dtype=float32)), 1.5),\n",
       " ((array([], dtype=float32), array([], dtype=float32)), 2.75),\n",
       " ((array([], dtype=float32), array([], dtype=float32)), 3.0),\n",
       " ((array([], dtype=float32), array([], dtype=float32)), 1.5),\n",
       " ((array([], dtype=float32), array([], dtype=float32)), 2.75),\n",
       " ((array([], dtype=float32), array([], dtype=float32)), 3.0),\n",
       " ((array([], dtype=float32), array([], dtype=float32)), 3.25),\n",
       " ((array([], dtype=float32), array([], dtype=float32)), 2.75),\n",
       " ((array([], dtype=float32), array([], dtype=float32)), 2.0),\n",
       " ((array([], dtype=float32), array([], dtype=float32)), 3.5),\n",
       " ((array([], dtype=float32), array([], dtype=float32)), 2.0),\n",
       " ((array([], dtype=float32), array([], dtype=float32)), 3.0),\n",
       " ((array([], dtype=float32), array([], dtype=float32)), 3.25),\n",
       " ((array([], dtype=float32), array([], dtype=float32)), 2.25),\n",
       " ((array([], dtype=float32), array([], dtype=float32)), 2.25),\n",
       " ((array([], dtype=float32), array([], dtype=float32)), 3.0),\n",
       " ((array([], dtype=float32), array([], dtype=float32)), 2.67),\n",
       " ((array([], dtype=float32), array([], dtype=float32)), 2.25),\n",
       " ((array([], dtype=float32), array([], dtype=float32)), 2.75),\n",
       " ((array([], dtype=float32), array([], dtype=float32)), 2.5),\n",
       " ((array([], dtype=float32), array([], dtype=float32)), 2.5),\n",
       " ((array([], dtype=float32), array([], dtype=float32)), 3.67),\n",
       " ((array([], dtype=float32), array([], dtype=float32)), 2.75),\n",
       " ((array([], dtype=float32), array([], dtype=float32)), 3.0),\n",
       " ((array([], dtype=float32), array([], dtype=float32)), 2.5),\n",
       " ((array([], dtype=float32), array([], dtype=float32)), 3.5),\n",
       " ((array([], dtype=float32), array([], dtype=float32)), 2.0),\n",
       " ((array([], dtype=float32), array([], dtype=float32)), 2.67),\n",
       " ((array([], dtype=float32), array([], dtype=float32)), 1.5),\n",
       " ((array([], dtype=float32), array([], dtype=float32)), 2.0),\n",
       " ((array([], dtype=float32), array([], dtype=float32)), 3.0),\n",
       " ((array([], dtype=float32), array([], dtype=float32)), 3.0),\n",
       " ((array([], dtype=float32), array([], dtype=float32)), 5.0),\n",
       " ((array([], dtype=float32), array([], dtype=float32)), 1.33),\n",
       " ((array([], dtype=float32), array([], dtype=float32)), 3.0),\n",
       " ((array([], dtype=float32), array([], dtype=float32)), 2.75),\n",
       " ((array([], dtype=float32), array([], dtype=float32)), 2.0),\n",
       " ((array([], dtype=float32), array([], dtype=float32)), 1.67),\n",
       " ((array([], dtype=float32), array([], dtype=float32)), 2.67),\n",
       " ((array([], dtype=float32), array([], dtype=float32)), 1.0),\n",
       " ((array([], dtype=float32), array([], dtype=float32)), 1.5),\n",
       " ((array([], dtype=float32), array([], dtype=float32)), 3.0),\n",
       " ((array([], dtype=float32), array([], dtype=float32)), 1.5),\n",
       " ((array([], dtype=float32), array([], dtype=float32)), 2.75),\n",
       " ((array([], dtype=float32), array([], dtype=float32)), 3.5),\n",
       " ((array([], dtype=float32), array([], dtype=float32)), 3.0),\n",
       " ((array([], dtype=float32), array([], dtype=float32)), 2.75),\n",
       " ((array([], dtype=float32), array([], dtype=float32)), 3.0),\n",
       " ((array([], dtype=float32), array([], dtype=float32)), 3.75),\n",
       " ((array([], dtype=float32), array([], dtype=float32)), 2.75),\n",
       " ((array([], dtype=float32), array([], dtype=float32)), 3.0),\n",
       " ((array([], dtype=float32), array([], dtype=float32)), 3.0),\n",
       " ((array([], dtype=float32), array([], dtype=float32)), 2.67),\n",
       " ((array([], dtype=float32), array([], dtype=float32)), 2.5),\n",
       " ((array([], dtype=float32), array([], dtype=float32)), 2.5),\n",
       " ((array([], dtype=float32), array([], dtype=float32)), 1.75),\n",
       " ((array([], dtype=float32), array([], dtype=float32)), 2.0),\n",
       " ((array([], dtype=float32), array([], dtype=float32)), 1.33),\n",
       " ((array([], dtype=float32), array([], dtype=float32)), 2.5),\n",
       " ((array([], dtype=float32), array([], dtype=float32)), 2.75),\n",
       " ((array([], dtype=float32), array([], dtype=float32)), 4.0),\n",
       " ((array([], dtype=float32), array([], dtype=float32)), 2.25),\n",
       " ((array([], dtype=float32), array([], dtype=float32)), 2.0),\n",
       " ((array([], dtype=float32), array([], dtype=float32)), 2.0),\n",
       " ((array([], dtype=float32), array([], dtype=float32)), 2.25),\n",
       " ((array([], dtype=float32), array([], dtype=float32)), 1.75),\n",
       " ((array([], dtype=float32), array([], dtype=float32)), 1.75),\n",
       " ((array([], dtype=float32), array([], dtype=float32)), 2.75),\n",
       " ((array([], dtype=float32), array([], dtype=float32)), 3.25),\n",
       " ((array([], dtype=float32), array([], dtype=float32)), 1.25),\n",
       " ((array([], dtype=float32), array([], dtype=float32)), 3.0),\n",
       " ((array([], dtype=float32), array([], dtype=float32)), 2.5),\n",
       " ((array([], dtype=float32), array([], dtype=float32)), 1.5),\n",
       " ((array([], dtype=float32), array([], dtype=float32)), 1.0),\n",
       " ((array([], dtype=float32), array([], dtype=float32)), 2.0),\n",
       " ((array([], dtype=float32), array([], dtype=float32)), 2.5),\n",
       " ((array([], dtype=float32), array([], dtype=float32)), 3.75),\n",
       " ((array([], dtype=float32), array([], dtype=float32)), 3.5),\n",
       " ((array([], dtype=float32), array([], dtype=float32)), 2.67),\n",
       " ((array([], dtype=float32), array([], dtype=float32)), 2.0),\n",
       " ((array([], dtype=float32), array([], dtype=float32)), 3.25),\n",
       " ((array([], dtype=float32), array([], dtype=float32)), 1.5),\n",
       " ((array([], dtype=float32), array([], dtype=float32)), 1.5),\n",
       " ((array([], dtype=float32), array([], dtype=float32)), 2.5),\n",
       " ((array([], dtype=float32), array([], dtype=float32)), 2.75),\n",
       " ((array([], dtype=float32), array([], dtype=float32)), 3.25),\n",
       " ((array([], dtype=float32), array([], dtype=float32)), 1.67),\n",
       " ((array([], dtype=float32), array([], dtype=float32)), 1.75),\n",
       " ((array([], dtype=float32), array([], dtype=float32)), 4.0),\n",
       " ((array([], dtype=float32), array([], dtype=float32)), 3.0),\n",
       " ((array([], dtype=float32), array([], dtype=float32)), 3.0),\n",
       " ((array([], dtype=float32), array([], dtype=float32)), 3.0),\n",
       " ((array([], dtype=float32), array([], dtype=float32)), 3.0),\n",
       " ((array([], dtype=float32), array([], dtype=float32)), 3.25),\n",
       " ((array([], dtype=float32), array([], dtype=float32)), 1.25),\n",
       " ((array([], dtype=float32), array([], dtype=float32)), 2.75),\n",
       " ((array([], dtype=float32), array([], dtype=float32)), 4.67),\n",
       " ((array([], dtype=float32), array([], dtype=float32)), 2.75),\n",
       " ((array([], dtype=float32), array([], dtype=float32)), 3.5),\n",
       " ((array([], dtype=float32), array([], dtype=float32)), 1.25),\n",
       " ((array([], dtype=float32), array([], dtype=float32)), 1.75),\n",
       " ((array([], dtype=float32), array([], dtype=float32)), 2.67),\n",
       " ((array([], dtype=float32), array([], dtype=float32)), 2.75),\n",
       " ((array([], dtype=float32), array([], dtype=float32)), 2.67),\n",
       " ((array([], dtype=float32), array([], dtype=float32)), 2.75),\n",
       " ((array([], dtype=float32), array([], dtype=float32)), 2.67),\n",
       " ((array([], dtype=float32), array([], dtype=float32)), 2.67),\n",
       " ((array([], dtype=float32), array([], dtype=float32)), 0.75),\n",
       " ((array([], dtype=float32), array([], dtype=float32)), 2.5),\n",
       " ((array([], dtype=float32), array([], dtype=float32)), 2.25),\n",
       " ((array([], dtype=float32), array([], dtype=float32)), 1.33),\n",
       " ((array([], dtype=float32), array([], dtype=float32)), 2.75),\n",
       " ((array([], dtype=float32), array([], dtype=float32)), 1.75),\n",
       " ((array([], dtype=float32), array([], dtype=float32)), 3.0),\n",
       " ((array([], dtype=float32), array([], dtype=float32)), 2.0),\n",
       " ((array([], dtype=float32), array([], dtype=float32)), 3.25),\n",
       " ((array([], dtype=float32), array([], dtype=float32)), 3.25),\n",
       " ((array([], dtype=float32), array([], dtype=float32)), 2.67),\n",
       " ((array([], dtype=float32), array([], dtype=float32)), 3.0),\n",
       " ((array([], dtype=float32), array([], dtype=float32)), 2.5),\n",
       " ((array([], dtype=float32), array([], dtype=float32)), 2.75),\n",
       " ((array([], dtype=float32), array([], dtype=float32)), 1.33),\n",
       " ((array([], dtype=float32), array([], dtype=float32)), 3.0),\n",
       " ((array([], dtype=float32), array([], dtype=float32)), 2.75),\n",
       " ((array([], dtype=float32), array([], dtype=float32)), 3.25),\n",
       " ((array([], dtype=float32), array([], dtype=float32)), 3.5),\n",
       " ((array([], dtype=float32), array([], dtype=float32)), 3.0),\n",
       " ((array([], dtype=float32), array([], dtype=float32)), 2.75),\n",
       " ((array([], dtype=float32), array([], dtype=float32)), 3.0),\n",
       " ((array([], dtype=float32), array([], dtype=float32)), 3.0),\n",
       " ((array([], dtype=float32), array([], dtype=float32)), 3.0),\n",
       " ((array([], dtype=float32), array([], dtype=float32)), 3.0),\n",
       " ((array([], dtype=float32), array([], dtype=float32)), 2.0),\n",
       " ((array([], dtype=float32), array([], dtype=float32)), 2.25),\n",
       " ((array([], dtype=float32), array([], dtype=float32)), 2.0),\n",
       " ((array([], dtype=float32), array([], dtype=float32)), 3.0),\n",
       " ((array([], dtype=float32), array([], dtype=float32)), 2.5),\n",
       " ((array([], dtype=float32), array([], dtype=float32)), 3.25),\n",
       " ((array([], dtype=float32), array([], dtype=float32)), 3.0),\n",
       " ((array([], dtype=float32), array([], dtype=float32)), 3.0),\n",
       " ((array([], dtype=float32), array([], dtype=float32)), 3.5),\n",
       " ((array([], dtype=float32), array([], dtype=float32)), 1.67),\n",
       " ((array([], dtype=float32), array([], dtype=float32)), 3.75),\n",
       " ((array([], dtype=float32), array([], dtype=float32)), 3.25),\n",
       " ((array([], dtype=float32), array([], dtype=float32)), 2.0),\n",
       " ((array([], dtype=float32), array([], dtype=float32)), 2.25),\n",
       " ((array([], dtype=float32), array([], dtype=float32)), 2.75),\n",
       " ((array([], dtype=float32), array([], dtype=float32)), 2.25),\n",
       " ((array([], dtype=float32), array([], dtype=float32)), 1.33),\n",
       " ((array([], dtype=float32), array([], dtype=float32)), 3.25),\n",
       " ((array([], dtype=float32), array([], dtype=float32)), 2.0),\n",
       " ((array([], dtype=float32), array([], dtype=float32)), 2.0),\n",
       " ((array([], dtype=float32), array([], dtype=float32)), 2.25),\n",
       " ((array([], dtype=float32), array([], dtype=float32)), 3.0),\n",
       " ((array([], dtype=float32), array([], dtype=float32)), 2.0),\n",
       " ((array([], dtype=float32), array([], dtype=float32)), 2.67),\n",
       " ((array([], dtype=float32), array([], dtype=float32)), 3.0),\n",
       " ...]"
      ]
     },
     "execution_count": 160,
     "metadata": {},
     "output_type": "execute_result"
    }
   ],
   "source": [
    "mapped_train_roberta"
   ]
  },
  {
   "cell_type": "code",
   "execution_count": 158,
   "metadata": {},
   "outputs": [],
   "source": [
    "# Preparar los conjuntos de datos de entrenamiento y validación\n",
    "train_dataset_roberta = tf.data.Dataset.from_tensor_slices((x_train_roberta, y_train_roberta))\n",
    "train_dataset_roberta = train_dataset_roberta.shuffle(buffer_size=len(x_train_roberta)).batch(batch_size)\n",
    "\n",
    "val_dataset_roberta = tf.data.Dataset.from_tensor_slices((x_val_roberta, y_val_roberta))\n",
    "val_dataset_roberta = val_dataset_roberta.batch(batch_size)"
   ]
  },
  {
   "cell_type": "code",
   "execution_count": 153,
   "metadata": {},
   "outputs": [
    {
     "data": {
      "text/plain": [
       "((2073, 0), (2073, 0), (2073,))"
      ]
     },
     "execution_count": 153,
     "metadata": {},
     "output_type": "execute_result"
    }
   ],
   "source": [
    "# Show shapes\n",
    "x_train_roberta[0].shape, x_train_roberta[1].shape, y_train_roberta.shape"
   ]
  },
  {
   "cell_type": "code",
   "execution_count": 154,
   "metadata": {},
   "outputs": [
    {
     "data": {
      "text/html": [
       "<pre style=\"white-space:pre;overflow-x:auto;line-height:normal;font-family:Menlo,'DejaVu Sans Mono',consolas,'Courier New',monospace\"><span style=\"font-weight: bold\">Model: \"functional_21\"</span>\n",
       "</pre>\n"
      ],
      "text/plain": [
       "\u001b[1mModel: \"functional_21\"\u001b[0m\n"
      ]
     },
     "metadata": {},
     "output_type": "display_data"
    },
    {
     "data": {
      "text/html": [
       "<pre style=\"white-space:pre;overflow-x:auto;line-height:normal;font-family:Menlo,'DejaVu Sans Mono',consolas,'Courier New',monospace\">┏━━━━━━━━━━━━━━━━━━━━━┳━━━━━━━━━━━━━━━━━━━┳━━━━━━━━━━━━┳━━━━━━━━━━━━━━━━━━━┓\n",
       "┃<span style=\"font-weight: bold\"> Layer (type)        </span>┃<span style=\"font-weight: bold\"> Output Shape      </span>┃<span style=\"font-weight: bold\">    Param # </span>┃<span style=\"font-weight: bold\"> Connected to      </span>┃\n",
       "┡━━━━━━━━━━━━━━━━━━━━━╇━━━━━━━━━━━━━━━━━━━╇━━━━━━━━━━━━╇━━━━━━━━━━━━━━━━━━━┩\n",
       "│ input_layer_20      │ (<span style=\"color: #00d7ff; text-decoration-color: #00d7ff\">None</span>, <span style=\"color: #00af00; text-decoration-color: #00af00\">300</span>)       │          <span style=\"color: #00af00; text-decoration-color: #00af00\">0</span> │ -                 │\n",
       "│ (<span style=\"color: #0087ff; text-decoration-color: #0087ff\">InputLayer</span>)        │                   │            │                   │\n",
       "├─────────────────────┼───────────────────┼────────────┼───────────────────┤\n",
       "│ input_layer_21      │ (<span style=\"color: #00d7ff; text-decoration-color: #00d7ff\">None</span>, <span style=\"color: #00af00; text-decoration-color: #00af00\">300</span>)       │          <span style=\"color: #00af00; text-decoration-color: #00af00\">0</span> │ -                 │\n",
       "│ (<span style=\"color: #0087ff; text-decoration-color: #0087ff\">InputLayer</span>)        │                   │            │                   │\n",
       "├─────────────────────┼───────────────────┼────────────┼───────────────────┤\n",
       "│ dense_10 (<span style=\"color: #0087ff; text-decoration-color: #0087ff\">Dense</span>)    │ (<span style=\"color: #00d7ff; text-decoration-color: #00d7ff\">None</span>, <span style=\"color: #00af00; text-decoration-color: #00af00\">300</span>)       │     <span style=\"color: #00af00; text-decoration-color: #00af00\">90,300</span> │ input_layer_20[<span style=\"color: #00af00; text-decoration-color: #00af00\">0</span>… │\n",
       "│                     │                   │            │ input_layer_21[<span style=\"color: #00af00; text-decoration-color: #00af00\">0</span>… │\n",
       "├─────────────────────┼───────────────────┼────────────┼───────────────────┤\n",
       "│ lambda_10 (<span style=\"color: #0087ff; text-decoration-color: #0087ff\">Lambda</span>)  │ (<span style=\"color: #00d7ff; text-decoration-color: #00d7ff\">None</span>)            │          <span style=\"color: #00af00; text-decoration-color: #00af00\">0</span> │ dense_10[<span style=\"color: #00af00; text-decoration-color: #00af00\">0</span>][<span style=\"color: #00af00; text-decoration-color: #00af00\">0</span>],   │\n",
       "│                     │                   │            │ dense_10[<span style=\"color: #00af00; text-decoration-color: #00af00\">1</span>][<span style=\"color: #00af00; text-decoration-color: #00af00\">0</span>]    │\n",
       "└─────────────────────┴───────────────────┴────────────┴───────────────────┘\n",
       "</pre>\n"
      ],
      "text/plain": [
       "┏━━━━━━━━━━━━━━━━━━━━━┳━━━━━━━━━━━━━━━━━━━┳━━━━━━━━━━━━┳━━━━━━━━━━━━━━━━━━━┓\n",
       "┃\u001b[1m \u001b[0m\u001b[1mLayer (type)       \u001b[0m\u001b[1m \u001b[0m┃\u001b[1m \u001b[0m\u001b[1mOutput Shape     \u001b[0m\u001b[1m \u001b[0m┃\u001b[1m \u001b[0m\u001b[1m   Param #\u001b[0m\u001b[1m \u001b[0m┃\u001b[1m \u001b[0m\u001b[1mConnected to     \u001b[0m\u001b[1m \u001b[0m┃\n",
       "┡━━━━━━━━━━━━━━━━━━━━━╇━━━━━━━━━━━━━━━━━━━╇━━━━━━━━━━━━╇━━━━━━━━━━━━━━━━━━━┩\n",
       "│ input_layer_20      │ (\u001b[38;5;45mNone\u001b[0m, \u001b[38;5;34m300\u001b[0m)       │          \u001b[38;5;34m0\u001b[0m │ -                 │\n",
       "│ (\u001b[38;5;33mInputLayer\u001b[0m)        │                   │            │                   │\n",
       "├─────────────────────┼───────────────────┼────────────┼───────────────────┤\n",
       "│ input_layer_21      │ (\u001b[38;5;45mNone\u001b[0m, \u001b[38;5;34m300\u001b[0m)       │          \u001b[38;5;34m0\u001b[0m │ -                 │\n",
       "│ (\u001b[38;5;33mInputLayer\u001b[0m)        │                   │            │                   │\n",
       "├─────────────────────┼───────────────────┼────────────┼───────────────────┤\n",
       "│ dense_10 (\u001b[38;5;33mDense\u001b[0m)    │ (\u001b[38;5;45mNone\u001b[0m, \u001b[38;5;34m300\u001b[0m)       │     \u001b[38;5;34m90,300\u001b[0m │ input_layer_20[\u001b[38;5;34m0\u001b[0m… │\n",
       "│                     │                   │            │ input_layer_21[\u001b[38;5;34m0\u001b[0m… │\n",
       "├─────────────────────┼───────────────────┼────────────┼───────────────────┤\n",
       "│ lambda_10 (\u001b[38;5;33mLambda\u001b[0m)  │ (\u001b[38;5;45mNone\u001b[0m)            │          \u001b[38;5;34m0\u001b[0m │ dense_10[\u001b[38;5;34m0\u001b[0m][\u001b[38;5;34m0\u001b[0m],   │\n",
       "│                     │                   │            │ dense_10[\u001b[38;5;34m1\u001b[0m][\u001b[38;5;34m0\u001b[0m]    │\n",
       "└─────────────────────┴───────────────────┴────────────┴───────────────────┘\n"
      ]
     },
     "metadata": {},
     "output_type": "display_data"
    },
    {
     "data": {
      "text/html": [
       "<pre style=\"white-space:pre;overflow-x:auto;line-height:normal;font-family:Menlo,'DejaVu Sans Mono',consolas,'Courier New',monospace\"><span style=\"font-weight: bold\"> Total params: </span><span style=\"color: #00af00; text-decoration-color: #00af00\">90,300</span> (352.73 KB)\n",
       "</pre>\n"
      ],
      "text/plain": [
       "\u001b[1m Total params: \u001b[0m\u001b[38;5;34m90,300\u001b[0m (352.73 KB)\n"
      ]
     },
     "metadata": {},
     "output_type": "display_data"
    },
    {
     "data": {
      "text/html": [
       "<pre style=\"white-space:pre;overflow-x:auto;line-height:normal;font-family:Menlo,'DejaVu Sans Mono',consolas,'Courier New',monospace\"><span style=\"font-weight: bold\"> Trainable params: </span><span style=\"color: #00af00; text-decoration-color: #00af00\">90,300</span> (352.73 KB)\n",
       "</pre>\n"
      ],
      "text/plain": [
       "\u001b[1m Trainable params: \u001b[0m\u001b[38;5;34m90,300\u001b[0m (352.73 KB)\n"
      ]
     },
     "metadata": {},
     "output_type": "display_data"
    },
    {
     "data": {
      "text/html": [
       "<pre style=\"white-space:pre;overflow-x:auto;line-height:normal;font-family:Menlo,'DejaVu Sans Mono',consolas,'Courier New',monospace\"><span style=\"font-weight: bold\"> Non-trainable params: </span><span style=\"color: #00af00; text-decoration-color: #00af00\">0</span> (0.00 B)\n",
       "</pre>\n"
      ],
      "text/plain": [
       "\u001b[1m Non-trainable params: \u001b[0m\u001b[38;5;34m0\u001b[0m (0.00 B)\n"
      ]
     },
     "metadata": {},
     "output_type": "display_data"
    },
    {
     "name": "stdout",
     "output_type": "stream",
     "text": [
      "None\n"
     ]
    }
   ],
   "source": [
    "# Construir y compilar el modelo\n",
    "model_roberta = build_and_compile_model()\n",
    "#tf.keras.utils.plot_model(model, show_shapes=True, show_layer_activations=True, )\n",
    "print(model_roberta.summary())"
   ]
  },
  {
   "cell_type": "code",
   "execution_count": 156,
   "metadata": {},
   "outputs": [
    {
     "name": "stdout",
     "output_type": "stream",
     "text": [
      "Epoch 1/64\n"
     ]
    },
    {
     "ename": "ValueError",
     "evalue": "Input 0 of layer \"functional_21\" is incompatible with the layer: expected shape=(None, 300), found shape=(None, 0)",
     "output_type": "error",
     "traceback": [
      "\u001b[1;31m---------------------------------------------------------------------------\u001b[0m",
      "\u001b[1;31mValueError\u001b[0m                                Traceback (most recent call last)",
      "Cell \u001b[1;32mIn[156], line 2\u001b[0m\n\u001b[0;32m      1\u001b[0m \u001b[38;5;66;03m# Train the model\u001b[39;00m\n\u001b[1;32m----> 2\u001b[0m \u001b[43mmodel_roberta\u001b[49m\u001b[38;5;241;43m.\u001b[39;49m\u001b[43mfit\u001b[49m\u001b[43m(\u001b[49m\u001b[43mtrain_dataset_roberta\u001b[49m\u001b[43m,\u001b[49m\u001b[43m \u001b[49m\u001b[43mepochs\u001b[49m\u001b[38;5;241;43m=\u001b[39;49m\u001b[43mnum_epochs\u001b[49m\u001b[43m,\u001b[49m\u001b[43m \u001b[49m\u001b[43mvalidation_data\u001b[49m\u001b[38;5;241;43m=\u001b[39;49m\u001b[43mval_dataset_roberta\u001b[49m\u001b[43m)\u001b[49m\n",
      "File \u001b[1;32md:\\GitHub\\PLH4---Embeddings\\.venv\\Lib\\site-packages\\keras\\src\\utils\\traceback_utils.py:122\u001b[0m, in \u001b[0;36mfilter_traceback.<locals>.error_handler\u001b[1;34m(*args, **kwargs)\u001b[0m\n\u001b[0;32m    119\u001b[0m     filtered_tb \u001b[38;5;241m=\u001b[39m _process_traceback_frames(e\u001b[38;5;241m.\u001b[39m__traceback__)\n\u001b[0;32m    120\u001b[0m     \u001b[38;5;66;03m# To get the full stack trace, call:\u001b[39;00m\n\u001b[0;32m    121\u001b[0m     \u001b[38;5;66;03m# `keras.config.disable_traceback_filtering()`\u001b[39;00m\n\u001b[1;32m--> 122\u001b[0m     \u001b[38;5;28;01mraise\u001b[39;00m e\u001b[38;5;241m.\u001b[39mwith_traceback(filtered_tb) \u001b[38;5;28;01mfrom\u001b[39;00m \u001b[38;5;28;01mNone\u001b[39;00m\n\u001b[0;32m    123\u001b[0m \u001b[38;5;28;01mfinally\u001b[39;00m:\n\u001b[0;32m    124\u001b[0m     \u001b[38;5;28;01mdel\u001b[39;00m filtered_tb\n",
      "File \u001b[1;32md:\\GitHub\\PLH4---Embeddings\\.venv\\Lib\\site-packages\\keras\\src\\layers\\input_spec.py:245\u001b[0m, in \u001b[0;36massert_input_compatibility\u001b[1;34m(input_spec, inputs, layer_name)\u001b[0m\n\u001b[0;32m    243\u001b[0m \u001b[38;5;28;01mif\u001b[39;00m spec_dim \u001b[38;5;129;01mis\u001b[39;00m \u001b[38;5;129;01mnot\u001b[39;00m \u001b[38;5;28;01mNone\u001b[39;00m \u001b[38;5;129;01mand\u001b[39;00m dim \u001b[38;5;129;01mis\u001b[39;00m \u001b[38;5;129;01mnot\u001b[39;00m \u001b[38;5;28;01mNone\u001b[39;00m:\n\u001b[0;32m    244\u001b[0m     \u001b[38;5;28;01mif\u001b[39;00m spec_dim \u001b[38;5;241m!=\u001b[39m dim:\n\u001b[1;32m--> 245\u001b[0m         \u001b[38;5;28;01mraise\u001b[39;00m \u001b[38;5;167;01mValueError\u001b[39;00m(\n\u001b[0;32m    246\u001b[0m             \u001b[38;5;124mf\u001b[39m\u001b[38;5;124m'\u001b[39m\u001b[38;5;124mInput \u001b[39m\u001b[38;5;132;01m{\u001b[39;00minput_index\u001b[38;5;132;01m}\u001b[39;00m\u001b[38;5;124m of layer \u001b[39m\u001b[38;5;124m\"\u001b[39m\u001b[38;5;132;01m{\u001b[39;00mlayer_name\u001b[38;5;132;01m}\u001b[39;00m\u001b[38;5;124m\"\u001b[39m\u001b[38;5;124m is \u001b[39m\u001b[38;5;124m'\u001b[39m\n\u001b[0;32m    247\u001b[0m             \u001b[38;5;124m\"\u001b[39m\u001b[38;5;124mincompatible with the layer: \u001b[39m\u001b[38;5;124m\"\u001b[39m\n\u001b[0;32m    248\u001b[0m             \u001b[38;5;124mf\u001b[39m\u001b[38;5;124m\"\u001b[39m\u001b[38;5;124mexpected shape=\u001b[39m\u001b[38;5;132;01m{\u001b[39;00mspec\u001b[38;5;241m.\u001b[39mshape\u001b[38;5;132;01m}\u001b[39;00m\u001b[38;5;124m, \u001b[39m\u001b[38;5;124m\"\u001b[39m\n\u001b[0;32m    249\u001b[0m             \u001b[38;5;124mf\u001b[39m\u001b[38;5;124m\"\u001b[39m\u001b[38;5;124mfound shape=\u001b[39m\u001b[38;5;132;01m{\u001b[39;00mshape\u001b[38;5;132;01m}\u001b[39;00m\u001b[38;5;124m\"\u001b[39m\n\u001b[0;32m    250\u001b[0m         )\n",
      "\u001b[1;31mValueError\u001b[0m: Input 0 of layer \"functional_21\" is incompatible with the layer: expected shape=(None, 300), found shape=(None, 0)"
     ]
    }
   ],
   "source": [
    "# Train the model\n",
    "model_roberta.fit(train_dataset_roberta, epochs=num_epochs, validation_data=val_dataset_roberta)"
   ]
  },
  {
   "cell_type": "code",
   "execution_count": null,
   "metadata": {},
   "outputs": [],
   "source": [
    "#El model al test\n",
    "x_test_roberta, y_test_roberta = pair_list_to_x_y(mapped_test_roberta)"
   ]
  },
  {
   "cell_type": "code",
   "execution_count": null,
   "metadata": {},
   "outputs": [],
   "source": [
    "# Imprimir el coeficiente de correlación de Pearson\n",
    "print(f\"Correlación de Pearson (baseline-train): {compute_pearson_baseline(x_train_roberta, y_train_roberta)}\")\n",
    "print(f\"Correlación de Pearson (baseline-validation): {compute_pearson_baseline(x_val_roberta, y_val_roberta)}\")\n",
    "print(f\"Correlación de Pearson (baseline-test): {compute_pearson_baseline(x_test_roberta, y_test_roberta)}\")\n",
    "print('\\n')\n",
    "# Imprimir el coeficiente de correlación de Pearson\n",
    "print(f\"Correlación de Pearson (train): {compute_pearson(x_train_roberta, y_train_roberta, model_roberta)}\")\n",
    "print(f\"Correlación de Pearson (validation): {compute_pearson(x_val_roberta, y_val_roberta, model_roberta)}\")\n",
    "print(f\"Correlación de Pearson (test): {compute_pearson(x_test_roberta, y_test_roberta, model_roberta)}\")"
   ]
  },
  {
   "cell_type": "markdown",
   "metadata": {},
   "source": [
    "#### 4.2. RoBERTa Mean"
   ]
  },
  {
   "cell_type": "code",
   "execution_count": null,
   "metadata": {},
   "outputs": [],
   "source": [
    "def map_roberta_means(sentence: str, nlp=nlp_roberta) -> np.ndarray:\n",
    "    '''\n",
    "    Mapea una oración a un vector utilizando un modelo de Spacy\n",
    "    :param sentence: la oración a mapear\n",
    "    :param nlp: el modelo de Spacy\n",
    "    :return: el vector de la oración\n",
    "    '''\n",
    "    doc = nlp(sentence)\n",
    "    vector = np.mean(doc._.trf_data.last_hidden_layer_state.data[:-1], axis=0)\n",
    "    return vector"
   ]
  },
  {
   "cell_type": "code",
   "execution_count": null,
   "metadata": {},
   "outputs": [],
   "source": [
    "mapped_roberta_mean = map_pairs(input_pairs, model='ROBERTA_MEAN', dictionary=diccionario, )\n",
    "\n",
    "mapped_train_roberta_mean = map_pairs(train,  model='ROBERTA_MEAN', dictionary=diccionario, )\n",
    "mapped_val_roberta_mean = map_pairs(validation, model='ROBERTA_MEAN', dictionary=diccionario, )\n",
    "mapped_test_roberta_mean = map_pairs(test, model='ROBERTA_MEAN', dictionary=diccionario, )"
   ]
  },
  {
   "cell_type": "code",
   "execution_count": null,
   "metadata": {},
   "outputs": [],
   "source": [
    "for vectors, similitud in mapped_roberta_mean[:5]:\n",
    "    print(f\"Pares de vectores: {vectors[0].shape}, {vectors[1].shape}\")\n",
    "    print(f\"Puntuación de similitud: {similitud}\")"
   ]
  },
  {
   "cell_type": "code",
   "execution_count": null,
   "metadata": {},
   "outputs": [],
   "source": [
    "# Obtener las listas de train y test\n",
    "x_train_roberta_mean, y_train_roberta_mean = pair_list_to_x_y(mapped_train_roberta_mean)\n",
    "x_val_roberta_mean, y_val_roberta_mean = pair_list_to_x_y(mapped_val_roberta_mean)"
   ]
  },
  {
   "cell_type": "code",
   "execution_count": null,
   "metadata": {},
   "outputs": [],
   "source": [
    "# Preparar los conjuntos de datos de entrenamiento y validación\n",
    "train_dataset_roberta_mean = tf.data.Dataset.from_tensor_slices((x_train_roberta_mean, y_train_roberta_mean))\n",
    "train_dataset_roberta_mean = train_dataset_roberta_mean.shuffle(buffer_size=len(x_train_roberta_mean)).batch(batch_size)\n",
    "\n",
    "val_dataset_roberta_mean = tf.data.Dataset.from_tensor_slices((x_val_roberta_mean, y_val_roberta_mean))\n",
    "val_dataset_roberta_mean = val_dataset_roberta_mean.batch(batch_size)"
   ]
  },
  {
   "cell_type": "code",
   "execution_count": null,
   "metadata": {},
   "outputs": [],
   "source": [
    "# Show shapes\n",
    "x_train_roberta_mean[0].shape, x_train_roberta_mean[1].shape, y_train_roberta_mean.shape"
   ]
  },
  {
   "cell_type": "code",
   "execution_count": null,
   "metadata": {},
   "outputs": [],
   "source": [
    "# Construir y compilar el modelo\n",
    "model_roberta_mean = build_and_compile_model()\n",
    "\n",
    "print(model_roberta_mean.summary())"
   ]
  },
  {
   "cell_type": "code",
   "execution_count": null,
   "metadata": {},
   "outputs": [],
   "source": [
    "# Train the model\n",
    "model_roberta_mean.fit(train_dataset_roberta_mean, epochs=num_epochs, validation_data=val_dataset_roberta_mean)"
   ]
  },
  {
   "cell_type": "code",
   "execution_count": null,
   "metadata": {},
   "outputs": [],
   "source": [
    "#El model al test\n",
    "x_test_roberta_mean, y_test_roberta_mean = pair_list_to_x_y(mapped_test_roberta_mean)"
   ]
  },
  {
   "cell_type": "code",
   "execution_count": null,
   "metadata": {},
   "outputs": [],
   "source": [
    "# Imprimir el coeficiente de correlación de Pearson\n",
    "print(f\"Correlación de Pearson (baseline-train): {compute_pearson_baseline(x_train_roberta_mean, y_train_roberta_mean)}\")\n",
    "print(f\"Correlación de Pearson (baseline-validation): {compute_pearson_baseline(x_val_roberta_mean, y_val_roberta_mean)}\")\n",
    "print(f\"Correlación de Pearson (baseline-test): {compute_pearson_baseline(x_test_roberta_mean, y_test_roberta_mean)}\")\n",
    "print('\\n')\n",
    "# Imprimir el coeficiente de correlación de Pearson\n",
    "print(f\"Correlación de Pearson (train): {compute_pearson(x_train_roberta_mean, y_train_roberta_mean, model_roberta_mean)}\")\n",
    "print(f\"Correlación de Pearson (validation): {compute_pearson(x_val_roberta_mean, y_val_roberta_mean, model_roberta_mean)}\")\n",
    "print(f\"Correlación de Pearson (test): {compute_pearson(x_test_roberta_mean, y_test_roberta_mean, model_roberta_mean)}\")"
   ]
  },
  {
   "cell_type": "markdown",
   "metadata": {},
   "source": [
    "### 5. RoBERTa fine-tuned\n",
    "---"
   ]
  },
  {
   "cell_type": "code",
   "execution_count": null,
   "metadata": {},
   "outputs": [],
   "source": [
    "%pip install tf-keras"
   ]
  },
  {
   "cell_type": "code",
   "execution_count": null,
   "metadata": {},
   "outputs": [],
   "source": [
    "from transformers import pipeline, AutoTokenizer\n",
    "from scipy.special import logit\n",
    "\n",
    "model = 'projecte-aina/roberta-base-ca-v2-cased-sts'\n",
    "tokenizer = AutoTokenizer.from_pretrained(model)\n",
    "pipe = pipeline('text-classification', model=model, tokenizer=tokenizer)\n",
    "\n",
    "def prepare(sentence_pairs):\n",
    "    '''\n",
    "    Prepares a list of sentence pairs for the RoBERTa model\n",
    "    :param sentence_pairs: the list of sentence pairs\n",
    "    :return: the prepared sentence pairs\n",
    "    '''\n",
    "    sentence_pairs_prep = []\n",
    "    for s1, s2 in sentence_pairs:\n",
    "        sentence_pairs_prep.append(f\"{tokenizer.cls_token} {s1}{tokenizer.sep_token}{tokenizer.sep_token} {s2}{tokenizer.sep_token}\")\n",
    "    return sentence_pairs_prep\n"
   ]
  },
  {
   "cell_type": "code",
   "execution_count": null,
   "metadata": {},
   "outputs": [],
   "source": [
    "predictions_list_train = []\n",
    "predictions_list_val = []\n",
    "predictions_list_test = []\n",
    "\n",
    "input_pairs_scores = [score for _, _, score in input_pairs]\n",
    "input_pairs_val_scores = [score for _, _, score in input_pairs_val]\n",
    "input_pairs_test_scores = [score for _, _, score in input_pairs_test]\n",
    "\n",
    "input_pairs_sents = [(s1, s2) for s1, s2, _ in input_pairs]\n",
    "input_pairs_val_sents = [(s1, s2) for s1, s2, _ in input_pairs_val]\n",
    "input_pairs_test_sents = [(s1, s2) for s1, s2, _ in input_pairs_test]"
   ]
  },
  {
   "cell_type": "code",
   "execution_count": null,
   "metadata": {},
   "outputs": [],
   "source": [
    "predictions_train = pipe(prepare(input_pairs_sents), add_special_tokens=False)\n",
    "predictions_val = pipe(prepare(input_pairs_val_sents), add_special_tokens=False)\n",
    "predictions_test = pipe(prepare(input_pairs_test_sents), add_special_tokens=False)"
   ]
  },
  {
   "cell_type": "code",
   "execution_count": null,
   "metadata": {},
   "outputs": [],
   "source": [
    "for prediction in predictions_train:\n",
    "    prediction['score'] = (logit(prediction['score']))\n",
    "\n",
    "for prediction in predictions_val:\n",
    "    prediction['score'] = (logit(prediction['score']))\n",
    "\n",
    "for prediction in predictions_test:\n",
    "    prediction['score'] = (logit(prediction['score']))"
   ]
  },
  {
   "cell_type": "code",
   "execution_count": null,
   "metadata": {},
   "outputs": [],
   "source": [
    "def pearson_correlation(predictions, labels):\n",
    "    '''\n",
    "    Computes the Pearson correlation between the predictions and the labels\n",
    "    :param predictions: the predicted values\n",
    "    :param labels: the true values\n",
    "    :return: the Pearson correlation\n",
    "    '''\n",
    "    return pearsonr(predictions, labels)[0]"
   ]
  },
  {
   "cell_type": "code",
   "execution_count": null,
   "metadata": {},
   "outputs": [],
   "source": [
    "for elem in predictions_train:\n",
    "    predictions_list_train.append(elem['score'])\n",
    "\n",
    "for elem in predictions_val:\n",
    "    predictions_list_val.append(elem['score'])\n",
    "\n",
    "for elem in predictions_test:\n",
    "    predictions_list_test.append(elem['score'])"
   ]
  },
  {
   "cell_type": "code",
   "execution_count": null,
   "metadata": {},
   "outputs": [],
   "source": [
    "# Imprimir el coeficiente de correlación de Pearson\n",
    "print(f\"Correlación de Pearson (train): {pearson_correlation(predictions_list_train, input_pairs_scores)}\")\n",
    "print(f\"Correlación de Pearson (validation): {pearson_correlation(predictions_list_val, input_pairs_val_scores)}\")\n",
    "print(f\"Correlación de Pearson (test): {pearson_correlation(predictions_list_test, input_pairs_test_scores)}\")"
   ]
  },
  {
   "cell_type": "markdown",
   "metadata": {},
   "source": [
    "## Model comparison\n",
    "---"
   ]
  },
  {
   "cell_type": "code",
   "execution_count": 145,
   "metadata": {},
   "outputs": [
    {
     "name": "stdout",
     "output_type": "stream",
     "text": [
      "\u001b[1m65/65\u001b[0m \u001b[32m━━━━━━━━━━━━━━━━━━━━\u001b[0m\u001b[37m\u001b[0m \u001b[1m7s\u001b[0m 100ms/step\n",
      "\u001b[1m16/16\u001b[0m \u001b[32m━━━━━━━━━━━━━━━━━━━━\u001b[0m\u001b[37m\u001b[0m \u001b[1m2s\u001b[0m 99ms/step\n",
      "\u001b[1m16/16\u001b[0m \u001b[32m━━━━━━━━━━━━━━━━━━━━\u001b[0m\u001b[37m\u001b[0m \u001b[1m2s\u001b[0m 93ms/step\n",
      "\u001b[1m65/65\u001b[0m \u001b[32m━━━━━━━━━━━━━━━━━━━━\u001b[0m\u001b[37m\u001b[0m \u001b[1m0s\u001b[0m 1ms/step\n",
      "\u001b[1m16/16\u001b[0m \u001b[32m━━━━━━━━━━━━━━━━━━━━\u001b[0m\u001b[37m\u001b[0m \u001b[1m0s\u001b[0m 1ms/step \n",
      "\u001b[1m16/16\u001b[0m \u001b[32m━━━━━━━━━━━━━━━━━━━━\u001b[0m\u001b[37m\u001b[0m \u001b[1m0s\u001b[0m 1ms/step \n"
     ]
    },
    {
     "ename": "ValueError",
     "evalue": "Input 0 of layer \"functional_19\" is incompatible with the layer: expected shape=(None, 300), found shape=(32, 0)",
     "output_type": "error",
     "traceback": [
      "\u001b[1;31m---------------------------------------------------------------------------\u001b[0m",
      "\u001b[1;31mValueError\u001b[0m                                Traceback (most recent call last)",
      "Cell \u001b[1;32mIn[145], line 19\u001b[0m\n\u001b[0;32m     16\u001b[0m pearson_val[\u001b[38;5;241m1\u001b[39m] \u001b[38;5;241m=\u001b[39m compute_pearson(x_val_spacy, y_val_spacy, model_spacy)\n\u001b[0;32m     17\u001b[0m pearson_test[\u001b[38;5;241m1\u001b[39m] \u001b[38;5;241m=\u001b[39m compute_pearson(x_test_spacy, y_test_spacy, model_spacy)\n\u001b[1;32m---> 19\u001b[0m pearson_train[\u001b[38;5;241m2\u001b[39m] \u001b[38;5;241m=\u001b[39m \u001b[43mcompute_pearson\u001b[49m\u001b[43m(\u001b[49m\u001b[43mx_train_roberta\u001b[49m\u001b[43m,\u001b[49m\u001b[43m \u001b[49m\u001b[43my_train_roberta\u001b[49m\u001b[43m,\u001b[49m\u001b[43m \u001b[49m\u001b[43mmodel_roberta\u001b[49m\u001b[43m)\u001b[49m\n\u001b[0;32m     20\u001b[0m pearson_val[\u001b[38;5;241m2\u001b[39m] \u001b[38;5;241m=\u001b[39m compute_pearson(x_val_roberta, y_val_roberta, model_roberta)\n\u001b[0;32m     21\u001b[0m pearson_test[\u001b[38;5;241m2\u001b[39m] \u001b[38;5;241m=\u001b[39m compute_pearson(x_test_roberta, y_test_roberta, model_roberta)\n",
      "Cell \u001b[1;32mIn[17], line 3\u001b[0m, in \u001b[0;36mcompute_pearson\u001b[1;34m(x_, y_, model)\u001b[0m\n\u001b[0;32m      1\u001b[0m \u001b[38;5;28;01mdef\u001b[39;00m \u001b[38;5;21mcompute_pearson\u001b[39m(x_, y_,model):\n\u001b[0;32m      2\u001b[0m     \u001b[38;5;66;03m# Obtener las predicciones del modelo para los datos de prueba. En este ejemplo vamos a utilizar el corpus de training.\u001b[39;00m\n\u001b[1;32m----> 3\u001b[0m     y_pred \u001b[38;5;241m=\u001b[39m \u001b[43mmodel\u001b[49m\u001b[38;5;241;43m.\u001b[39;49m\u001b[43mpredict\u001b[49m\u001b[43m(\u001b[49m\u001b[43mx_\u001b[49m\u001b[43m)\u001b[49m\n\u001b[0;32m      4\u001b[0m     \u001b[38;5;66;03m# Calcular la correlación de Pearson entre las predicciones y los datos de prueba\u001b[39;00m\n\u001b[0;32m      5\u001b[0m     correlation, _ \u001b[38;5;241m=\u001b[39m pearsonr(y_pred\u001b[38;5;241m.\u001b[39mflatten(), y_\u001b[38;5;241m.\u001b[39mflatten())\n",
      "File \u001b[1;32md:\\GitHub\\PLH4---Embeddings\\.venv\\Lib\\site-packages\\keras\\src\\utils\\traceback_utils.py:122\u001b[0m, in \u001b[0;36mfilter_traceback.<locals>.error_handler\u001b[1;34m(*args, **kwargs)\u001b[0m\n\u001b[0;32m    119\u001b[0m     filtered_tb \u001b[38;5;241m=\u001b[39m _process_traceback_frames(e\u001b[38;5;241m.\u001b[39m__traceback__)\n\u001b[0;32m    120\u001b[0m     \u001b[38;5;66;03m# To get the full stack trace, call:\u001b[39;00m\n\u001b[0;32m    121\u001b[0m     \u001b[38;5;66;03m# `keras.config.disable_traceback_filtering()`\u001b[39;00m\n\u001b[1;32m--> 122\u001b[0m     \u001b[38;5;28;01mraise\u001b[39;00m e\u001b[38;5;241m.\u001b[39mwith_traceback(filtered_tb) \u001b[38;5;28;01mfrom\u001b[39;00m \u001b[38;5;28;01mNone\u001b[39;00m\n\u001b[0;32m    123\u001b[0m \u001b[38;5;28;01mfinally\u001b[39;00m:\n\u001b[0;32m    124\u001b[0m     \u001b[38;5;28;01mdel\u001b[39;00m filtered_tb\n",
      "File \u001b[1;32md:\\GitHub\\PLH4---Embeddings\\.venv\\Lib\\site-packages\\keras\\src\\layers\\input_spec.py:245\u001b[0m, in \u001b[0;36massert_input_compatibility\u001b[1;34m(input_spec, inputs, layer_name)\u001b[0m\n\u001b[0;32m    243\u001b[0m \u001b[38;5;28;01mif\u001b[39;00m spec_dim \u001b[38;5;129;01mis\u001b[39;00m \u001b[38;5;129;01mnot\u001b[39;00m \u001b[38;5;28;01mNone\u001b[39;00m \u001b[38;5;129;01mand\u001b[39;00m dim \u001b[38;5;129;01mis\u001b[39;00m \u001b[38;5;129;01mnot\u001b[39;00m \u001b[38;5;28;01mNone\u001b[39;00m:\n\u001b[0;32m    244\u001b[0m     \u001b[38;5;28;01mif\u001b[39;00m spec_dim \u001b[38;5;241m!=\u001b[39m dim:\n\u001b[1;32m--> 245\u001b[0m         \u001b[38;5;28;01mraise\u001b[39;00m \u001b[38;5;167;01mValueError\u001b[39;00m(\n\u001b[0;32m    246\u001b[0m             \u001b[38;5;124mf\u001b[39m\u001b[38;5;124m'\u001b[39m\u001b[38;5;124mInput \u001b[39m\u001b[38;5;132;01m{\u001b[39;00minput_index\u001b[38;5;132;01m}\u001b[39;00m\u001b[38;5;124m of layer \u001b[39m\u001b[38;5;124m\"\u001b[39m\u001b[38;5;132;01m{\u001b[39;00mlayer_name\u001b[38;5;132;01m}\u001b[39;00m\u001b[38;5;124m\"\u001b[39m\u001b[38;5;124m is \u001b[39m\u001b[38;5;124m'\u001b[39m\n\u001b[0;32m    247\u001b[0m             \u001b[38;5;124m\"\u001b[39m\u001b[38;5;124mincompatible with the layer: \u001b[39m\u001b[38;5;124m\"\u001b[39m\n\u001b[0;32m    248\u001b[0m             \u001b[38;5;124mf\u001b[39m\u001b[38;5;124m\"\u001b[39m\u001b[38;5;124mexpected shape=\u001b[39m\u001b[38;5;132;01m{\u001b[39;00mspec\u001b[38;5;241m.\u001b[39mshape\u001b[38;5;132;01m}\u001b[39;00m\u001b[38;5;124m, \u001b[39m\u001b[38;5;124m\"\u001b[39m\n\u001b[0;32m    249\u001b[0m             \u001b[38;5;124mf\u001b[39m\u001b[38;5;124m\"\u001b[39m\u001b[38;5;124mfound shape=\u001b[39m\u001b[38;5;132;01m{\u001b[39;00mshape\u001b[38;5;132;01m}\u001b[39;00m\u001b[38;5;124m\"\u001b[39m\n\u001b[0;32m    250\u001b[0m         )\n",
      "\u001b[1;31mValueError\u001b[0m: Input 0 of layer \"functional_19\" is incompatible with the layer: expected shape=(None, 300), found shape=(32, 0)"
     ]
    }
   ],
   "source": [
    "#plot all the results form all the different models\n",
    "import matplotlib.pyplot as plt\n",
    "\n",
    "# Define the models\n",
    "models = ['OH', 'SPACY', 'ROBERTA', 'ROBERTA_MEAN', 'W2V + MEAN', 'W2V + TFIDF', 'ROBERTA_FT']\n",
    "pearson_train = [0.0, 0.0, 0.0, 0.0, 0.0, 0.0]\n",
    "pearson_val = [0.0, 0.0, 0.0, 0.0, 0.0, 0.0]\n",
    "pearson_test = [0.0, 0.0, 0.0, 0.0, 0.0, 0.0]\n",
    "\n",
    "# Fill the results\n",
    "pearson_train[0] = compute_pearson(x_train_OH, y_train_OH, model_OH)\n",
    "pearson_val[0] = compute_pearson(x_val_OH, y_val_OH, model_OH)\n",
    "pearson_test[0] = compute_pearson(x_test_OH, y_test_OH, model_OH)\n",
    "\n",
    "pearson_train[1] = compute_pearson(x_train_spacy, y_train_spacy, model_spacy)\n",
    "pearson_val[1] = compute_pearson(x_val_spacy, y_val_spacy, model_spacy)\n",
    "pearson_test[1] = compute_pearson(x_test_spacy, y_test_spacy, model_spacy)\n",
    "\n",
    "pearson_train[2] = compute_pearson(x_train_roberta, y_train_roberta, model_roberta)\n",
    "pearson_val[2] = compute_pearson(x_val_roberta, y_val_roberta, model_roberta)\n",
    "pearson_test[2] = compute_pearson(x_test_roberta, y_test_roberta, model_roberta)\n",
    "\n",
    "pearson_train[3] = compute_pearson(x_train_roberta_mean, y_train_roberta_mean, model_roberta_mean)\n",
    "pearson_val[3] = compute_pearson(x_val_roberta_mean, y_val_roberta_mean, model_roberta_mean)\n",
    "pearson_test[3] = compute_pearson(x_test_roberta_mean, y_test_roberta_mean, model_roberta_mean)\n",
    "\n",
    "pearson_train[4] = compute_pearson(x_train_w2v_mean, y_train_w2v_mean, model_w2v_mean)\n",
    "pearson_val[4] = compute_pearson(x_val_w2v_mean, y_val_w2v_mean, model_w2v_mean)\n",
    "pearson_test[4] = compute_pearson(x_test_w2v_mean, y_test_w2v_mean, model_w2v_mean)\n",
    "\n",
    "pearson_train[5] = compute_pearson(x_train_w2v_tfidf, y_train_w2v_tfidf, model_w2v_tfidf)\n",
    "pearson_val[5] = compute_pearson(x_val_w2v_tfidf, y_val_w2v_tfidf, model_w2v_tfidf)\n",
    "pearson_test[5] = compute_pearson(x_test_w2v_tfidf, y_test_w2v_tfidf, model_w2v_tfidf)\n",
    "\n",
    "pearson_train[6] = pearson_correlation(predictions_list_train, input_pairs_scores)\n",
    "pearson_val[6] = pearson_correlation(predictions_list_val, input_pairs_val_scores)\n",
    "pearson_test[6] = pearson_correlation(predictions_list_test, input_pairs_test_scores)\n",
    "\n",
    "# Plot the results\n",
    "fig, ax = plt.subplots(1, 3, figsize=(18, 6))\n",
    "ax[0].bar(models, pearson_train)\n",
    "ax[0].set_title('Train')\n",
    "ax[0].set_ylim([0.0, 1.0])\n",
    "ax[1].bar(models, pearson_val)\n",
    "ax[1].set_title('Validation')\n",
    "ax[1].set_ylim([0.0, 1.0])\n",
    "ax[2].bar(models, pearson_test)\n",
    "ax[2].set_title('Test')\n",
    "ax[2].set_ylim([0.0, 1.0])\n",
    "plt.show()"
   ]
  },
  {
   "cell_type": "markdown",
   "metadata": {},
   "source": [
    "## Conclusions\n",
    "---"
   ]
  },
  {
   "cell_type": "markdown",
   "metadata": {},
   "source": [
    "After trying out all the models, we can see that the best model is the RoBERTa fine-tuned model. It has the best performance in the text similarity task, but we can asume that this performance is reflecting the fact that we are using the same sentences that were used to create the model. So, excluding this model, the best model is the Word2Vec model using the weighted mean of the vectors. Even though this is the model that obtained the best results, it is important to mention that none of the models had a good performance in the text similarity task. This is probably due to the fact that the dataset is too small and the sentences are too similar to each other. In a real world scenario, it would be difficult to use any of this models to compare the similarity of two sentences. \n",
    "\n",
    "## Future work\n",
    "\n",
    "In the future, trying out the model with trainable embeddings could be a good idea, as stated in the requirements of the project. Due to internal problems and a lack of time I could not complete that part, so it is not included in the final notebook. Even tho the job is not finished and could be improved in a lot of ways, I can affirm that I learned and interiorized a lot of concepts and techniques that were mentioned in class but i did not really understand.\n",
    "\n",
    "Other improvements could be a better exploration of the data to perform a better preprocessing, and a possible exploration of the hyperparams of the models to improve the performance. A proper report would also be a good idea to explain the results and the process in a more detailed way, and to show the results in a more explanatory way."
   ]
  }
 ],
 "metadata": {
  "kernelspec": {
   "display_name": ".venv",
   "language": "python",
   "name": "python3"
  },
  "language_info": {
   "codemirror_mode": {
    "name": "ipython",
    "version": 3
   },
   "file_extension": ".py",
   "mimetype": "text/x-python",
   "name": "python",
   "nbconvert_exporter": "python",
   "pygments_lexer": "ipython3",
   "version": "3.11.3"
  }
 },
 "nbformat": 4,
 "nbformat_minor": 2
}
